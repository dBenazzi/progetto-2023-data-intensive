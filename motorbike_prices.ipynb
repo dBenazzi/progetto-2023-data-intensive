{
  "nbformat": 4,
  "nbformat_minor": 0,
  "metadata": {
    "colab": {
      "provenance": [],
      "gpuType": "T4",
      "toc_visible": true,
      "include_colab_link": true
    },
    "kernelspec": {
      "name": "python3",
      "display_name": "Python 3"
    },
    "language_info": {
      "name": "python"
    }
  },
  "cells": [
    {
      "cell_type": "markdown",
      "metadata": {
        "id": "view-in-github",
        "colab_type": "text"
      },
      "source": [
        "<a href=\"https://colab.research.google.com/github/dBenazzi/progetto-2023-data-intensive/blob/main/motorbike_prices.ipynb\" target=\"_parent\"><img src=\"https://colab.research.google.com/assets/colab-badge.svg\" alt=\"Open In Colab\"/></a>"
      ]
    },
    {
      "cell_type": "markdown",
      "source": [
        "# predizione prezzo di vendita di motocicli  \n",
        "*progetto programmazione di applicazioni data intensive*  \n",
        "Daniel Benazzi - daniel.benazzi@studio.unibo.it"
      ],
      "metadata": {
        "id": "eku-sYnN4Xgz"
      }
    },
    {
      "cell_type": "markdown",
      "source": [
        "# introduzione"
      ],
      "metadata": {
        "id": "rLVQZ58m5Viv"
      }
    },
    {
      "cell_type": "markdown",
      "source": [
        "I dati presi in esame riguardano la vendita, di circa 32.000 motociclette usate, in India nell'anno 2015.  \n",
        "Si cerca di prevedere il **prezzo** di vendita.  \n",
        "Il dataset puo essere scaricato da [Kaggle](https://www.kaggle.com/datasets/saisaathvik/used-bikes-prices-in-india?datasetId=1381603) e i dati originano da un sito per la compravendita di veicoli ([droom.in](https://www.droom.in) )"
      ],
      "metadata": {
        "id": "R5q2aMJK5_Ea"
      }
    },
    {
      "cell_type": "markdown",
      "source": [
        "segue l'installazione e l'import di alcune librerie, la definizione di alcune constanti e lo scaricamento dei dati"
      ],
      "metadata": {
        "id": "IjgqsMW1-De8"
      }
    },
    {
      "cell_type": "code",
      "source": [
        "# !pip install requests # libreria per il download dei dati\n",
        "import pandas as pd\n",
        "import numpy as np\n",
        "import matplotlib.pyplot as plt\n",
        "import sklearn"
      ],
      "metadata": {
        "id": "_TqQqp6Y-Mix"
      },
      "execution_count": null,
      "outputs": []
    },
    {
      "cell_type": "code",
      "source": [
        "_FILE_PATH = \"./used-bikes.zip\"\n",
        "_FILE_URL = \"https://github.com/dBenazzi/progetto-2023-data-intensive/raw/main/used-bikes.zip\"\n",
        "\n",
        "_RANDOM_STATE = 19\n",
        "_TEST_SIZE = 1/3\n",
        "_N_SPLITS = 5"
      ],
      "metadata": {
        "id": "EeiPlf-hf8Xp"
      },
      "execution_count": null,
      "outputs": []
    },
    {
      "cell_type": "code",
      "source": [
        "from os.path import exists\n",
        "\n",
        "# download file\n",
        "if not exists(_FILE_PATH):\n",
        "  import requests\n",
        "  open(_FILE_PATH, \"wb\").write(requests.get(_FILE_URL).content)\n",
        "\n",
        "data = pd.read_csv(_FILE_PATH, sep=\",\", compression=\"zip\")"
      ],
      "metadata": {
        "id": "nlNu_Mnt-OMY"
      },
      "execution_count": null,
      "outputs": []
    },
    {
      "cell_type": "markdown",
      "source": [
        "# Analisi dei dati"
      ],
      "metadata": {
        "id": "5dfquH735W-Z"
      }
    },
    {
      "cell_type": "code",
      "source": [
        "data.head(5)"
      ],
      "metadata": {
        "id": "4oHFXtwdilcH",
        "colab": {
          "base_uri": "https://localhost:8080/",
          "height": 206
        },
        "outputId": "3d445d4d-0597-46e2-8c0a-99bdbff12ca2"
      },
      "execution_count": null,
      "outputs": [
        {
          "output_type": "execute_result",
          "data": {
            "text/plain": [
              "                              bike_name     price       city  kms_driven  \\\n",
              "0    TVS Star City Plus Dual Tone 110cc   35000.0  Ahmedabad     17654.0   \n",
              "1           Royal Enfield Classic 350cc  119900.0      Delhi     11000.0   \n",
              "2                  Triumph Daytona 675R  600000.0      Delhi       110.0   \n",
              "3                  TVS Apache RTR 180cc   65000.0  Bangalore     16329.0   \n",
              "4  Yamaha FZ S V 2.0 150cc-Ltd. Edition   80000.0  Bangalore     10000.0   \n",
              "\n",
              "         owner  age  power          brand  \n",
              "0  First Owner  3.0  110.0            TVS  \n",
              "1  First Owner  4.0  350.0  Royal Enfield  \n",
              "2  First Owner  8.0  675.0        Triumph  \n",
              "3  First Owner  4.0  180.0            TVS  \n",
              "4  First Owner  3.0  150.0         Yamaha  "
            ],
            "text/html": [
              "\n",
              "  <div id=\"df-47fdea55-5e58-494d-a88b-d258ee858f07\">\n",
              "    <div class=\"colab-df-container\">\n",
              "      <div>\n",
              "<style scoped>\n",
              "    .dataframe tbody tr th:only-of-type {\n",
              "        vertical-align: middle;\n",
              "    }\n",
              "\n",
              "    .dataframe tbody tr th {\n",
              "        vertical-align: top;\n",
              "    }\n",
              "\n",
              "    .dataframe thead th {\n",
              "        text-align: right;\n",
              "    }\n",
              "</style>\n",
              "<table border=\"1\" class=\"dataframe\">\n",
              "  <thead>\n",
              "    <tr style=\"text-align: right;\">\n",
              "      <th></th>\n",
              "      <th>bike_name</th>\n",
              "      <th>price</th>\n",
              "      <th>city</th>\n",
              "      <th>kms_driven</th>\n",
              "      <th>owner</th>\n",
              "      <th>age</th>\n",
              "      <th>power</th>\n",
              "      <th>brand</th>\n",
              "    </tr>\n",
              "  </thead>\n",
              "  <tbody>\n",
              "    <tr>\n",
              "      <th>0</th>\n",
              "      <td>TVS Star City Plus Dual Tone 110cc</td>\n",
              "      <td>35000.0</td>\n",
              "      <td>Ahmedabad</td>\n",
              "      <td>17654.0</td>\n",
              "      <td>First Owner</td>\n",
              "      <td>3.0</td>\n",
              "      <td>110.0</td>\n",
              "      <td>TVS</td>\n",
              "    </tr>\n",
              "    <tr>\n",
              "      <th>1</th>\n",
              "      <td>Royal Enfield Classic 350cc</td>\n",
              "      <td>119900.0</td>\n",
              "      <td>Delhi</td>\n",
              "      <td>11000.0</td>\n",
              "      <td>First Owner</td>\n",
              "      <td>4.0</td>\n",
              "      <td>350.0</td>\n",
              "      <td>Royal Enfield</td>\n",
              "    </tr>\n",
              "    <tr>\n",
              "      <th>2</th>\n",
              "      <td>Triumph Daytona 675R</td>\n",
              "      <td>600000.0</td>\n",
              "      <td>Delhi</td>\n",
              "      <td>110.0</td>\n",
              "      <td>First Owner</td>\n",
              "      <td>8.0</td>\n",
              "      <td>675.0</td>\n",
              "      <td>Triumph</td>\n",
              "    </tr>\n",
              "    <tr>\n",
              "      <th>3</th>\n",
              "      <td>TVS Apache RTR 180cc</td>\n",
              "      <td>65000.0</td>\n",
              "      <td>Bangalore</td>\n",
              "      <td>16329.0</td>\n",
              "      <td>First Owner</td>\n",
              "      <td>4.0</td>\n",
              "      <td>180.0</td>\n",
              "      <td>TVS</td>\n",
              "    </tr>\n",
              "    <tr>\n",
              "      <th>4</th>\n",
              "      <td>Yamaha FZ S V 2.0 150cc-Ltd. Edition</td>\n",
              "      <td>80000.0</td>\n",
              "      <td>Bangalore</td>\n",
              "      <td>10000.0</td>\n",
              "      <td>First Owner</td>\n",
              "      <td>3.0</td>\n",
              "      <td>150.0</td>\n",
              "      <td>Yamaha</td>\n",
              "    </tr>\n",
              "  </tbody>\n",
              "</table>\n",
              "</div>\n",
              "      <button class=\"colab-df-convert\" onclick=\"convertToInteractive('df-47fdea55-5e58-494d-a88b-d258ee858f07')\"\n",
              "              title=\"Convert this dataframe to an interactive table.\"\n",
              "              style=\"display:none;\">\n",
              "        \n",
              "  <svg xmlns=\"http://www.w3.org/2000/svg\" height=\"24px\"viewBox=\"0 0 24 24\"\n",
              "       width=\"24px\">\n",
              "    <path d=\"M0 0h24v24H0V0z\" fill=\"none\"/>\n",
              "    <path d=\"M18.56 5.44l.94 2.06.94-2.06 2.06-.94-2.06-.94-.94-2.06-.94 2.06-2.06.94zm-11 1L8.5 8.5l.94-2.06 2.06-.94-2.06-.94L8.5 2.5l-.94 2.06-2.06.94zm10 10l.94 2.06.94-2.06 2.06-.94-2.06-.94-.94-2.06-.94 2.06-2.06.94z\"/><path d=\"M17.41 7.96l-1.37-1.37c-.4-.4-.92-.59-1.43-.59-.52 0-1.04.2-1.43.59L10.3 9.45l-7.72 7.72c-.78.78-.78 2.05 0 2.83L4 21.41c.39.39.9.59 1.41.59.51 0 1.02-.2 1.41-.59l7.78-7.78 2.81-2.81c.8-.78.8-2.07 0-2.86zM5.41 20L4 18.59l7.72-7.72 1.47 1.35L5.41 20z\"/>\n",
              "  </svg>\n",
              "      </button>\n",
              "      \n",
              "  <style>\n",
              "    .colab-df-container {\n",
              "      display:flex;\n",
              "      flex-wrap:wrap;\n",
              "      gap: 12px;\n",
              "    }\n",
              "\n",
              "    .colab-df-convert {\n",
              "      background-color: #E8F0FE;\n",
              "      border: none;\n",
              "      border-radius: 50%;\n",
              "      cursor: pointer;\n",
              "      display: none;\n",
              "      fill: #1967D2;\n",
              "      height: 32px;\n",
              "      padding: 0 0 0 0;\n",
              "      width: 32px;\n",
              "    }\n",
              "\n",
              "    .colab-df-convert:hover {\n",
              "      background-color: #E2EBFA;\n",
              "      box-shadow: 0px 1px 2px rgba(60, 64, 67, 0.3), 0px 1px 3px 1px rgba(60, 64, 67, 0.15);\n",
              "      fill: #174EA6;\n",
              "    }\n",
              "\n",
              "    [theme=dark] .colab-df-convert {\n",
              "      background-color: #3B4455;\n",
              "      fill: #D2E3FC;\n",
              "    }\n",
              "\n",
              "    [theme=dark] .colab-df-convert:hover {\n",
              "      background-color: #434B5C;\n",
              "      box-shadow: 0px 1px 3px 1px rgba(0, 0, 0, 0.15);\n",
              "      filter: drop-shadow(0px 1px 2px rgba(0, 0, 0, 0.3));\n",
              "      fill: #FFFFFF;\n",
              "    }\n",
              "  </style>\n",
              "\n",
              "      <script>\n",
              "        const buttonEl =\n",
              "          document.querySelector('#df-47fdea55-5e58-494d-a88b-d258ee858f07 button.colab-df-convert');\n",
              "        buttonEl.style.display =\n",
              "          google.colab.kernel.accessAllowed ? 'block' : 'none';\n",
              "\n",
              "        async function convertToInteractive(key) {\n",
              "          const element = document.querySelector('#df-47fdea55-5e58-494d-a88b-d258ee858f07');\n",
              "          const dataTable =\n",
              "            await google.colab.kernel.invokeFunction('convertToInteractive',\n",
              "                                                     [key], {});\n",
              "          if (!dataTable) return;\n",
              "\n",
              "          const docLinkHtml = 'Like what you see? Visit the ' +\n",
              "            '<a target=\"_blank\" href=https://colab.research.google.com/notebooks/data_table.ipynb>data table notebook</a>'\n",
              "            + ' to learn more about interactive tables.';\n",
              "          element.innerHTML = '';\n",
              "          dataTable['output_type'] = 'display_data';\n",
              "          await google.colab.output.renderOutput(dataTable, element);\n",
              "          const docLink = document.createElement('div');\n",
              "          docLink.innerHTML = docLinkHtml;\n",
              "          element.appendChild(docLink);\n",
              "        }\n",
              "      </script>\n",
              "    </div>\n",
              "  </div>\n",
              "  "
            ]
          },
          "metadata": {},
          "execution_count": 138
        }
      ]
    },
    {
      "cell_type": "markdown",
      "source": [
        "### caratteristiche delle colonne\n",
        "- *bike_name*: nome e descrizione modello (stringa)\n",
        "- *price*: prezzo di rivendita in rupie indiane (float)\n",
        "- *city*: città di messa in vendita (stringa)\n",
        "- *kms_driven*: numero di Km della moto (float)\n",
        "- *owner*: indica il numero di proprietari precedenti (stringa)\n",
        "- *age*: anni della moto (int)\n",
        "- *power*: volume in cm^3 del motore (float)\n",
        "- *brand*: nome del produttore (stringa)\n"
      ],
      "metadata": {
        "id": "1U7AyfK9jpDe"
      }
    },
    {
      "cell_type": "code",
      "source": [
        "data.info(memory_usage=\"deep\")"
      ],
      "metadata": {
        "id": "Gn6eAL9h3PiB",
        "colab": {
          "base_uri": "https://localhost:8080/"
        },
        "outputId": "17dff471-00e1-4cce-d3db-b3b24e911390"
      },
      "execution_count": null,
      "outputs": [
        {
          "output_type": "stream",
          "name": "stdout",
          "text": [
            "<class 'pandas.core.frame.DataFrame'>\n",
            "RangeIndex: 32648 entries, 0 to 32647\n",
            "Data columns (total 8 columns):\n",
            " #   Column      Non-Null Count  Dtype  \n",
            "---  ------      --------------  -----  \n",
            " 0   bike_name   32648 non-null  object \n",
            " 1   price       32648 non-null  float64\n",
            " 2   city        32648 non-null  object \n",
            " 3   kms_driven  32648 non-null  float64\n",
            " 4   owner       32648 non-null  object \n",
            " 5   age         32648 non-null  float64\n",
            " 6   power       32648 non-null  float64\n",
            " 7   brand       32648 non-null  object \n",
            "dtypes: float64(4), object(4)\n",
            "memory usage: 9.5 MB\n"
          ]
        }
      ]
    },
    {
      "cell_type": "markdown",
      "source": [
        "Come si può vedere i dati sono stati caricati come tipi `float` e `Object`.\n",
        "Questi possono essere modificati per permettere un accesso più efficiente durante l'utilizzo del dataframe.  \n",
        "In particolare i dati indicati sopra come stringa sono nominali, questo vuol dire che possono assumere solo un numero limitato di valori, pur essendo stringhe, in Pandas vengono definiti `Categorical`.  \n",
        "Si procede a creare un nuovo dataframe con il tipo di dato aggiornato."
      ],
      "metadata": {
        "id": "uRxaUaxU2yNe"
      }
    },
    {
      "cell_type": "code",
      "source": [
        "dtypes_map = {\n",
        "    \"age\": \"int\",\n",
        "    \"bike_name\": \"category\",\n",
        "    \"city\": \"category\",\n",
        "    \"owner\": \"category\",\n",
        "    \"brand\": \"category\"\n",
        "}\n",
        "full_data = pd.read_csv(_FILE_PATH, sep=\",\", compression=\"zip\", dtype=dtypes_map)\n",
        "full_data.info(memory_usage=\"deep\")"
      ],
      "metadata": {
        "id": "0RHu55gR56Nr",
        "colab": {
          "base_uri": "https://localhost:8080/"
        },
        "outputId": "7a04090b-e5e6-418d-8c6e-bd7616ab4bbd"
      },
      "execution_count": null,
      "outputs": [
        {
          "output_type": "stream",
          "name": "stdout",
          "text": [
            "<class 'pandas.core.frame.DataFrame'>\n",
            "RangeIndex: 32648 entries, 0 to 32647\n",
            "Data columns (total 8 columns):\n",
            " #   Column      Non-Null Count  Dtype   \n",
            "---  ------      --------------  -----   \n",
            " 0   bike_name   32648 non-null  category\n",
            " 1   price       32648 non-null  float64 \n",
            " 2   city        32648 non-null  category\n",
            " 3   kms_driven  32648 non-null  float64 \n",
            " 4   owner       32648 non-null  category\n",
            " 5   age         32648 non-null  int64   \n",
            " 6   power       32648 non-null  float64 \n",
            " 7   brand       32648 non-null  category\n",
            "dtypes: category(4), float64(3), int64(1)\n",
            "memory usage: 1.3 MB\n"
          ]
        }
      ]
    },
    {
      "cell_type": "markdown",
      "source": [
        "## Esplorazione dei dati\n",
        "Si esegue un'analisi dei dati al fine di capire: come manipolarli nella fase di processamento e quali siano i più rilevanti per i modelli che verranno addestrati."
      ],
      "metadata": {
        "id": "WiPdncGzCQdD"
      }
    },
    {
      "cell_type": "code",
      "source": [
        "numerical = [\"price\", \"kms_driven\", \"age\", \"power\"]\n",
        "categorical = [\"bike_name\", \"city\", \"owner\", \"brand\"]"
      ],
      "metadata": {
        "id": "_JdoHIcOFTC-"
      },
      "execution_count": null,
      "outputs": []
    },
    {
      "cell_type": "markdown",
      "source": [
        "### dati numerici\n",
        "Si procede con l'analisi della distribuzione dei dati di tipo numerico"
      ],
      "metadata": {
        "id": "b_-ZQZSCDGHZ"
      }
    },
    {
      "cell_type": "code",
      "source": [
        "def numerical_hist_subplot(x, y, columns, titles, xlabels, scale):\n",
        "    n = len(columns)\n",
        "    plt.figure(figsize=(15,10))\n",
        "    for i in range(0,n):\n",
        "      plt.subplot(x, y, i+1)\n",
        "      plt.hist(full_data[columns[i]], log=scale[i], rwidth=0.8)\n",
        "      plt.title(titles[i])\n",
        "      plt.xlabel(xlabels[i])\n",
        "\n",
        "def numerical_box_subplot(x, y, columns, titles, xlabels):\n",
        "    n = len(columns)\n",
        "    plt.figure(figsize=(15,10))\n",
        "    for i in range(0,n):\n",
        "      plt.subplot(x, y, i+1)\n",
        "      plt.boxplot(full_data[columns[i]], vert=False)\n",
        "      plt.title(titles[i])\n",
        "      plt.xlabel(xlabels[i])"
      ],
      "metadata": {
        "id": "HZBnjCPpGTSP"
      },
      "execution_count": null,
      "outputs": []
    },
    {
      "cell_type": "code",
      "source": [
        "numerical_hist_subplot(2, 2,\n",
        "                      numerical, \n",
        "                      [\"price\", \"kms the bike has been driven for\", \"age of the bike\", \"displacement of the engine\"],\n",
        "                      [\"indian rupee\", \"Km\", \"years\", \"cm^3\"],\n",
        "                      [True, True, True, True])"
      ],
      "metadata": {
        "id": "MofzdYwCJdvE",
        "colab": {
          "base_uri": "https://localhost:8080/",
          "height": 872
        },
        "outputId": "2c85e13b-28dd-400b-fcee-da2a804d4ab9"
      },
      "execution_count": null,
      "outputs": [
        {
          "output_type": "display_data",
          "data": {
            "text/plain": [
              "<Figure size 1500x1000 with 4 Axes>"
            ],
            "image/png": "[encoded data removed]"
          },
          "metadata": {}
        }
      ]
    },
    {
      "cell_type": "markdown",
      "source": [
        "I grafici mostrano la distribuzione dei dati con una **scala logaritmica** lungo l'asse y.  \n",
        "possiamo quindi notare come le distribuzioni siano sbilanciate verso valori \"**bassi**\" delle features mostrate.  \n",
        "\n",
        "In fase di preprocessamento potranno essere eliminati dei dati appartenenti all'estremo superiore al fine di migliorare l'addestramento dei modelli.  \n",
        "Avendo molti valori lontani dal valore medio non potrà essere usata la normalizzazione dei dati; rimane possibile applicare la standardizzazione."
      ],
      "metadata": {
        "id": "mcExFt5JRu8e"
      }
    },
    {
      "cell_type": "markdown",
      "source": [
        "Si analizza ora la distribuzione dei dati attraverso dei boxplot"
      ],
      "metadata": {
        "id": "f6DZOzNRVXJV"
      }
    },
    {
      "cell_type": "code",
      "source": [
        "numerical_box_subplot(2, 2,\n",
        "                      numerical, \n",
        "                      [\"price\", \"kms the bike has been driven for\", \"age of the bike\", \"displacement of the engine\"],\n",
        "                      [\"indian rupee\", \"Km\", \"years\", \"cm^3\"])"
      ],
      "metadata": {
        "id": "ZiuqfW1mYwsg",
        "colab": {
          "base_uri": "https://localhost:8080/",
          "height": 872
        },
        "outputId": "ff22752c-8073-4936-fab3-b3ce4aea8a14"
      },
      "execution_count": null,
      "outputs": [
        {
          "output_type": "display_data",
          "data": {
            "text/plain": [
              "<Figure size 1500x1000 with 4 Axes>"
            ],
            "image/png": "[encoded data removed]"
          },
          "metadata": {}
        }
      ]
    },
    {
      "cell_type": "markdown",
      "source": [
        "I boxplot confermano come la distribuzione dei dati non sia di tipo normale.  \n",
        "Va sottolineato che i dati mostrati come *outliars* nel box plot (fatta eccezzione per i casi estremi) non possano essere considerati veramente come tali, quindi rimuovendoli dal dataset per l'addestramento, le previsioni non sarebbero veritiere.\n",
        "\n",
        "Si può tuttavia mostrare la percentuale dei valori appartenenti all'intervallo `[media-dev. standard ; media+dev. standard]` per conoscerne meglio la distribuzione"
      ],
      "metadata": {
        "id": "VNdcH8fuag_E"
      }
    },
    {
      "cell_type": "code",
      "source": [
        "info = full_data[numerical].agg([\"count\", \"mean\", \"std\"])\n",
        "row_c = {}\n",
        "row_p = {}\n",
        "for col in numerical:\n",
        "  serie = full_data[col]\n",
        "  mean = serie.mean()\n",
        "  std = serie.std()\n",
        "  count = (serie <= (mean+std)) & (serie >= (mean-std))\n",
        "  row_p[col] = count.sum()/len(serie)\n",
        "  row_c[col] = count.sum()\n",
        "info.loc[\"count in std range\"] = row_c\n",
        "info.loc[\"percentange in std range\"] = row_p\n",
        "info"
      ],
      "metadata": {
        "id": "vXnTGOpw_6FJ",
        "colab": {
          "base_uri": "https://localhost:8080/",
          "height": 206
        },
        "outputId": "cc036246-56b0-40d9-b4f2-9aa8177d49d5"
      },
      "execution_count": null,
      "outputs": [
        {
          "output_type": "execute_result",
          "data": {
            "text/plain": [
              "                                 price    kms_driven           age  \\\n",
              "count                     32648.000000  32648.000000  32648.000000   \n",
              "mean                      68295.417637  26344.625184      8.048211   \n",
              "std                       90718.595205  22208.527695      4.031700   \n",
              "count in std range        30649.000000  24865.000000  20750.000000   \n",
              "percentange in std range      0.938771      0.761609      0.635567   \n",
              "\n",
              "                                 power  \n",
              "count                     32648.000000  \n",
              "mean                        213.511302  \n",
              "std                         134.428868  \n",
              "count in std range        25993.000000  \n",
              "percentange in std range      0.796159  "
            ],
            "text/html": [
              "\n",
              "  <div id=\"df-c1f763eb-5e55-4b00-b202-bf333828ddc9\">\n",
              "    <div class=\"colab-df-container\">\n",
              "      <div>\n",
              "<style scoped>\n",
              "    .dataframe tbody tr th:only-of-type {\n",
              "        vertical-align: middle;\n",
              "    }\n",
              "\n",
              "    .dataframe tbody tr th {\n",
              "        vertical-align: top;\n",
              "    }\n",
              "\n",
              "    .dataframe thead th {\n",
              "        text-align: right;\n",
              "    }\n",
              "</style>\n",
              "<table border=\"1\" class=\"dataframe\">\n",
              "  <thead>\n",
              "    <tr style=\"text-align: right;\">\n",
              "      <th></th>\n",
              "      <th>price</th>\n",
              "      <th>kms_driven</th>\n",
              "      <th>age</th>\n",
              "      <th>power</th>\n",
              "    </tr>\n",
              "  </thead>\n",
              "  <tbody>\n",
              "    <tr>\n",
              "      <th>count</th>\n",
              "      <td>32648.000000</td>\n",
              "      <td>32648.000000</td>\n",
              "      <td>32648.000000</td>\n",
              "      <td>32648.000000</td>\n",
              "    </tr>\n",
              "    <tr>\n",
              "      <th>mean</th>\n",
              "      <td>68295.417637</td>\n",
              "      <td>26344.625184</td>\n",
              "      <td>8.048211</td>\n",
              "      <td>213.511302</td>\n",
              "    </tr>\n",
              "    <tr>\n",
              "      <th>std</th>\n",
              "      <td>90718.595205</td>\n",
              "      <td>22208.527695</td>\n",
              "      <td>4.031700</td>\n",
              "      <td>134.428868</td>\n",
              "    </tr>\n",
              "    <tr>\n",
              "      <th>count in std range</th>\n",
              "      <td>30649.000000</td>\n",
              "      <td>24865.000000</td>\n",
              "      <td>20750.000000</td>\n",
              "      <td>25993.000000</td>\n",
              "    </tr>\n",
              "    <tr>\n",
              "      <th>percentange in std range</th>\n",
              "      <td>0.938771</td>\n",
              "      <td>0.761609</td>\n",
              "      <td>0.635567</td>\n",
              "      <td>0.796159</td>\n",
              "    </tr>\n",
              "  </tbody>\n",
              "</table>\n",
              "</div>\n",
              "      <button class=\"colab-df-convert\" onclick=\"convertToInteractive('df-c1f763eb-5e55-4b00-b202-bf333828ddc9')\"\n",
              "              title=\"Convert this dataframe to an interactive table.\"\n",
              "              style=\"display:none;\">\n",
              "        \n",
              "  <svg xmlns=\"http://www.w3.org/2000/svg\" height=\"24px\"viewBox=\"0 0 24 24\"\n",
              "       width=\"24px\">\n",
              "    <path d=\"M0 0h24v24H0V0z\" fill=\"none\"/>\n",
              "    <path d=\"M18.56 5.44l.94 2.06.94-2.06 2.06-.94-2.06-.94-.94-2.06-.94 2.06-2.06.94zm-11 1L8.5 8.5l.94-2.06 2.06-.94-2.06-.94L8.5 2.5l-.94 2.06-2.06.94zm10 10l.94 2.06.94-2.06 2.06-.94-2.06-.94-.94-2.06-.94 2.06-2.06.94z\"/><path d=\"M17.41 7.96l-1.37-1.37c-.4-.4-.92-.59-1.43-.59-.52 0-1.04.2-1.43.59L10.3 9.45l-7.72 7.72c-.78.78-.78 2.05 0 2.83L4 21.41c.39.39.9.59 1.41.59.51 0 1.02-.2 1.41-.59l7.78-7.78 2.81-2.81c.8-.78.8-2.07 0-2.86zM5.41 20L4 18.59l7.72-7.72 1.47 1.35L5.41 20z\"/>\n",
              "  </svg>\n",
              "      </button>\n",
              "      \n",
              "  <style>\n",
              "    .colab-df-container {\n",
              "      display:flex;\n",
              "      flex-wrap:wrap;\n",
              "      gap: 12px;\n",
              "    }\n",
              "\n",
              "    .colab-df-convert {\n",
              "      background-color: #E8F0FE;\n",
              "      border: none;\n",
              "      border-radius: 50%;\n",
              "      cursor: pointer;\n",
              "      display: none;\n",
              "      fill: #1967D2;\n",
              "      height: 32px;\n",
              "      padding: 0 0 0 0;\n",
              "      width: 32px;\n",
              "    }\n",
              "\n",
              "    .colab-df-convert:hover {\n",
              "      background-color: #E2EBFA;\n",
              "      box-shadow: 0px 1px 2px rgba(60, 64, 67, 0.3), 0px 1px 3px 1px rgba(60, 64, 67, 0.15);\n",
              "      fill: #174EA6;\n",
              "    }\n",
              "\n",
              "    [theme=dark] .colab-df-convert {\n",
              "      background-color: #3B4455;\n",
              "      fill: #D2E3FC;\n",
              "    }\n",
              "\n",
              "    [theme=dark] .colab-df-convert:hover {\n",
              "      background-color: #434B5C;\n",
              "      box-shadow: 0px 1px 3px 1px rgba(0, 0, 0, 0.15);\n",
              "      filter: drop-shadow(0px 1px 2px rgba(0, 0, 0, 0.3));\n",
              "      fill: #FFFFFF;\n",
              "    }\n",
              "  </style>\n",
              "\n",
              "      <script>\n",
              "        const buttonEl =\n",
              "          document.querySelector('#df-c1f763eb-5e55-4b00-b202-bf333828ddc9 button.colab-df-convert');\n",
              "        buttonEl.style.display =\n",
              "          google.colab.kernel.accessAllowed ? 'block' : 'none';\n",
              "\n",
              "        async function convertToInteractive(key) {\n",
              "          const element = document.querySelector('#df-c1f763eb-5e55-4b00-b202-bf333828ddc9');\n",
              "          const dataTable =\n",
              "            await google.colab.kernel.invokeFunction('convertToInteractive',\n",
              "                                                     [key], {});\n",
              "          if (!dataTable) return;\n",
              "\n",
              "          const docLinkHtml = 'Like what you see? Visit the ' +\n",
              "            '<a target=\"_blank\" href=https://colab.research.google.com/notebooks/data_table.ipynb>data table notebook</a>'\n",
              "            + ' to learn more about interactive tables.';\n",
              "          element.innerHTML = '';\n",
              "          dataTable['output_type'] = 'display_data';\n",
              "          await google.colab.output.renderOutput(dataTable, element);\n",
              "          const docLink = document.createElement('div');\n",
              "          docLink.innerHTML = docLinkHtml;\n",
              "          element.appendChild(docLink);\n",
              "        }\n",
              "      </script>\n",
              "    </div>\n",
              "  </div>\n",
              "  "
            ]
          },
          "metadata": {},
          "execution_count": 145
        }
      ]
    },
    {
      "cell_type": "markdown",
      "source": [
        "### dati nominali\n",
        "Si procede con l'analisi dei dati di tipo nominale"
      ],
      "metadata": {
        "id": "FWDW4j7sDMur"
      }
    },
    {
      "cell_type": "code",
      "source": [
        "full_data[categorical].describe()"
      ],
      "metadata": {
        "id": "NZQ6nJJQI7Tn",
        "colab": {
          "base_uri": "https://localhost:8080/",
          "height": 175
        },
        "outputId": "c67e2b82-79aa-48b4-a4b7-bfa55cb20fdc"
      },
      "execution_count": null,
      "outputs": [
        {
          "output_type": "execute_result",
          "data": {
            "text/plain": [
              "                 bike_name   city        owner  brand\n",
              "count                32648  32648        32648  32648\n",
              "unique                 471    443            4     23\n",
              "top     Bajaj Pulsar 150cc  Delhi  First Owner  Bajaj\n",
              "freq                  2776   7318        29964  11213"
            ],
            "text/html": [
              "\n",
              "  <div id=\"df-f65a0af3-791c-4536-810e-76c9d608d58c\">\n",
              "    <div class=\"colab-df-container\">\n",
              "      <div>\n",
              "<style scoped>\n",
              "    .dataframe tbody tr th:only-of-type {\n",
              "        vertical-align: middle;\n",
              "    }\n",
              "\n",
              "    .dataframe tbody tr th {\n",
              "        vertical-align: top;\n",
              "    }\n",
              "\n",
              "    .dataframe thead th {\n",
              "        text-align: right;\n",
              "    }\n",
              "</style>\n",
              "<table border=\"1\" class=\"dataframe\">\n",
              "  <thead>\n",
              "    <tr style=\"text-align: right;\">\n",
              "      <th></th>\n",
              "      <th>bike_name</th>\n",
              "      <th>city</th>\n",
              "      <th>owner</th>\n",
              "      <th>brand</th>\n",
              "    </tr>\n",
              "  </thead>\n",
              "  <tbody>\n",
              "    <tr>\n",
              "      <th>count</th>\n",
              "      <td>32648</td>\n",
              "      <td>32648</td>\n",
              "      <td>32648</td>\n",
              "      <td>32648</td>\n",
              "    </tr>\n",
              "    <tr>\n",
              "      <th>unique</th>\n",
              "      <td>471</td>\n",
              "      <td>443</td>\n",
              "      <td>4</td>\n",
              "      <td>23</td>\n",
              "    </tr>\n",
              "    <tr>\n",
              "      <th>top</th>\n",
              "      <td>Bajaj Pulsar 150cc</td>\n",
              "      <td>Delhi</td>\n",
              "      <td>First Owner</td>\n",
              "      <td>Bajaj</td>\n",
              "    </tr>\n",
              "    <tr>\n",
              "      <th>freq</th>\n",
              "      <td>2776</td>\n",
              "      <td>7318</td>\n",
              "      <td>29964</td>\n",
              "      <td>11213</td>\n",
              "    </tr>\n",
              "  </tbody>\n",
              "</table>\n",
              "</div>\n",
              "      <button class=\"colab-df-convert\" onclick=\"convertToInteractive('df-f65a0af3-791c-4536-810e-76c9d608d58c')\"\n",
              "              title=\"Convert this dataframe to an interactive table.\"\n",
              "              style=\"display:none;\">\n",
              "        \n",
              "  <svg xmlns=\"http://www.w3.org/2000/svg\" height=\"24px\"viewBox=\"0 0 24 24\"\n",
              "       width=\"24px\">\n",
              "    <path d=\"M0 0h24v24H0V0z\" fill=\"none\"/>\n",
              "    <path d=\"M18.56 5.44l.94 2.06.94-2.06 2.06-.94-2.06-.94-.94-2.06-.94 2.06-2.06.94zm-11 1L8.5 8.5l.94-2.06 2.06-.94-2.06-.94L8.5 2.5l-.94 2.06-2.06.94zm10 10l.94 2.06.94-2.06 2.06-.94-2.06-.94-.94-2.06-.94 2.06-2.06.94z\"/><path d=\"M17.41 7.96l-1.37-1.37c-.4-.4-.92-.59-1.43-.59-.52 0-1.04.2-1.43.59L10.3 9.45l-7.72 7.72c-.78.78-.78 2.05 0 2.83L4 21.41c.39.39.9.59 1.41.59.51 0 1.02-.2 1.41-.59l7.78-7.78 2.81-2.81c.8-.78.8-2.07 0-2.86zM5.41 20L4 18.59l7.72-7.72 1.47 1.35L5.41 20z\"/>\n",
              "  </svg>\n",
              "      </button>\n",
              "      \n",
              "  <style>\n",
              "    .colab-df-container {\n",
              "      display:flex;\n",
              "      flex-wrap:wrap;\n",
              "      gap: 12px;\n",
              "    }\n",
              "\n",
              "    .colab-df-convert {\n",
              "      background-color: #E8F0FE;\n",
              "      border: none;\n",
              "      border-radius: 50%;\n",
              "      cursor: pointer;\n",
              "      display: none;\n",
              "      fill: #1967D2;\n",
              "      height: 32px;\n",
              "      padding: 0 0 0 0;\n",
              "      width: 32px;\n",
              "    }\n",
              "\n",
              "    .colab-df-convert:hover {\n",
              "      background-color: #E2EBFA;\n",
              "      box-shadow: 0px 1px 2px rgba(60, 64, 67, 0.3), 0px 1px 3px 1px rgba(60, 64, 67, 0.15);\n",
              "      fill: #174EA6;\n",
              "    }\n",
              "\n",
              "    [theme=dark] .colab-df-convert {\n",
              "      background-color: #3B4455;\n",
              "      fill: #D2E3FC;\n",
              "    }\n",
              "\n",
              "    [theme=dark] .colab-df-convert:hover {\n",
              "      background-color: #434B5C;\n",
              "      box-shadow: 0px 1px 3px 1px rgba(0, 0, 0, 0.15);\n",
              "      filter: drop-shadow(0px 1px 2px rgba(0, 0, 0, 0.3));\n",
              "      fill: #FFFFFF;\n",
              "    }\n",
              "  </style>\n",
              "\n",
              "      <script>\n",
              "        const buttonEl =\n",
              "          document.querySelector('#df-f65a0af3-791c-4536-810e-76c9d608d58c button.colab-df-convert');\n",
              "        buttonEl.style.display =\n",
              "          google.colab.kernel.accessAllowed ? 'block' : 'none';\n",
              "\n",
              "        async function convertToInteractive(key) {\n",
              "          const element = document.querySelector('#df-f65a0af3-791c-4536-810e-76c9d608d58c');\n",
              "          const dataTable =\n",
              "            await google.colab.kernel.invokeFunction('convertToInteractive',\n",
              "                                                     [key], {});\n",
              "          if (!dataTable) return;\n",
              "\n",
              "          const docLinkHtml = 'Like what you see? Visit the ' +\n",
              "            '<a target=\"_blank\" href=https://colab.research.google.com/notebooks/data_table.ipynb>data table notebook</a>'\n",
              "            + ' to learn more about interactive tables.';\n",
              "          element.innerHTML = '';\n",
              "          dataTable['output_type'] = 'display_data';\n",
              "          await google.colab.output.renderOutput(dataTable, element);\n",
              "          const docLink = document.createElement('div');\n",
              "          docLink.innerHTML = docLinkHtml;\n",
              "          element.appendChild(docLink);\n",
              "        }\n",
              "      </script>\n",
              "    </div>\n",
              "  </div>\n",
              "  "
            ]
          },
          "metadata": {},
          "execution_count": 146
        }
      ]
    },
    {
      "cell_type": "markdown",
      "source": [
        "Si può vedere come nel dataset siano presenti `471` modelli di motociclette da `23` marchi, venduti in `443` città.  \n",
        "La maggioranza delle motociclette hanno avuto un unico proprietario precedente, come si può notare dalle percentuali nella tabella sotto.\n",
        "\n",
        "La colonna *bike_name* non verrà usata per la previsione, in quanto le informazioni sono le stesse presenti in altre colonne, sarà quindi scartata nella fase di preprocessamento.  \n",
        "Prima di scartare la colonna *city* si dovrà verificare se la città di vendita influisce sul prezzo controllandone la correlazione.  \n",
        "Lo stesso discorso vale per la colonna *brand*."
      ],
      "metadata": {
        "id": "inyE0P3MJ4zk"
      }
    },
    {
      "cell_type": "code",
      "source": [
        "owners = full_data[\"owner\"].value_counts(normalize=True)\n",
        "pd.DataFrame(owners)"
      ],
      "metadata": {
        "id": "72or9YutRQGR",
        "colab": {
          "base_uri": "https://localhost:8080/",
          "height": 175
        },
        "outputId": "7b700205-4e47-4ead-cb6b-a24cbf2389ab"
      },
      "execution_count": null,
      "outputs": [
        {
          "output_type": "execute_result",
          "data": {
            "text/plain": [
              "                         owner\n",
              "First Owner           0.917790\n",
              "Second Owner          0.078535\n",
              "Third Owner           0.003308\n",
              "Fourth Owner Or More  0.000368"
            ],
            "text/html": [
              "\n",
              "  <div id=\"df-8f4b0861-4041-44ae-a8c7-ccf3b15f2501\">\n",
              "    <div class=\"colab-df-container\">\n",
              "      <div>\n",
              "<style scoped>\n",
              "    .dataframe tbody tr th:only-of-type {\n",
              "        vertical-align: middle;\n",
              "    }\n",
              "\n",
              "    .dataframe tbody tr th {\n",
              "        vertical-align: top;\n",
              "    }\n",
              "\n",
              "    .dataframe thead th {\n",
              "        text-align: right;\n",
              "    }\n",
              "</style>\n",
              "<table border=\"1\" class=\"dataframe\">\n",
              "  <thead>\n",
              "    <tr style=\"text-align: right;\">\n",
              "      <th></th>\n",
              "      <th>owner</th>\n",
              "    </tr>\n",
              "  </thead>\n",
              "  <tbody>\n",
              "    <tr>\n",
              "      <th>First Owner</th>\n",
              "      <td>0.917790</td>\n",
              "    </tr>\n",
              "    <tr>\n",
              "      <th>Second Owner</th>\n",
              "      <td>0.078535</td>\n",
              "    </tr>\n",
              "    <tr>\n",
              "      <th>Third Owner</th>\n",
              "      <td>0.003308</td>\n",
              "    </tr>\n",
              "    <tr>\n",
              "      <th>Fourth Owner Or More</th>\n",
              "      <td>0.000368</td>\n",
              "    </tr>\n",
              "  </tbody>\n",
              "</table>\n",
              "</div>\n",
              "      <button class=\"colab-df-convert\" onclick=\"convertToInteractive('df-8f4b0861-4041-44ae-a8c7-ccf3b15f2501')\"\n",
              "              title=\"Convert this dataframe to an interactive table.\"\n",
              "              style=\"display:none;\">\n",
              "        \n",
              "  <svg xmlns=\"http://www.w3.org/2000/svg\" height=\"24px\"viewBox=\"0 0 24 24\"\n",
              "       width=\"24px\">\n",
              "    <path d=\"M0 0h24v24H0V0z\" fill=\"none\"/>\n",
              "    <path d=\"M18.56 5.44l.94 2.06.94-2.06 2.06-.94-2.06-.94-.94-2.06-.94 2.06-2.06.94zm-11 1L8.5 8.5l.94-2.06 2.06-.94-2.06-.94L8.5 2.5l-.94 2.06-2.06.94zm10 10l.94 2.06.94-2.06 2.06-.94-2.06-.94-.94-2.06-.94 2.06-2.06.94z\"/><path d=\"M17.41 7.96l-1.37-1.37c-.4-.4-.92-.59-1.43-.59-.52 0-1.04.2-1.43.59L10.3 9.45l-7.72 7.72c-.78.78-.78 2.05 0 2.83L4 21.41c.39.39.9.59 1.41.59.51 0 1.02-.2 1.41-.59l7.78-7.78 2.81-2.81c.8-.78.8-2.07 0-2.86zM5.41 20L4 18.59l7.72-7.72 1.47 1.35L5.41 20z\"/>\n",
              "  </svg>\n",
              "      </button>\n",
              "      \n",
              "  <style>\n",
              "    .colab-df-container {\n",
              "      display:flex;\n",
              "      flex-wrap:wrap;\n",
              "      gap: 12px;\n",
              "    }\n",
              "\n",
              "    .colab-df-convert {\n",
              "      background-color: #E8F0FE;\n",
              "      border: none;\n",
              "      border-radius: 50%;\n",
              "      cursor: pointer;\n",
              "      display: none;\n",
              "      fill: #1967D2;\n",
              "      height: 32px;\n",
              "      padding: 0 0 0 0;\n",
              "      width: 32px;\n",
              "    }\n",
              "\n",
              "    .colab-df-convert:hover {\n",
              "      background-color: #E2EBFA;\n",
              "      box-shadow: 0px 1px 2px rgba(60, 64, 67, 0.3), 0px 1px 3px 1px rgba(60, 64, 67, 0.15);\n",
              "      fill: #174EA6;\n",
              "    }\n",
              "\n",
              "    [theme=dark] .colab-df-convert {\n",
              "      background-color: #3B4455;\n",
              "      fill: #D2E3FC;\n",
              "    }\n",
              "\n",
              "    [theme=dark] .colab-df-convert:hover {\n",
              "      background-color: #434B5C;\n",
              "      box-shadow: 0px 1px 3px 1px rgba(0, 0, 0, 0.15);\n",
              "      filter: drop-shadow(0px 1px 2px rgba(0, 0, 0, 0.3));\n",
              "      fill: #FFFFFF;\n",
              "    }\n",
              "  </style>\n",
              "\n",
              "      <script>\n",
              "        const buttonEl =\n",
              "          document.querySelector('#df-8f4b0861-4041-44ae-a8c7-ccf3b15f2501 button.colab-df-convert');\n",
              "        buttonEl.style.display =\n",
              "          google.colab.kernel.accessAllowed ? 'block' : 'none';\n",
              "\n",
              "        async function convertToInteractive(key) {\n",
              "          const element = document.querySelector('#df-8f4b0861-4041-44ae-a8c7-ccf3b15f2501');\n",
              "          const dataTable =\n",
              "            await google.colab.kernel.invokeFunction('convertToInteractive',\n",
              "                                                     [key], {});\n",
              "          if (!dataTable) return;\n",
              "\n",
              "          const docLinkHtml = 'Like what you see? Visit the ' +\n",
              "            '<a target=\"_blank\" href=https://colab.research.google.com/notebooks/data_table.ipynb>data table notebook</a>'\n",
              "            + ' to learn more about interactive tables.';\n",
              "          element.innerHTML = '';\n",
              "          dataTable['output_type'] = 'display_data';\n",
              "          await google.colab.output.renderOutput(dataTable, element);\n",
              "          const docLink = document.createElement('div');\n",
              "          docLink.innerHTML = docLinkHtml;\n",
              "          element.appendChild(docLink);\n",
              "        }\n",
              "      </script>\n",
              "    </div>\n",
              "  </div>\n",
              "  "
            ]
          },
          "metadata": {},
          "execution_count": 147
        }
      ]
    },
    {
      "cell_type": "markdown",
      "source": [
        "### correlazione tra i dati\n",
        "Si procede a verificare come i dati numerici siano legati al prezzo di vendita"
      ],
      "metadata": {
        "id": "_hlTCw9xDDw7"
      }
    },
    {
      "cell_type": "code",
      "source": [
        "def price_on_numerical_subplot(x, y, columns, titles, xlabels):\n",
        "    n = len(columns)\n",
        "    plt.figure(figsize=(15,5))\n",
        "    for i in range(0,n):\n",
        "      plt.subplot(x, y, i+1)\n",
        "      plt.scatter(full_data[columns[i]], full_data[\"price\"] )\n",
        "      plt.title(titles[i])\n",
        "      plt.xlabel(xlabels[i])\n",
        "      plt.ylabel(\"price\")\n",
        "\n",
        "price_on_numerical_subplot(1, 3,\n",
        "                          ['kms_driven', 'age', 'power'], \n",
        "                          [\"kms the bike has been driven for\", \"age of the bike\", \"displacement of the engine\"],\n",
        "                          [\"Km\", \"years\", \"cm^3\"])"
      ],
      "metadata": {
        "id": "GEx7Li2vM3OH",
        "colab": {
          "base_uri": "https://localhost:8080/",
          "height": 487
        },
        "outputId": "53b1fab1-367b-4fc6-b8c8-61ede9f1cd53"
      },
      "execution_count": null,
      "outputs": [
        {
          "output_type": "display_data",
          "data": {
            "text/plain": [
              "<Figure size 1500x500 with 3 Axes>"
            ],
            "image/png": "[encoded data removed]"
          },
          "metadata": {}
        }
      ]
    },
    {
      "cell_type": "markdown",
      "source": [
        "Si nota come il *chilometraggio* della moto e gli *anni* non influiscano direttamente sul prezzo di vendita della moto, se non dopo una certa soglia abbassandolo, sarà interessante notare come i modelli regoleranno i pesi sul dato.  \n",
        "Si nota anche come queste due caratteristiche siano correlate; sarà utile usare modelli **regolarizzati** per migliorare la stabilità delle previsioni.\n",
        "\n",
        "Si può vedere invece come la *dimensione del motore* ed il *prezzo* sono direttamente dipendenti. "
      ],
      "metadata": {
        "id": "rC-xxmIfQ-bm"
      }
    },
    {
      "cell_type": "markdown",
      "source": [
        "si passa ad analizzare la correlazione `marca - costo` e `città di vendita - costo`"
      ],
      "metadata": {
        "id": "kyAkivXibSQB"
      }
    },
    {
      "cell_type": "code",
      "source": [
        "_ = full_data[[\"brand\", \"price\"]].groupby(\"brand\").mean().plot.bar()"
      ],
      "metadata": {
        "id": "q4khOmp5b8GY",
        "colab": {
          "base_uri": "https://localhost:8080/",
          "height": 565
        },
        "outputId": "e9fec113-e71b-45be-b346-f6db8fb730c8"
      },
      "execution_count": null,
      "outputs": [
        {
          "output_type": "display_data",
          "data": {
            "text/plain": [
              "<Figure size 640x480 with 1 Axes>"
            ],
            "image/png": "[encoded data removed]"
          },
          "metadata": {}
        }
      ]
    },
    {
      "cell_type": "markdown",
      "source": [
        "Si vede come il prezzo medio per alcune case sia più alto.  \n",
        "Va però fatto notare che alcune marche hanno pochi dati di vendita; queste non sono utilizzabili per una previsione affidabile ed andranno scartate. infatti:"
      ],
      "metadata": {
        "id": "yEKDK_gqf2vM"
      }
    },
    {
      "cell_type": "code",
      "source": [
        "full_data[\"brand\"].value_counts(ascending=True)"
      ],
      "metadata": {
        "id": "myG9hIV7hPy5",
        "colab": {
          "base_uri": "https://localhost:8080/"
        },
        "outputId": "955ed9ad-37c2-41b8-adce-ecad1803097d"
      },
      "execution_count": null,
      "outputs": [
        {
          "output_type": "execute_result",
          "data": {
            "text/plain": [
              "Yezdi                  1\n",
              "Rajdoot                1\n",
              "LML                    1\n",
              "Ideal                  2\n",
              "Indian                 3\n",
              "MV                     4\n",
              "Jawa                  10\n",
              "BMW                   16\n",
              "Ducati                22\n",
              "Triumph               26\n",
              "Mahindra              55\n",
              "Benelli               56\n",
              "Hyosung               64\n",
              "Kawasaki              79\n",
              "Harley-Davidson      737\n",
              "KTM                 1077\n",
              "TVS                 1247\n",
              "Suzuki              1464\n",
              "Honda               2108\n",
              "Yamaha              3916\n",
              "Royal Enfield       4178\n",
              "Hero                6368\n",
              "Bajaj              11213\n",
              "Name: brand, dtype: int64"
            ]
          },
          "metadata": {},
          "execution_count": 150
        }
      ]
    },
    {
      "cell_type": "markdown",
      "source": [
        "per quanto riguarda le **città di vendita** molte di queste hanno un numero troppo piccolo di dati per essere considerate;  \n",
        "infatti 401 su 443 hanno meno di 20 dati di vendita."
      ],
      "metadata": {
        "id": "NRxK2YjAhWeS"
      }
    },
    {
      "cell_type": "code",
      "source": [
        "(full_data[[\"city\", \"price\"]].groupby(\"city\").count() < 20).sum()"
      ],
      "metadata": {
        "id": "Sh2vjAadhrek",
        "colab": {
          "base_uri": "https://localhost:8080/"
        },
        "outputId": "302d0f83-2ff8-45e5-bced-0a20f0008564"
      },
      "execution_count": null,
      "outputs": [
        {
          "output_type": "execute_result",
          "data": {
            "text/plain": [
              "price    401\n",
              "dtype: int64"
            ]
          },
          "metadata": {},
          "execution_count": 151
        }
      ]
    },
    {
      "cell_type": "markdown",
      "source": [
        "# Preprocessamento\n",
        "In questa fase si procede a:\n",
        "1. controllo dei dati NAN\n",
        "2. Eliminare le colonne non rilevanti dal dataframe. In particolare si scartano `bike_name` e `city` \n",
        "3. Eliminare i dati di vendita per le case produttrici con un numero di vendite < 10\n",
        "4. Rimozione dei dati di vendita con costi estremi\n",
        "5. selezione porzione casuale dei dati per l'addestramento e divisione in fold\n",
        "6. Trasformazione variabili categoriche rimaste\n",
        "\n"
      ],
      "metadata": {
        "id": "2SNipH8e5XZs"
      }
    },
    {
      "cell_type": "code",
      "source": [
        "full_data.isna().sum()"
      ],
      "metadata": {
        "id": "ojNqcxXKaBJ1",
        "colab": {
          "base_uri": "https://localhost:8080/"
        },
        "outputId": "9a9d4b42-c990-4154-ee76-c508b67473fd"
      },
      "execution_count": null,
      "outputs": [
        {
          "output_type": "execute_result",
          "data": {
            "text/plain": [
              "bike_name     0\n",
              "price         0\n",
              "city          0\n",
              "kms_driven    0\n",
              "owner         0\n",
              "age           0\n",
              "power         0\n",
              "brand         0\n",
              "dtype: int64"
            ]
          },
          "metadata": {},
          "execution_count": 152
        }
      ]
    },
    {
      "cell_type": "markdown",
      "source": [
        "In questo dataset non sono presenti valori nulli. Si continua con la trasformazione dei dati"
      ],
      "metadata": {
        "id": "HjjuXsFAae-G"
      }
    },
    {
      "cell_type": "code",
      "source": [
        "model_data = full_data.drop(columns=[\"bike_name\", \"city\"])\n",
        "model_data.head()"
      ],
      "metadata": {
        "id": "8GuKaLp-ar2m",
        "colab": {
          "base_uri": "https://localhost:8080/",
          "height": 206
        },
        "outputId": "f7194f58-4ef9-4a10-b08f-9f522ff54969"
      },
      "execution_count": null,
      "outputs": [
        {
          "output_type": "execute_result",
          "data": {
            "text/plain": [
              "      price  kms_driven        owner  age  power          brand\n",
              "0   35000.0     17654.0  First Owner    3  110.0            TVS\n",
              "1  119900.0     11000.0  First Owner    4  350.0  Royal Enfield\n",
              "2  600000.0       110.0  First Owner    8  675.0        Triumph\n",
              "3   65000.0     16329.0  First Owner    4  180.0            TVS\n",
              "4   80000.0     10000.0  First Owner    3  150.0         Yamaha"
            ],
            "text/html": [
              "\n",
              "  <div id=\"df-5a712a30-e220-4492-8c3c-73a7eb5dae01\">\n",
              "    <div class=\"colab-df-container\">\n",
              "      <div>\n",
              "<style scoped>\n",
              "    .dataframe tbody tr th:only-of-type {\n",
              "        vertical-align: middle;\n",
              "    }\n",
              "\n",
              "    .dataframe tbody tr th {\n",
              "        vertical-align: top;\n",
              "    }\n",
              "\n",
              "    .dataframe thead th {\n",
              "        text-align: right;\n",
              "    }\n",
              "</style>\n",
              "<table border=\"1\" class=\"dataframe\">\n",
              "  <thead>\n",
              "    <tr style=\"text-align: right;\">\n",
              "      <th></th>\n",
              "      <th>price</th>\n",
              "      <th>kms_driven</th>\n",
              "      <th>owner</th>\n",
              "      <th>age</th>\n",
              "      <th>power</th>\n",
              "      <th>brand</th>\n",
              "    </tr>\n",
              "  </thead>\n",
              "  <tbody>\n",
              "    <tr>\n",
              "      <th>0</th>\n",
              "      <td>35000.0</td>\n",
              "      <td>17654.0</td>\n",
              "      <td>First Owner</td>\n",
              "      <td>3</td>\n",
              "      <td>110.0</td>\n",
              "      <td>TVS</td>\n",
              "    </tr>\n",
              "    <tr>\n",
              "      <th>1</th>\n",
              "      <td>119900.0</td>\n",
              "      <td>11000.0</td>\n",
              "      <td>First Owner</td>\n",
              "      <td>4</td>\n",
              "      <td>350.0</td>\n",
              "      <td>Royal Enfield</td>\n",
              "    </tr>\n",
              "    <tr>\n",
              "      <th>2</th>\n",
              "      <td>600000.0</td>\n",
              "      <td>110.0</td>\n",
              "      <td>First Owner</td>\n",
              "      <td>8</td>\n",
              "      <td>675.0</td>\n",
              "      <td>Triumph</td>\n",
              "    </tr>\n",
              "    <tr>\n",
              "      <th>3</th>\n",
              "      <td>65000.0</td>\n",
              "      <td>16329.0</td>\n",
              "      <td>First Owner</td>\n",
              "      <td>4</td>\n",
              "      <td>180.0</td>\n",
              "      <td>TVS</td>\n",
              "    </tr>\n",
              "    <tr>\n",
              "      <th>4</th>\n",
              "      <td>80000.0</td>\n",
              "      <td>10000.0</td>\n",
              "      <td>First Owner</td>\n",
              "      <td>3</td>\n",
              "      <td>150.0</td>\n",
              "      <td>Yamaha</td>\n",
              "    </tr>\n",
              "  </tbody>\n",
              "</table>\n",
              "</div>\n",
              "      <button class=\"colab-df-convert\" onclick=\"convertToInteractive('df-5a712a30-e220-4492-8c3c-73a7eb5dae01')\"\n",
              "              title=\"Convert this dataframe to an interactive table.\"\n",
              "              style=\"display:none;\">\n",
              "        \n",
              "  <svg xmlns=\"http://www.w3.org/2000/svg\" height=\"24px\"viewBox=\"0 0 24 24\"\n",
              "       width=\"24px\">\n",
              "    <path d=\"M0 0h24v24H0V0z\" fill=\"none\"/>\n",
              "    <path d=\"M18.56 5.44l.94 2.06.94-2.06 2.06-.94-2.06-.94-.94-2.06-.94 2.06-2.06.94zm-11 1L8.5 8.5l.94-2.06 2.06-.94-2.06-.94L8.5 2.5l-.94 2.06-2.06.94zm10 10l.94 2.06.94-2.06 2.06-.94-2.06-.94-.94-2.06-.94 2.06-2.06.94z\"/><path d=\"M17.41 7.96l-1.37-1.37c-.4-.4-.92-.59-1.43-.59-.52 0-1.04.2-1.43.59L10.3 9.45l-7.72 7.72c-.78.78-.78 2.05 0 2.83L4 21.41c.39.39.9.59 1.41.59.51 0 1.02-.2 1.41-.59l7.78-7.78 2.81-2.81c.8-.78.8-2.07 0-2.86zM5.41 20L4 18.59l7.72-7.72 1.47 1.35L5.41 20z\"/>\n",
              "  </svg>\n",
              "      </button>\n",
              "      \n",
              "  <style>\n",
              "    .colab-df-container {\n",
              "      display:flex;\n",
              "      flex-wrap:wrap;\n",
              "      gap: 12px;\n",
              "    }\n",
              "\n",
              "    .colab-df-convert {\n",
              "      background-color: #E8F0FE;\n",
              "      border: none;\n",
              "      border-radius: 50%;\n",
              "      cursor: pointer;\n",
              "      display: none;\n",
              "      fill: #1967D2;\n",
              "      height: 32px;\n",
              "      padding: 0 0 0 0;\n",
              "      width: 32px;\n",
              "    }\n",
              "\n",
              "    .colab-df-convert:hover {\n",
              "      background-color: #E2EBFA;\n",
              "      box-shadow: 0px 1px 2px rgba(60, 64, 67, 0.3), 0px 1px 3px 1px rgba(60, 64, 67, 0.15);\n",
              "      fill: #174EA6;\n",
              "    }\n",
              "\n",
              "    [theme=dark] .colab-df-convert {\n",
              "      background-color: #3B4455;\n",
              "      fill: #D2E3FC;\n",
              "    }\n",
              "\n",
              "    [theme=dark] .colab-df-convert:hover {\n",
              "      background-color: #434B5C;\n",
              "      box-shadow: 0px 1px 3px 1px rgba(0, 0, 0, 0.15);\n",
              "      filter: drop-shadow(0px 1px 2px rgba(0, 0, 0, 0.3));\n",
              "      fill: #FFFFFF;\n",
              "    }\n",
              "  </style>\n",
              "\n",
              "      <script>\n",
              "        const buttonEl =\n",
              "          document.querySelector('#df-5a712a30-e220-4492-8c3c-73a7eb5dae01 button.colab-df-convert');\n",
              "        buttonEl.style.display =\n",
              "          google.colab.kernel.accessAllowed ? 'block' : 'none';\n",
              "\n",
              "        async function convertToInteractive(key) {\n",
              "          const element = document.querySelector('#df-5a712a30-e220-4492-8c3c-73a7eb5dae01');\n",
              "          const dataTable =\n",
              "            await google.colab.kernel.invokeFunction('convertToInteractive',\n",
              "                                                     [key], {});\n",
              "          if (!dataTable) return;\n",
              "\n",
              "          const docLinkHtml = 'Like what you see? Visit the ' +\n",
              "            '<a target=\"_blank\" href=https://colab.research.google.com/notebooks/data_table.ipynb>data table notebook</a>'\n",
              "            + ' to learn more about interactive tables.';\n",
              "          element.innerHTML = '';\n",
              "          dataTable['output_type'] = 'display_data';\n",
              "          await google.colab.output.renderOutput(dataTable, element);\n",
              "          const docLink = document.createElement('div');\n",
              "          docLink.innerHTML = docLinkHtml;\n",
              "          element.appendChild(docLink);\n",
              "        }\n",
              "      </script>\n",
              "    </div>\n",
              "  </div>\n",
              "  "
            ]
          },
          "metadata": {},
          "execution_count": 153
        }
      ]
    },
    {
      "cell_type": "code",
      "source": [
        "categorical_left = [\"owner\", \"brand\"]"
      ],
      "metadata": {
        "id": "mMupl7_NgsA9"
      },
      "execution_count": null,
      "outputs": []
    },
    {
      "cell_type": "markdown",
      "source": [
        "Queste sono le colonne rimaste per lavorare sulla previsione."
      ],
      "metadata": {
        "id": "Xmw1laYnbYsq"
      }
    },
    {
      "cell_type": "code",
      "source": [
        "brands = model_data[\"brand\"].value_counts() < 10\n",
        "brands = brands[brands].index.tolist() # list of brands with less than 10 bikes sold\n",
        "brands = model_data[model_data[\"brand\"].isin(brands)].index.tolist() # indexes num. of sold bike from those brands\n",
        "model_data.drop(index=brands, inplace=True)\n",
        "print(\"numero righe eliminate: \", len(brands), \"\\n\")\n",
        "model_data.info(verbose=False)"
      ],
      "metadata": {
        "id": "Pj75F-1rcDB0",
        "colab": {
          "base_uri": "https://localhost:8080/"
        },
        "outputId": "849f3c5a-6061-41d6-8d21-6d746110dcda"
      },
      "execution_count": null,
      "outputs": [
        {
          "output_type": "stream",
          "name": "stdout",
          "text": [
            "numero righe eliminate:  12 \n",
            "\n",
            "<class 'pandas.core.frame.DataFrame'>\n",
            "Int64Index: 32636 entries, 0 to 32647\n",
            "Columns: 6 entries, price to brand\n",
            "dtypes: category(2), float64(3), int64(1)\n",
            "memory usage: 1.3 MB\n"
          ]
        }
      ]
    },
    {
      "cell_type": "markdown",
      "source": [
        "Sono stati eliminati i dati di vendita per le case produttrici con poche informazioni. (**meno di 10 righe**)"
      ],
      "metadata": {
        "id": "kigrKpnIb6pI"
      }
    },
    {
      "cell_type": "markdown",
      "source": [
        "Si procede ora ad eliminare i dati con un prezzo di vendita appartente a \"casi limite\".  \n",
        "Per fare questo si utilizza lo **z-score**.\n",
        "\n",
        "Lo z-score viene calcolato, per ogni prezzo di vendita, come: `[(valore i) - mean] / std`. Con:\n",
        "- `mean`: media del prezzo di vendita\n",
        "- `std`: deviazione standard del prezzo di vendita  \n",
        "Indica pertanto uno punteggio di \"scostamento\" dalla media medi valori.\n",
        "\n",
        "Verranno eliminati i valori con z-score **>= 6.5**"
      ],
      "metadata": {
        "id": "7tyqjRtdFlBT"
      }
    },
    {
      "cell_type": "code",
      "source": [
        "mean =  model_data[\"price\"].mean()\n",
        "std = model_data[\"price\"].std()\n",
        "z_score = (model_data[\"price\"] - mean) / std\n",
        "model_data.drop(index=model_data[z_score > 4].index, inplace=True)\n",
        "el_num, total_num = (z_score >= 6.5).sum(), full_data[\"price\"].count() \n",
        "print(\"numero valori eliminati: \", el_num)\n",
        "print(f\"ovvero il: {el_num / total_num:.4f}% rispetto al numero di valori iniziali\")"
      ],
      "metadata": {
        "id": "flL6rlSgFwzE",
        "colab": {
          "base_uri": "https://localhost:8080/"
        },
        "outputId": "00b419be-5ecd-4d73-adda-b8b0a24c8b83"
      },
      "execution_count": null,
      "outputs": [
        {
          "output_type": "stream",
          "name": "stdout",
          "text": [
            "numero valori eliminati:  92\n",
            "ovvero il: 0.0028% rispetto al numero di valori iniziali\n"
          ]
        }
      ]
    },
    {
      "cell_type": "code",
      "source": [
        "plt.figure(figsize=(15,10))\n",
        "\n",
        "plt.subplot(2, 1, 1)\n",
        "plt.boxplot(full_data[\"price\"], vert=False)\n",
        "plt.title(\"old price data\")\n",
        "plt.xlabel(\"indian rupees\")\n",
        "limit = plt.xlim()\n",
        "\n",
        "plt.subplot(2, 1, 2)\n",
        "plt.boxplot(model_data[\"price\"], vert=False)\n",
        "plt.title(\"new price data\")\n",
        "plt.xlabel(\"indian rupees\")\n",
        "_ = plt.xlim(limit)"
      ],
      "metadata": {
        "id": "lOEMSTRjJ4qK",
        "colab": {
          "base_uri": "https://localhost:8080/",
          "height": 872
        },
        "outputId": "09d4e989-6f18-431f-c1fa-4e2029258867"
      },
      "execution_count": null,
      "outputs": [
        {
          "output_type": "display_data",
          "data": {
            "text/plain": [
              "<Figure size 1500x1000 with 2 Axes>"
            ],
            "image/png": "[encoded data removed]"
          },
          "metadata": {}
        }
      ]
    },
    {
      "cell_type": "markdown",
      "source": [
        "Si puo vedere il confronto tra il box plot dei dati prima e dopo aver scartato i valori in base allo z-score"
      ],
      "metadata": {
        "id": "BBwKy_o5K5Gx"
      }
    },
    {
      "cell_type": "markdown",
      "source": [
        "si procede a dividere i dati in training e validation set con il metodo **hold-out**."
      ],
      "metadata": {
        "id": "EEoQowYMkkRn"
      }
    },
    {
      "cell_type": "code",
      "source": [
        "from sklearn.model_selection import train_test_split\n",
        "x = model_data.drop(columns=\"price\")\n",
        "y = model_data[\"price\"]\n",
        "\n",
        "x_train, x_val, y_train, y_val = train_test_split(x, y, test_size=_TEST_SIZE, random_state=_RANDOM_STATE)"
      ],
      "metadata": {
        "id": "SMd7p6XQlg_v"
      },
      "execution_count": null,
      "outputs": []
    },
    {
      "cell_type": "markdown",
      "source": [
        "si procede a trasformare le variabili categoriche del dataset"
      ],
      "metadata": {
        "id": "K9MaydjJLEYy"
      }
    },
    {
      "cell_type": "code",
      "source": [
        "from sklearn.preprocessing import OrdinalEncoder, OneHotEncoder\n",
        "\n",
        "owner_categories = full_data[\"owner\"].unique().tolist()\n",
        "brand_categories = full_data[\"brand\"].cat.categories.tolist()\n",
        "\n",
        "ordinal = OrdinalEncoder(categories=[owner_categories], dtype=\"int\")\n",
        "onehot = OneHotEncoder(categories=[brand_categories], sparse_output=False, dtype=\"int\")"
      ],
      "metadata": {
        "id": "at89Jll1pjy4"
      },
      "execution_count": null,
      "outputs": []
    },
    {
      "cell_type": "code",
      "source": [
        "# transform owner column in training and test data\n",
        "data = x_train[\"owner\"].values.reshape(-1, 1)\n",
        "x_train[\"owner\"] = ordinal.fit_transform(data)\n",
        "\n",
        "data = x_val[\"owner\"].values.reshape(-1, 1)\n",
        "x_val[\"owner\"] = ordinal.fit_transform(data)"
      ],
      "metadata": {
        "id": "R63PsPpOZVjF"
      },
      "execution_count": null,
      "outputs": []
    },
    {
      "cell_type": "code",
      "source": [
        "# one hot encoding of column \"brand\" in training and test data\n",
        "data = x_train[\"brand\"].values.reshape(-1, 1)\n",
        "data = onehot.fit_transform(data)\n",
        "names = onehot.categories_[0]\n",
        "x_train[names] = data\n",
        "x_train.drop(columns=\"brand\", inplace=True)\n",
        "\n",
        "data = x_val[\"brand\"].values.reshape(-1, 1)\n",
        "data = onehot.fit_transform(data)\n",
        "names = onehot.categories_[0]\n",
        "x_val[names] = data\n",
        "x_val.drop(columns=\"brand\", inplace=True)"
      ],
      "metadata": {
        "id": "omftpoupcqfD"
      },
      "execution_count": null,
      "outputs": []
    },
    {
      "cell_type": "code",
      "source": [
        "x_train.head(1)"
      ],
      "metadata": {
        "id": "5hXk9ABPfJ28",
        "colab": {
          "base_uri": "https://localhost:8080/",
          "height": 154
        },
        "outputId": "284ecdca-ebf0-412d-c41e-ade76f747294"
      },
      "execution_count": null,
      "outputs": [
        {
          "output_type": "execute_result",
          "data": {
            "text/plain": [
              "      kms_driven  owner  age  power  BMW  Bajaj  Benelli  Ducati  \\\n",
              "4618      6087.0      0    4  100.0    0      1        0       0   \n",
              "\n",
              "      Harley-Davidson  Hero  ...  LML  MV  Mahindra  Rajdoot  Royal Enfield  \\\n",
              "4618                0     0  ...    0   0         0        0              0   \n",
              "\n",
              "      Suzuki  TVS  Triumph  Yamaha  Yezdi  \n",
              "4618       0    0        0       0      0  \n",
              "\n",
              "[1 rows x 27 columns]"
            ],
            "text/html": [
              "\n",
              "  <div id=\"df-a905d9ae-9f86-4add-859d-7d8857b535e2\">\n",
              "    <div class=\"colab-df-container\">\n",
              "      <div>\n",
              "<style scoped>\n",
              "    .dataframe tbody tr th:only-of-type {\n",
              "        vertical-align: middle;\n",
              "    }\n",
              "\n",
              "    .dataframe tbody tr th {\n",
              "        vertical-align: top;\n",
              "    }\n",
              "\n",
              "    .dataframe thead th {\n",
              "        text-align: right;\n",
              "    }\n",
              "</style>\n",
              "<table border=\"1\" class=\"dataframe\">\n",
              "  <thead>\n",
              "    <tr style=\"text-align: right;\">\n",
              "      <th></th>\n",
              "      <th>kms_driven</th>\n",
              "      <th>owner</th>\n",
              "      <th>age</th>\n",
              "      <th>power</th>\n",
              "      <th>BMW</th>\n",
              "      <th>Bajaj</th>\n",
              "      <th>Benelli</th>\n",
              "      <th>Ducati</th>\n",
              "      <th>Harley-Davidson</th>\n",
              "      <th>Hero</th>\n",
              "      <th>...</th>\n",
              "      <th>LML</th>\n",
              "      <th>MV</th>\n",
              "      <th>Mahindra</th>\n",
              "      <th>Rajdoot</th>\n",
              "      <th>Royal Enfield</th>\n",
              "      <th>Suzuki</th>\n",
              "      <th>TVS</th>\n",
              "      <th>Triumph</th>\n",
              "      <th>Yamaha</th>\n",
              "      <th>Yezdi</th>\n",
              "    </tr>\n",
              "  </thead>\n",
              "  <tbody>\n",
              "    <tr>\n",
              "      <th>4618</th>\n",
              "      <td>6087.0</td>\n",
              "      <td>0</td>\n",
              "      <td>4</td>\n",
              "      <td>100.0</td>\n",
              "      <td>0</td>\n",
              "      <td>1</td>\n",
              "      <td>0</td>\n",
              "      <td>0</td>\n",
              "      <td>0</td>\n",
              "      <td>0</td>\n",
              "      <td>...</td>\n",
              "      <td>0</td>\n",
              "      <td>0</td>\n",
              "      <td>0</td>\n",
              "      <td>0</td>\n",
              "      <td>0</td>\n",
              "      <td>0</td>\n",
              "      <td>0</td>\n",
              "      <td>0</td>\n",
              "      <td>0</td>\n",
              "      <td>0</td>\n",
              "    </tr>\n",
              "  </tbody>\n",
              "</table>\n",
              "<p>1 rows × 27 columns</p>\n",
              "</div>\n",
              "      <button class=\"colab-df-convert\" onclick=\"convertToInteractive('df-a905d9ae-9f86-4add-859d-7d8857b535e2')\"\n",
              "              title=\"Convert this dataframe to an interactive table.\"\n",
              "              style=\"display:none;\">\n",
              "        \n",
              "  <svg xmlns=\"http://www.w3.org/2000/svg\" height=\"24px\"viewBox=\"0 0 24 24\"\n",
              "       width=\"24px\">\n",
              "    <path d=\"M0 0h24v24H0V0z\" fill=\"none\"/>\n",
              "    <path d=\"M18.56 5.44l.94 2.06.94-2.06 2.06-.94-2.06-.94-.94-2.06-.94 2.06-2.06.94zm-11 1L8.5 8.5l.94-2.06 2.06-.94-2.06-.94L8.5 2.5l-.94 2.06-2.06.94zm10 10l.94 2.06.94-2.06 2.06-.94-2.06-.94-.94-2.06-.94 2.06-2.06.94z\"/><path d=\"M17.41 7.96l-1.37-1.37c-.4-.4-.92-.59-1.43-.59-.52 0-1.04.2-1.43.59L10.3 9.45l-7.72 7.72c-.78.78-.78 2.05 0 2.83L4 21.41c.39.39.9.59 1.41.59.51 0 1.02-.2 1.41-.59l7.78-7.78 2.81-2.81c.8-.78.8-2.07 0-2.86zM5.41 20L4 18.59l7.72-7.72 1.47 1.35L5.41 20z\"/>\n",
              "  </svg>\n",
              "      </button>\n",
              "      \n",
              "  <style>\n",
              "    .colab-df-container {\n",
              "      display:flex;\n",
              "      flex-wrap:wrap;\n",
              "      gap: 12px;\n",
              "    }\n",
              "\n",
              "    .colab-df-convert {\n",
              "      background-color: #E8F0FE;\n",
              "      border: none;\n",
              "      border-radius: 50%;\n",
              "      cursor: pointer;\n",
              "      display: none;\n",
              "      fill: #1967D2;\n",
              "      height: 32px;\n",
              "      padding: 0 0 0 0;\n",
              "      width: 32px;\n",
              "    }\n",
              "\n",
              "    .colab-df-convert:hover {\n",
              "      background-color: #E2EBFA;\n",
              "      box-shadow: 0px 1px 2px rgba(60, 64, 67, 0.3), 0px 1px 3px 1px rgba(60, 64, 67, 0.15);\n",
              "      fill: #174EA6;\n",
              "    }\n",
              "\n",
              "    [theme=dark] .colab-df-convert {\n",
              "      background-color: #3B4455;\n",
              "      fill: #D2E3FC;\n",
              "    }\n",
              "\n",
              "    [theme=dark] .colab-df-convert:hover {\n",
              "      background-color: #434B5C;\n",
              "      box-shadow: 0px 1px 3px 1px rgba(0, 0, 0, 0.15);\n",
              "      filter: drop-shadow(0px 1px 2px rgba(0, 0, 0, 0.3));\n",
              "      fill: #FFFFFF;\n",
              "    }\n",
              "  </style>\n",
              "\n",
              "      <script>\n",
              "        const buttonEl =\n",
              "          document.querySelector('#df-a905d9ae-9f86-4add-859d-7d8857b535e2 button.colab-df-convert');\n",
              "        buttonEl.style.display =\n",
              "          google.colab.kernel.accessAllowed ? 'block' : 'none';\n",
              "\n",
              "        async function convertToInteractive(key) {\n",
              "          const element = document.querySelector('#df-a905d9ae-9f86-4add-859d-7d8857b535e2');\n",
              "          const dataTable =\n",
              "            await google.colab.kernel.invokeFunction('convertToInteractive',\n",
              "                                                     [key], {});\n",
              "          if (!dataTable) return;\n",
              "\n",
              "          const docLinkHtml = 'Like what you see? Visit the ' +\n",
              "            '<a target=\"_blank\" href=https://colab.research.google.com/notebooks/data_table.ipynb>data table notebook</a>'\n",
              "            + ' to learn more about interactive tables.';\n",
              "          element.innerHTML = '';\n",
              "          dataTable['output_type'] = 'display_data';\n",
              "          await google.colab.output.renderOutput(dataTable, element);\n",
              "          const docLink = document.createElement('div');\n",
              "          docLink.innerHTML = docLinkHtml;\n",
              "          element.appendChild(docLink);\n",
              "        }\n",
              "      </script>\n",
              "    </div>\n",
              "  </div>\n",
              "  "
            ]
          },
          "metadata": {},
          "execution_count": 162
        }
      ]
    },
    {
      "cell_type": "code",
      "source": [
        "x_val.head(1)"
      ],
      "metadata": {
        "id": "imOShHuvfRIS",
        "colab": {
          "base_uri": "https://localhost:8080/",
          "height": 154
        },
        "outputId": "4a38d721-d492-4a31-a64f-6cb3672b0044"
      },
      "execution_count": null,
      "outputs": [
        {
          "output_type": "execute_result",
          "data": {
            "text/plain": [
              "       kms_driven  owner  age  power  BMW  Bajaj  Benelli  Ducati  \\\n",
              "17217     20373.0      0    6  220.0    0      1        0       0   \n",
              "\n",
              "       Harley-Davidson  Hero  ...  LML  MV  Mahindra  Rajdoot  Royal Enfield  \\\n",
              "17217                0     0  ...    0   0         0        0              0   \n",
              "\n",
              "       Suzuki  TVS  Triumph  Yamaha  Yezdi  \n",
              "17217       0    0        0       0      0  \n",
              "\n",
              "[1 rows x 27 columns]"
            ],
            "text/html": [
              "\n",
              "  <div id=\"df-18922857-ae39-4dcf-9b1c-756ae252f3e0\">\n",
              "    <div class=\"colab-df-container\">\n",
              "      <div>\n",
              "<style scoped>\n",
              "    .dataframe tbody tr th:only-of-type {\n",
              "        vertical-align: middle;\n",
              "    }\n",
              "\n",
              "    .dataframe tbody tr th {\n",
              "        vertical-align: top;\n",
              "    }\n",
              "\n",
              "    .dataframe thead th {\n",
              "        text-align: right;\n",
              "    }\n",
              "</style>\n",
              "<table border=\"1\" class=\"dataframe\">\n",
              "  <thead>\n",
              "    <tr style=\"text-align: right;\">\n",
              "      <th></th>\n",
              "      <th>kms_driven</th>\n",
              "      <th>owner</th>\n",
              "      <th>age</th>\n",
              "      <th>power</th>\n",
              "      <th>BMW</th>\n",
              "      <th>Bajaj</th>\n",
              "      <th>Benelli</th>\n",
              "      <th>Ducati</th>\n",
              "      <th>Harley-Davidson</th>\n",
              "      <th>Hero</th>\n",
              "      <th>...</th>\n",
              "      <th>LML</th>\n",
              "      <th>MV</th>\n",
              "      <th>Mahindra</th>\n",
              "      <th>Rajdoot</th>\n",
              "      <th>Royal Enfield</th>\n",
              "      <th>Suzuki</th>\n",
              "      <th>TVS</th>\n",
              "      <th>Triumph</th>\n",
              "      <th>Yamaha</th>\n",
              "      <th>Yezdi</th>\n",
              "    </tr>\n",
              "  </thead>\n",
              "  <tbody>\n",
              "    <tr>\n",
              "      <th>17217</th>\n",
              "      <td>20373.0</td>\n",
              "      <td>0</td>\n",
              "      <td>6</td>\n",
              "      <td>220.0</td>\n",
              "      <td>0</td>\n",
              "      <td>1</td>\n",
              "      <td>0</td>\n",
              "      <td>0</td>\n",
              "      <td>0</td>\n",
              "      <td>0</td>\n",
              "      <td>...</td>\n",
              "      <td>0</td>\n",
              "      <td>0</td>\n",
              "      <td>0</td>\n",
              "      <td>0</td>\n",
              "      <td>0</td>\n",
              "      <td>0</td>\n",
              "      <td>0</td>\n",
              "      <td>0</td>\n",
              "      <td>0</td>\n",
              "      <td>0</td>\n",
              "    </tr>\n",
              "  </tbody>\n",
              "</table>\n",
              "<p>1 rows × 27 columns</p>\n",
              "</div>\n",
              "      <button class=\"colab-df-convert\" onclick=\"convertToInteractive('df-18922857-ae39-4dcf-9b1c-756ae252f3e0')\"\n",
              "              title=\"Convert this dataframe to an interactive table.\"\n",
              "              style=\"display:none;\">\n",
              "        \n",
              "  <svg xmlns=\"http://www.w3.org/2000/svg\" height=\"24px\"viewBox=\"0 0 24 24\"\n",
              "       width=\"24px\">\n",
              "    <path d=\"M0 0h24v24H0V0z\" fill=\"none\"/>\n",
              "    <path d=\"M18.56 5.44l.94 2.06.94-2.06 2.06-.94-2.06-.94-.94-2.06-.94 2.06-2.06.94zm-11 1L8.5 8.5l.94-2.06 2.06-.94-2.06-.94L8.5 2.5l-.94 2.06-2.06.94zm10 10l.94 2.06.94-2.06 2.06-.94-2.06-.94-.94-2.06-.94 2.06-2.06.94z\"/><path d=\"M17.41 7.96l-1.37-1.37c-.4-.4-.92-.59-1.43-.59-.52 0-1.04.2-1.43.59L10.3 9.45l-7.72 7.72c-.78.78-.78 2.05 0 2.83L4 21.41c.39.39.9.59 1.41.59.51 0 1.02-.2 1.41-.59l7.78-7.78 2.81-2.81c.8-.78.8-2.07 0-2.86zM5.41 20L4 18.59l7.72-7.72 1.47 1.35L5.41 20z\"/>\n",
              "  </svg>\n",
              "      </button>\n",
              "      \n",
              "  <style>\n",
              "    .colab-df-container {\n",
              "      display:flex;\n",
              "      flex-wrap:wrap;\n",
              "      gap: 12px;\n",
              "    }\n",
              "\n",
              "    .colab-df-convert {\n",
              "      background-color: #E8F0FE;\n",
              "      border: none;\n",
              "      border-radius: 50%;\n",
              "      cursor: pointer;\n",
              "      display: none;\n",
              "      fill: #1967D2;\n",
              "      height: 32px;\n",
              "      padding: 0 0 0 0;\n",
              "      width: 32px;\n",
              "    }\n",
              "\n",
              "    .colab-df-convert:hover {\n",
              "      background-color: #E2EBFA;\n",
              "      box-shadow: 0px 1px 2px rgba(60, 64, 67, 0.3), 0px 1px 3px 1px rgba(60, 64, 67, 0.15);\n",
              "      fill: #174EA6;\n",
              "    }\n",
              "\n",
              "    [theme=dark] .colab-df-convert {\n",
              "      background-color: #3B4455;\n",
              "      fill: #D2E3FC;\n",
              "    }\n",
              "\n",
              "    [theme=dark] .colab-df-convert:hover {\n",
              "      background-color: #434B5C;\n",
              "      box-shadow: 0px 1px 3px 1px rgba(0, 0, 0, 0.15);\n",
              "      filter: drop-shadow(0px 1px 2px rgba(0, 0, 0, 0.3));\n",
              "      fill: #FFFFFF;\n",
              "    }\n",
              "  </style>\n",
              "\n",
              "      <script>\n",
              "        const buttonEl =\n",
              "          document.querySelector('#df-18922857-ae39-4dcf-9b1c-756ae252f3e0 button.colab-df-convert');\n",
              "        buttonEl.style.display =\n",
              "          google.colab.kernel.accessAllowed ? 'block' : 'none';\n",
              "\n",
              "        async function convertToInteractive(key) {\n",
              "          const element = document.querySelector('#df-18922857-ae39-4dcf-9b1c-756ae252f3e0');\n",
              "          const dataTable =\n",
              "            await google.colab.kernel.invokeFunction('convertToInteractive',\n",
              "                                                     [key], {});\n",
              "          if (!dataTable) return;\n",
              "\n",
              "          const docLinkHtml = 'Like what you see? Visit the ' +\n",
              "            '<a target=\"_blank\" href=https://colab.research.google.com/notebooks/data_table.ipynb>data table notebook</a>'\n",
              "            + ' to learn more about interactive tables.';\n",
              "          element.innerHTML = '';\n",
              "          dataTable['output_type'] = 'display_data';\n",
              "          await google.colab.output.renderOutput(dataTable, element);\n",
              "          const docLink = document.createElement('div');\n",
              "          docLink.innerHTML = docLinkHtml;\n",
              "          element.appendChild(docLink);\n",
              "        }\n",
              "      </script>\n",
              "    </div>\n",
              "  </div>\n",
              "  "
            ]
          },
          "metadata": {},
          "execution_count": 163
        }
      ]
    },
    {
      "cell_type": "markdown",
      "source": [
        "dopo la trasformazione delle colonne categoriche i dati sono pronti per esssere usati nell'addestramento dei modelli."
      ],
      "metadata": {
        "id": "-_3i-q8Glgi7"
      }
    },
    {
      "cell_type": "code",
      "source": [
        "x_numerical = [\"kms_driven\", \"owner\", \"age\", \"power\"]\n",
        "x_bool = x_val.drop(columns=x_numerical).columns.tolist()\n",
        "x_val.info()"
      ],
      "metadata": {
        "id": "Y2jLbDC-mVHU",
        "colab": {
          "base_uri": "https://localhost:8080/"
        },
        "outputId": "560cc9d4-5384-4899-933a-f2cb50531a57"
      },
      "execution_count": null,
      "outputs": [
        {
          "output_type": "stream",
          "name": "stdout",
          "text": [
            "<class 'pandas.core.frame.DataFrame'>\n",
            "Int64Index: 10606 entries, 17217 to 6685\n",
            "Data columns (total 27 columns):\n",
            " #   Column           Non-Null Count  Dtype  \n",
            "---  ------           --------------  -----  \n",
            " 0   kms_driven       10606 non-null  float64\n",
            " 1   owner            10606 non-null  int64  \n",
            " 2   age              10606 non-null  int64  \n",
            " 3   power            10606 non-null  float64\n",
            " 4   BMW              10606 non-null  int64  \n",
            " 5   Bajaj            10606 non-null  int64  \n",
            " 6   Benelli          10606 non-null  int64  \n",
            " 7   Ducati           10606 non-null  int64  \n",
            " 8   Harley-Davidson  10606 non-null  int64  \n",
            " 9   Hero             10606 non-null  int64  \n",
            " 10  Honda            10606 non-null  int64  \n",
            " 11  Hyosung          10606 non-null  int64  \n",
            " 12  Ideal            10606 non-null  int64  \n",
            " 13  Indian           10606 non-null  int64  \n",
            " 14  Jawa             10606 non-null  int64  \n",
            " 15  KTM              10606 non-null  int64  \n",
            " 16  Kawasaki         10606 non-null  int64  \n",
            " 17  LML              10606 non-null  int64  \n",
            " 18  MV               10606 non-null  int64  \n",
            " 19  Mahindra         10606 non-null  int64  \n",
            " 20  Rajdoot          10606 non-null  int64  \n",
            " 21  Royal Enfield    10606 non-null  int64  \n",
            " 22  Suzuki           10606 non-null  int64  \n",
            " 23  TVS              10606 non-null  int64  \n",
            " 24  Triumph          10606 non-null  int64  \n",
            " 25  Yamaha           10606 non-null  int64  \n",
            " 26  Yezdi            10606 non-null  int64  \n",
            "dtypes: float64(2), int64(25)\n",
            "memory usage: 2.3 MB\n"
          ]
        }
      ]
    },
    {
      "cell_type": "markdown",
      "source": [
        "# addestramento modelli"
      ],
      "metadata": {
        "id": "rMvfXRdfERaV"
      }
    },
    {
      "cell_type": "markdown",
      "source": [
        "si procede ad addestrare alcuni modelli di regressione per poi confrontarne i loro punteggi.  \n",
        "Ogni modello verrà addestrato attraverso una **grid search** per la ricerca degli iperparametri."
      ],
      "metadata": {
        "id": "egz-cr4XmgL6"
      }
    },
    {
      "cell_type": "code",
      "source": [
        "from sklearn.linear_model import LinearRegression, Ridge\n",
        "\n",
        "from sklearn.model_selection import KFold\n",
        "from sklearn.model_selection import GridSearchCV, cross_val_score\n",
        "\n",
        "from sklearn.metrics import r2_score, mean_squared_error\n",
        "\n",
        "from sklearn.pipeline import Pipeline\n",
        "from sklearn.compose import ColumnTransformer\n",
        "from sklearn.preprocessing import RobustScaler, PolynomialFeatures\n",
        "\n",
        "kf = KFold(n_splits=_N_SPLITS, shuffle=True, random_state=_RANDOM_STATE)"
      ],
      "metadata": {
        "id": "PRRHBuJPojBy"
      },
      "execution_count": null,
      "outputs": []
    },
    {
      "cell_type": "code",
      "source": [
        "def print_scores(y_pred, y_true):\n",
        "  r2 = r2_score(y_pred=y_pred, y_true=y_true)\n",
        "  mse = mean_squared_error(y_pred=y_pred, y_true=y_true)\n",
        "  re = np.mean(np.abs(1-(y_pred/y_true))) \n",
        "  print(f\"r2 score: {r2:.4f}, mean squared error: {mse:.4f}, relative error: {re:.4f}\")"
      ],
      "metadata": {
        "id": "fLyVsxyFI6Wu"
      },
      "execution_count": null,
      "outputs": []
    },
    {
      "cell_type": "markdown",
      "source": [
        "## Modello lineare "
      ],
      "metadata": {
        "id": "8lK52b56YRBy"
      }
    },
    {
      "cell_type": "markdown",
      "source": [
        "Si procede alla creazione di un modello lineare semplice. Questo verrà usato come modello di base per il confronto con gli altri modelli."
      ],
      "metadata": {
        "id": "8rH9SaoBYxfG"
      }
    },
    {
      "cell_type": "code",
      "source": [
        "lin_mdl = LinearRegression(n_jobs=-1)\n",
        "lin_score = cross_val_score(lin_mdl, x_train, y_train, scoring=\"r2\", cv=kf).mean()\n",
        "lin_mdl.fit(x_train, y_train)\n",
        "print(\"mean r2 score on train data: \", lin_score, \"\\n\\nscores on test data:\")\n",
        "print_scores(lin_mdl.predict(x_val), y_val)\n",
        "\n",
        "print(\"\\n\\n coefficients: \", lin_mdl.coef_)\n",
        "print(\"intercept: \", lin_mdl.intercept_)"
      ],
      "metadata": {
        "id": "xPlx_y-TFw29",
        "colab": {
          "base_uri": "https://localhost:8080/"
        },
        "outputId": "d6b80dfd-d69d-4842-c85e-51fee9e12809"
      },
      "execution_count": null,
      "outputs": [
        {
          "output_type": "stream",
          "name": "stdout",
          "text": [
            "mean r2 score on train data:  0.8873222737372719 \n",
            "\n",
            "scores on test data:\n",
            "r2 score: 0.8896, mean squared error: 237764225.5537, relative error: 0.2925\n",
            "\n",
            "\n",
            " coefficients:  [-1.91339227e-01 -2.25709939e+03 -2.77812577e+03  3.39815578e+02\n",
            "  1.28721777e+05 -6.40238665e+04  5.63024252e+04  6.65703285e+04\n",
            "  4.90779243e+04 -5.36690720e+04 -4.66407103e+04  4.86169664e+04\n",
            "  4.52928361e-10 -1.16415322e-10  3.95582068e+04 -2.90059204e+03\n",
            "  6.94565521e+04 -2.91038305e-11  0.00000000e+00 -5.06267950e+04\n",
            "  0.00000000e+00 -7.61938240e+04 -5.18609041e+04 -6.49841334e+04\n",
            "  0.00000000e+00 -4.74042835e+04  0.00000000e+00]\n",
            "intercept:  73871.11913878821\n"
          ]
        }
      ]
    },
    {
      "cell_type": "markdown",
      "source": [
        "Si procede a verificare se una **standardizzzazione** dei dati in aggiunta al modello lineare migliori o meno le prestazioni. "
      ],
      "metadata": {
        "id": "DjhxpixZZDns"
      }
    },
    {
      "cell_type": "code",
      "source": [
        "scaler = ColumnTransformer([\n",
        "    (\"scaler\", RobustScaler(), x_numerical)\n",
        "], remainder=\"passthrough\")\n",
        "lin_scaled_model = Pipeline([\n",
        "    (\"scaler\", scaler),\n",
        "    (\"model\", LinearRegression())\n",
        "])\n",
        "\n",
        "scaled_score = cross_val_score(lin_scaled_model, x_train, y_train, scoring=\"r2\", cv=kf).mean()\n",
        "print(\"mean r2 score on train data: \", scaled_score, \"\\n\\nscores on test data:\")\n",
        "lin_scaled_model.fit(x_train, y_train)\n",
        "print_scores(lin_scaled_model.predict(x_val), y_val)\n",
        "\n",
        "print(\"\\n\\n coefficients: \", lin_scaled_model.named_steps[\"model\"].coef_)\n",
        "print(\"intercept: \", lin_scaled_model.named_steps[\"model\"].intercept_)"
      ],
      "metadata": {
        "id": "3woyqg6BOAt6",
        "colab": {
          "base_uri": "https://localhost:8080/"
        },
        "outputId": "1c8604cb-a5c1-42a8-cd53-deb98fc3d474"
      },
      "execution_count": null,
      "outputs": [
        {
          "output_type": "stream",
          "name": "stdout",
          "text": [
            "mean r2 score on train data:  0.887322273737263 \n",
            "\n",
            "scores on test data:\n",
            "r2 score: 0.8896, mean squared error: 237764225.5537, relative error: 0.2925\n",
            "\n",
            "\n",
            " coefficients:  [-4.35947295e+03 -2.25709939e+03 -1.38906289e+04  2.88843242e+04\n",
            "  1.28721777e+05 -6.40238665e+04  5.63024252e+04  6.65703285e+04\n",
            "  4.90779243e+04 -5.36690720e+04 -4.66407103e+04  4.86169664e+04\n",
            "  2.91038305e-11  2.18278728e-11  3.95582068e+04 -2.90059204e+03\n",
            "  6.94565521e+04 -5.82076609e-11 -2.27373675e-12 -5.06267950e+04\n",
            "  0.00000000e+00 -7.61938240e+04 -5.18609041e+04 -6.49841334e+04\n",
            "  0.00000000e+00 -4.74042835e+04  0.00000000e+00]\n",
            "intercept:  101426.28652418769\n"
          ]
        }
      ]
    },
    {
      "cell_type": "markdown",
      "source": [
        "Come si può vedere non ci sono miglioramenti apprezzabili delle previsioni del modello.  \n",
        "Verrà, per questo, usato il modello lineare semplice per i confronti."
      ],
      "metadata": {
        "id": "HWZClDZYmrIf"
      }
    },
    {
      "cell_type": "markdown",
      "source": [
        "## Modelli polinomiali\n",
        "Segue la crezione ed il confronto di alcuni modelli polinomiali:\n",
        "- modello polinomiale semplice\n",
        "- modello polinomiale con standardizzazione dei dati\n",
        "- modello polinomiale con standardizzazione e penalizzazione dei coefficienti\n",
        "\n",
        "I modelli iniziali verranno creati usando i parametri preimpostati al fine di stimare quale sia migliore.\n",
        "Il modello scelto sarà poi riaddestrato con una ricerca dei parametri."
      ],
      "metadata": {
        "id": "0yDVWzpfYRFg"
      }
    },
    {
      "cell_type": "markdown",
      "source": [
        "### modello polinomiale lineare\n",
        "Segue la creazione di un modello lineare semplice e la stampa dei dati generati dal filtro polinomiale.  \n",
        "Senza specificare parametri vengono generati i dati fino al secondo grado.\n",
        "\n",
        "I dati di tipo categorico **non** vengono modificati dalla trasformazione."
      ],
      "metadata": {
        "id": "FwgVUDK9qlNB"
      }
    },
    {
      "cell_type": "code",
      "source": [
        "poly = ColumnTransformer([\n",
        "    (\"poly\", PolynomialFeatures(include_bias=False), x_numerical)\n",
        "], remainder=\"passthrough\")\n",
        "pol_lin_model = Pipeline([\n",
        "    (\"poly\", poly),\n",
        "    (\"model\", LinearRegression())\n",
        "])\n",
        "\n",
        "pol_score = cross_val_score(pol_lin_model, x_train, y_train, scoring=\"r2\", cv=kf).mean()\n",
        "print(\"mean r2 score on train data: \", pol_score, \"\\n\\nscores on test data:\")\n",
        "\n",
        "pol_lin_model.fit(x_train, y_train)\n",
        "print_scores(pol_lin_model.predict(x_val), y_val)"
      ],
      "metadata": {
        "id": "-I4t7bMenPoo",
        "colab": {
          "base_uri": "https://localhost:8080/"
        },
        "outputId": "c50c243d-91da-4a71-c833-63751d047453"
      },
      "execution_count": null,
      "outputs": [
        {
          "output_type": "stream",
          "name": "stdout",
          "text": [
            "mean r2 score on train data:  0.921992642887535 \n",
            "\n",
            "scores on test data:\n",
            "r2 score: 0.9277, mean squared error: 155830089.1448, relative error: 0.1867\n"
          ]
        }
      ]
    },
    {
      "cell_type": "code",
      "source": [
        "# columns generated by PolynomialFeatures\n",
        "pol_lin_model.named_steps[\"poly\"].transformers_[0][1].get_feature_names_out().tolist()"
      ],
      "metadata": {
        "id": "-pOtx5z5qBw1",
        "colab": {
          "base_uri": "https://localhost:8080/"
        },
        "outputId": "8ddb68df-8ccb-49e5-a582-4c4744a38382"
      },
      "execution_count": null,
      "outputs": [
        {
          "output_type": "execute_result",
          "data": {
            "text/plain": [
              "['kms_driven',\n",
              " 'owner',\n",
              " 'age',\n",
              " 'power',\n",
              " 'kms_driven^2',\n",
              " 'kms_driven owner',\n",
              " 'kms_driven age',\n",
              " 'kms_driven power',\n",
              " 'owner^2',\n",
              " 'owner age',\n",
              " 'owner power',\n",
              " 'age^2',\n",
              " 'age power',\n",
              " 'power^2']"
            ]
          },
          "metadata": {},
          "execution_count": 170
        }
      ]
    },
    {
      "cell_type": "markdown",
      "source": [
        "### modello polinomiale lineare con standardizzazione delle feature\n",
        "Segue la creazione di un modello polinomiale con standardizzzazione (e centratura) dei dati in input.  \n",
        "La standardizzazione avviene grazie al filtro `RobustScaler`, una versione di `StandardScaler` meno suscettibile a valori erratici (outliers), che non usa la deviazione standard ma la diferenza tra gli estremi del 1° e 3° quartile (*IQR*) per ridimensionare i dati.\n",
        "\n",
        "Il grado dei termini generati rimane il 2°."
      ],
      "metadata": {
        "id": "i7lgWm2wqp3c"
      }
    },
    {
      "cell_type": "code",
      "source": [
        "poly_std = ColumnTransformer([\n",
        "    (\"poly\", PolynomialFeatures(include_bias=False), x_numerical),\n",
        "    (\"scaler\", RobustScaler(), x_numerical)\n",
        "], remainder=\"passthrough\")\n",
        "pol_scale_model = Pipeline([\n",
        "    (\"scaler\", poly_std),\n",
        "    (\"model\", LinearRegression())\n",
        "])\n",
        "\n",
        "pol_scale_score = cross_val_score(pol_scale_model, x_train, y_train, scoring=\"r2\", cv=kf).mean()\n",
        "print(\"mean r2 score on train data: \", pol_scale_score, \"\\n\\nscores on test data:\")\n",
        "\n",
        "pol_scale_model.fit(x_train, y_train)\n",
        "print_scores(pol_scale_model.predict(x_val), y_val)"
      ],
      "metadata": {
        "id": "G_wvZCq0rb3D",
        "colab": {
          "base_uri": "https://localhost:8080/"
        },
        "outputId": "1db2c441-01ab-4516-c7d9-e4ced170a43d"
      },
      "execution_count": null,
      "outputs": [
        {
          "output_type": "stream",
          "name": "stdout",
          "text": [
            "mean r2 score on train data:  0.9219926491541734 \n",
            "\n",
            "scores on test data:\n",
            "r2 score: 0.9277, mean squared error: 155830100.4112, relative error: 0.1867\n"
          ]
        }
      ]
    },
    {
      "cell_type": "code",
      "source": [
        "scale_coef = pol_scale_model.named_steps[\"model\"].coef_\n",
        "lin_coef = pol_lin_model.named_steps[\"model\"].coef_\n",
        "\n",
        "width = 0.50\n",
        "plt.figure(figsize=(15,8))\n",
        "plt.bar(np.arange(len(scale_coef)), scale_coef, width, label=\"scaled\")\n",
        "plt.bar((np.arange(len(lin_coef)) + width), lin_coef, width, label=\"non scaled\")\n",
        "plt.legend()\n",
        "plt.title(\"polinomial model coefficients comparison\")"
      ],
      "metadata": {
        "id": "7vJ0oEVlQpXV",
        "colab": {
          "base_uri": "https://localhost:8080/",
          "height": 717
        },
        "outputId": "c6132eaf-0c87-40fc-960c-5b54184fb244"
      },
      "execution_count": null,
      "outputs": [
        {
          "output_type": "execute_result",
          "data": {
            "text/plain": [
              "Text(0.5, 1.0, 'polinomial model coefficients comparison')"
            ]
          },
          "metadata": {},
          "execution_count": 172
        },
        {
          "output_type": "display_data",
          "data": {
            "text/plain": [
              "<Figure size 1500x800 with 1 Axes>"
            ],
            "image/png": "[encoded data removed]"
          },
          "metadata": {}
        }
      ]
    },
    {
      "cell_type": "code",
      "source": [
        "print(\"mean value of the coefficients from the scaled model: \",np.abs(scale_coef).mean(), \"\\nmean value of the coefficients from the not scaled model: \" , np.abs(lin_coef).mean(\n",
        "))"
      ],
      "metadata": {
        "id": "kOR4KE1DQ7PI",
        "colab": {
          "base_uri": "https://localhost:8080/"
        },
        "outputId": "c95b6ea3-8e74-4bcb-c68e-f07af4d3605f"
      },
      "execution_count": null,
      "outputs": [
        {
          "output_type": "stream",
          "name": "stdout",
          "text": [
            "mean value of the coefficients from the scaled model:  26565.59604394454 \n",
            "mean value of the coefficients from the not scaled model:  29420.15760009637\n"
          ]
        }
      ]
    },
    {
      "cell_type": "markdown",
      "source": [
        "Sopra si può vedere il confronto dei coefficienti dei modelli polinomiali con e senza standardizzazione dei dati.\n",
        "Non si evidenziano particolari differenze ma il modello standardizzato **in media** mostra coefficienti minori in valore assoluto.  \n",
        "Verrà mantenuto il modello standardizzato per il prossimo confronto."
      ],
      "metadata": {
        "id": "sv8DR3jwWY4p"
      }
    },
    {
      "cell_type": "markdown",
      "source": [
        "### modello polinomiale con penalizzazione e standardizzazione features"
      ],
      "metadata": {
        "id": "IQYEfQP2quli"
      }
    },
    {
      "cell_type": "code",
      "source": [
        "# Ridge model\n",
        "rg_scale_model = Pipeline([\n",
        "    (\"scaler\", poly_std),\n",
        "    (\"model\", Ridge())\n",
        "])\n",
        "\n",
        "rg_scale_score = cross_val_score(rg_scale_model, x_train, y_train, scoring=\"r2\", cv=kf).mean()\n",
        "print(\"\\nmean r2 score on train data: \", rg_scale_score, \"\\n\\nscores on test data:\")\n",
        "\n",
        "rg_scale_model.fit(x_train, y_train)\n",
        "print_scores(rg_scale_model.predict(x_val), y_val)"
      ],
      "metadata": {
        "id": "Vtm_9k67ue_5",
        "colab": {
          "base_uri": "https://localhost:8080/"
        },
        "outputId": "c9121b53-21e8-4b86-b0ac-f1c324a3474f"
      },
      "execution_count": null,
      "outputs": [
        {
          "output_type": "stream",
          "name": "stderr",
          "text": [
            "/usr/local/lib/python3.10/dist-packages/sklearn/linear_model/_ridge.py:216: LinAlgWarning: Ill-conditioned matrix (rcond=6.52621e-25): result may not be accurate.\n",
            "  return linalg.solve(A, Xy, assume_a=\"pos\", overwrite_a=True).T\n",
            "/usr/local/lib/python3.10/dist-packages/sklearn/linear_model/_ridge.py:216: LinAlgWarning: Ill-conditioned matrix (rcond=8.29296e-25): result may not be accurate.\n",
            "  return linalg.solve(A, Xy, assume_a=\"pos\", overwrite_a=True).T\n",
            "/usr/local/lib/python3.10/dist-packages/sklearn/linear_model/_ridge.py:216: LinAlgWarning: Ill-conditioned matrix (rcond=8.75131e-25): result may not be accurate.\n",
            "  return linalg.solve(A, Xy, assume_a=\"pos\", overwrite_a=True).T\n",
            "/usr/local/lib/python3.10/dist-packages/sklearn/linear_model/_ridge.py:216: LinAlgWarning: Ill-conditioned matrix (rcond=9.47235e-25): result may not be accurate.\n",
            "  return linalg.solve(A, Xy, assume_a=\"pos\", overwrite_a=True).T\n"
          ]
        },
        {
          "output_type": "stream",
          "name": "stdout",
          "text": [
            "\n",
            "mean r2 score on train data:  0.9219724026746464 \n",
            "\n",
            "scores on test data:\n",
            "r2 score: 0.9276, mean squared error: 155893427.5563, relative error: 0.1864\n"
          ]
        },
        {
          "output_type": "stream",
          "name": "stderr",
          "text": [
            "/usr/local/lib/python3.10/dist-packages/sklearn/linear_model/_ridge.py:216: LinAlgWarning: Ill-conditioned matrix (rcond=7.30717e-25): result may not be accurate.\n",
            "  return linalg.solve(A, Xy, assume_a=\"pos\", overwrite_a=True).T\n",
            "/usr/local/lib/python3.10/dist-packages/sklearn/linear_model/_ridge.py:216: LinAlgWarning: Ill-conditioned matrix (rcond=6.32427e-25): result may not be accurate.\n",
            "  return linalg.solve(A, Xy, assume_a=\"pos\", overwrite_a=True).T\n"
          ]
        }
      ]
    },
    {
      "cell_type": "markdown",
      "source": [
        "Confrontando i punteggi ottenuti dai modelli con e senza penalizzazione non si evidenziano differenze significative.  \n",
        "Si confrontano ora i loro coefficienti."
      ],
      "metadata": {
        "id": "TsBfo0mWpW87"
      }
    },
    {
      "cell_type": "code",
      "source": [
        "rg_coef = rg_scale_model.named_steps[\"model\"].coef_\n",
        "\n",
        "width = 0.50\n",
        "plt.figure(figsize=(15,8))\n",
        "plt.bar(np.arange(len(scale_coef)), scale_coef, width, label=\"non penalized\")\n",
        "plt.bar((np.arange(len(rg_coef)) + width), rg_coef, width, label=\"L2\")\n",
        "plt.legend()\n",
        "plt.title(\"polinomial model coefficients comparison\")"
      ],
      "metadata": {
        "id": "tm9NRLexox3U",
        "colab": {
          "base_uri": "https://localhost:8080/",
          "height": 717
        },
        "outputId": "ecc188b1-909a-4936-c87a-b6adf1be39ba"
      },
      "execution_count": null,
      "outputs": [
        {
          "output_type": "execute_result",
          "data": {
            "text/plain": [
              "Text(0.5, 1.0, 'polinomial model coefficients comparison')"
            ]
          },
          "metadata": {},
          "execution_count": 175
        },
        {
          "output_type": "display_data",
          "data": {
            "text/plain": [
              "<Figure size 1500x800 with 1 Axes>"
            ],
            "image/png": "[encoded data removed]"
          },
          "metadata": {}
        }
      ]
    },
    {
      "cell_type": "code",
      "source": [
        "print(\"mean value of the coefficients from the model without L2 penalization: \",np.abs(scale_coef).mean(), \"\\nmean value of the coefficients from the model with L2 penaliztion: \" , np.abs(rg_coef).mean(\n",
        "))"
      ],
      "metadata": {
        "id": "A73EZmSMp20s",
        "colab": {
          "base_uri": "https://localhost:8080/"
        },
        "outputId": "ffd2b086-7efd-4c21-da11-6b99e2685db9"
      },
      "execution_count": null,
      "outputs": [
        {
          "output_type": "stream",
          "name": "stdout",
          "text": [
            "mean value of the coefficients from the model without L2 penalization:  26565.59604394454 \n",
            "mean value of the coefficients from the model with L2 penaliztion:  23129.818213030187\n"
          ]
        }
      ]
    },
    {
      "cell_type": "markdown",
      "source": [
        "I valori assoluti del modello con penalizzazione sono leggermente minori in media rispetto a quelli del modello non penalizzato.  \n",
        "Questo dovrebbe permette una **maggiore stabilità** delle previsioni, particolarmente su dati appartenti agli estremi dell'intervallo di addestramento.\n",
        "\n",
        "Verrà riaddestrato il modello con penalizzazione e standardizzazione."
      ],
      "metadata": {
        "id": "aJ-bvf_kqQVA"
      }
    },
    {
      "cell_type": "markdown",
      "source": [
        "### grid search su modello polinomiale migliore\n",
        "Si riaddestra il modello esplorando diversi parametri per:\n",
        "- il filtro `PolynomialFeature`\n",
        "- il modello `Ridge`"
      ],
      "metadata": {
        "id": "6pp-8DMWvZ2M"
      }
    },
    {
      "cell_type": "code",
      "source": [
        "# grid search on Ridge model\n",
        "%%time\n",
        "rg_grid = {\n",
        "    \"scaler__poly__degree\":  range(2, 6),\n",
        "    # \"scaler__poly__interaction_only\": [True, False],\n",
        "    \"model__alpha\": np.linspace(0.1, 2, num=12)\n",
        "}\n",
        "\n",
        "gs = GridSearchCV(rg_scale_model, rg_grid, n_jobs=-1, cv=kf)\n",
        "gs.fit(x_train, y_train);"
      ],
      "metadata": {
        "id": "WXaAUpeIvqZu",
        "colab": {
          "base_uri": "https://localhost:8080/",
          "height": 290
        },
        "outputId": "aa035902-3ee7-4d9f-b0eb-7aee294f0ad9"
      },
      "execution_count": null,
      "outputs": [
        {
          "output_type": "stream",
          "name": "stdout",
          "text": [
            "CPU times: user 901 ms, sys: 176 ms, total: 1.08 s\n",
            "Wall time: 15.8 s\n"
          ]
        },
        {
          "output_type": "stream",
          "name": "stderr",
          "text": [
            "/usr/local/lib/python3.10/dist-packages/sklearn/linear_model/_ridge.py:216: LinAlgWarning: Ill-conditioned matrix (rcond=9.06749e-37): result may not be accurate.\n",
            "  return linalg.solve(A, Xy, assume_a=\"pos\", overwrite_a=True).T\n"
          ]
        },
        {
          "output_type": "execute_result",
          "data": {
            "text/plain": [
              "GridSearchCV(cv=KFold(n_splits=5, random_state=19, shuffle=True),\n",
              "             estimator=Pipeline(steps=[('scaler',\n",
              "                                        ColumnTransformer(remainder='passthrough',\n",
              "                                                          transformers=[('poly',\n",
              "                                                                         PolynomialFeatures(include_bias=False),\n",
              "                                                                         ['kms_driven',\n",
              "                                                                          'owner',\n",
              "                                                                          'age',\n",
              "                                                                          'power']),\n",
              "                                                                        ('scaler',\n",
              "                                                                         RobustScaler(),\n",
              "                                                                         ['kms_driven',\n",
              "                                                                          'owner',\n",
              "                                                                          'age',\n",
              "                                                                          'power'])])),\n",
              "                                       ('model', Ridge())]),\n",
              "             n_jobs=-1,\n",
              "             param_grid={'model__alpha': array([0.1       , 0.27272727, 0.44545455, 0.61818182, 0.79090909,\n",
              "       0.96363636, 1.13636364, 1.30909091, 1.48181818, 1.65454545,\n",
              "       1.82727273, 2.        ]),\n",
              "                         'scaler__poly__degree': range(2, 6)})"
            ],
            "text/html": [
              "<style>#sk-container-id-16 {color: black;background-color: white;}#sk-container-id-16 pre{padding: 0;}#sk-container-id-16 div.sk-toggleable {background-color: white;}#sk-container-id-16 label.sk-toggleable__label {cursor: pointer;display: block;width: 100%;margin-bottom: 0;padding: 0.3em;box-sizing: border-box;text-align: center;}#sk-container-id-16 label.sk-toggleable__label-arrow:before {content: \"▸\";float: left;margin-right: 0.25em;color: #696969;}#sk-container-id-16 label.sk-toggleable__label-arrow:hover:before {color: black;}#sk-container-id-16 div.sk-estimator:hover label.sk-toggleable__label-arrow:before {color: black;}#sk-container-id-16 div.sk-toggleable__content {max-height: 0;max-width: 0;overflow: hidden;text-align: left;background-color: #f0f8ff;}#sk-container-id-16 div.sk-toggleable__content pre {margin: 0.2em;color: black;border-radius: 0.25em;background-color: #f0f8ff;}#sk-container-id-16 input.sk-toggleable__control:checked~div.sk-toggleable__content {max-height: 200px;max-width: 100%;overflow: auto;}#sk-container-id-16 input.sk-toggleable__control:checked~label.sk-toggleable__label-arrow:before {content: \"▾\";}#sk-container-id-16 div.sk-estimator input.sk-toggleable__control:checked~label.sk-toggleable__label {background-color: #d4ebff;}#sk-container-id-16 div.sk-label input.sk-toggleable__control:checked~label.sk-toggleable__label {background-color: #d4ebff;}#sk-container-id-16 input.sk-hidden--visually {border: 0;clip: rect(1px 1px 1px 1px);clip: rect(1px, 1px, 1px, 1px);height: 1px;margin: -1px;overflow: hidden;padding: 0;position: absolute;width: 1px;}#sk-container-id-16 div.sk-estimator {font-family: monospace;background-color: #f0f8ff;border: 1px dotted black;border-radius: 0.25em;box-sizing: border-box;margin-bottom: 0.5em;}#sk-container-id-16 div.sk-estimator:hover {background-color: #d4ebff;}#sk-container-id-16 div.sk-parallel-item::after {content: \"\";width: 100%;border-bottom: 1px solid gray;flex-grow: 1;}#sk-container-id-16 div.sk-label:hover label.sk-toggleable__label {background-color: #d4ebff;}#sk-container-id-16 div.sk-serial::before {content: \"\";position: absolute;border-left: 1px solid gray;box-sizing: border-box;top: 0;bottom: 0;left: 50%;z-index: 0;}#sk-container-id-16 div.sk-serial {display: flex;flex-direction: column;align-items: center;background-color: white;padding-right: 0.2em;padding-left: 0.2em;position: relative;}#sk-container-id-16 div.sk-item {position: relative;z-index: 1;}#sk-container-id-16 div.sk-parallel {display: flex;align-items: stretch;justify-content: center;background-color: white;position: relative;}#sk-container-id-16 div.sk-item::before, #sk-container-id-16 div.sk-parallel-item::before {content: \"\";position: absolute;border-left: 1px solid gray;box-sizing: border-box;top: 0;bottom: 0;left: 50%;z-index: -1;}#sk-container-id-16 div.sk-parallel-item {display: flex;flex-direction: column;z-index: 1;position: relative;background-color: white;}#sk-container-id-16 div.sk-parallel-item:first-child::after {align-self: flex-end;width: 50%;}#sk-container-id-16 div.sk-parallel-item:last-child::after {align-self: flex-start;width: 50%;}#sk-container-id-16 div.sk-parallel-item:only-child::after {width: 0;}#sk-container-id-16 div.sk-dashed-wrapped {border: 1px dashed gray;margin: 0 0.4em 0.5em 0.4em;box-sizing: border-box;padding-bottom: 0.4em;background-color: white;}#sk-container-id-16 div.sk-label label {font-family: monospace;font-weight: bold;display: inline-block;line-height: 1.2em;}#sk-container-id-16 div.sk-label-container {text-align: center;}#sk-container-id-16 div.sk-container {/* jupyter's `normalize.less` sets `[hidden] { display: none; }` but bootstrap.min.css set `[hidden] { display: none !important; }` so we also need the `!important` here to be able to override the default hidden behavior on the sphinx rendered scikit-learn.org. See: https://github.com/scikit-learn/scikit-learn/issues/21755 */display: inline-block !important;position: relative;}#sk-container-id-16 div.sk-text-repr-fallback {display: none;}</style><div id=\"sk-container-id-16\" class=\"sk-top-container\"><div class=\"sk-text-repr-fallback\"><pre>GridSearchCV(cv=KFold(n_splits=5, random_state=19, shuffle=True),\n",
              "             estimator=Pipeline(steps=[(&#x27;scaler&#x27;,\n",
              "                                        ColumnTransformer(remainder=&#x27;passthrough&#x27;,\n",
              "                                                          transformers=[(&#x27;poly&#x27;,\n",
              "                                                                         PolynomialFeatures(include_bias=False),\n",
              "                                                                         [&#x27;kms_driven&#x27;,\n",
              "                                                                          &#x27;owner&#x27;,\n",
              "                                                                          &#x27;age&#x27;,\n",
              "                                                                          &#x27;power&#x27;]),\n",
              "                                                                        (&#x27;scaler&#x27;,\n",
              "                                                                         RobustScaler(),\n",
              "                                                                         [&#x27;kms_driven&#x27;,\n",
              "                                                                          &#x27;owner&#x27;,\n",
              "                                                                          &#x27;age&#x27;,\n",
              "                                                                          &#x27;power&#x27;])])),\n",
              "                                       (&#x27;model&#x27;, Ridge())]),\n",
              "             n_jobs=-1,\n",
              "             param_grid={&#x27;model__alpha&#x27;: array([0.1       , 0.27272727, 0.44545455, 0.61818182, 0.79090909,\n",
              "       0.96363636, 1.13636364, 1.30909091, 1.48181818, 1.65454545,\n",
              "       1.82727273, 2.        ]),\n",
              "                         &#x27;scaler__poly__degree&#x27;: range(2, 6)})</pre><b>In a Jupyter environment, please rerun this cell to show the HTML representation or trust the notebook. <br />On GitHub, the HTML representation is unable to render, please try loading this page with nbviewer.org.</b></div><div class=\"sk-container\" hidden><div class=\"sk-item sk-dashed-wrapped\"><div class=\"sk-label-container\"><div class=\"sk-label sk-toggleable\"><input class=\"sk-toggleable__control sk-hidden--visually\" id=\"sk-estimator-id-83\" type=\"checkbox\" ><label for=\"sk-estimator-id-83\" class=\"sk-toggleable__label sk-toggleable__label-arrow\">GridSearchCV</label><div class=\"sk-toggleable__content\"><pre>GridSearchCV(cv=KFold(n_splits=5, random_state=19, shuffle=True),\n",
              "             estimator=Pipeline(steps=[(&#x27;scaler&#x27;,\n",
              "                                        ColumnTransformer(remainder=&#x27;passthrough&#x27;,\n",
              "                                                          transformers=[(&#x27;poly&#x27;,\n",
              "                                                                         PolynomialFeatures(include_bias=False),\n",
              "                                                                         [&#x27;kms_driven&#x27;,\n",
              "                                                                          &#x27;owner&#x27;,\n",
              "                                                                          &#x27;age&#x27;,\n",
              "                                                                          &#x27;power&#x27;]),\n",
              "                                                                        (&#x27;scaler&#x27;,\n",
              "                                                                         RobustScaler(),\n",
              "                                                                         [&#x27;kms_driven&#x27;,\n",
              "                                                                          &#x27;owner&#x27;,\n",
              "                                                                          &#x27;age&#x27;,\n",
              "                                                                          &#x27;power&#x27;])])),\n",
              "                                       (&#x27;model&#x27;, Ridge())]),\n",
              "             n_jobs=-1,\n",
              "             param_grid={&#x27;model__alpha&#x27;: array([0.1       , 0.27272727, 0.44545455, 0.61818182, 0.79090909,\n",
              "       0.96363636, 1.13636364, 1.30909091, 1.48181818, 1.65454545,\n",
              "       1.82727273, 2.        ]),\n",
              "                         &#x27;scaler__poly__degree&#x27;: range(2, 6)})</pre></div></div></div><div class=\"sk-parallel\"><div class=\"sk-parallel-item\"><div class=\"sk-item\"><div class=\"sk-label-container\"><div class=\"sk-label sk-toggleable\"><input class=\"sk-toggleable__control sk-hidden--visually\" id=\"sk-estimator-id-84\" type=\"checkbox\" ><label for=\"sk-estimator-id-84\" class=\"sk-toggleable__label sk-toggleable__label-arrow\">estimator: Pipeline</label><div class=\"sk-toggleable__content\"><pre>Pipeline(steps=[(&#x27;scaler&#x27;,\n",
              "                 ColumnTransformer(remainder=&#x27;passthrough&#x27;,\n",
              "                                   transformers=[(&#x27;poly&#x27;,\n",
              "                                                  PolynomialFeatures(include_bias=False),\n",
              "                                                  [&#x27;kms_driven&#x27;, &#x27;owner&#x27;, &#x27;age&#x27;,\n",
              "                                                   &#x27;power&#x27;]),\n",
              "                                                 (&#x27;scaler&#x27;, RobustScaler(),\n",
              "                                                  [&#x27;kms_driven&#x27;, &#x27;owner&#x27;, &#x27;age&#x27;,\n",
              "                                                   &#x27;power&#x27;])])),\n",
              "                (&#x27;model&#x27;, Ridge())])</pre></div></div></div><div class=\"sk-serial\"><div class=\"sk-item\"><div class=\"sk-serial\"><div class=\"sk-item sk-dashed-wrapped\"><div class=\"sk-label-container\"><div class=\"sk-label sk-toggleable\"><input class=\"sk-toggleable__control sk-hidden--visually\" id=\"sk-estimator-id-85\" type=\"checkbox\" ><label for=\"sk-estimator-id-85\" class=\"sk-toggleable__label sk-toggleable__label-arrow\">scaler: ColumnTransformer</label><div class=\"sk-toggleable__content\"><pre>ColumnTransformer(remainder=&#x27;passthrough&#x27;,\n",
              "                  transformers=[(&#x27;poly&#x27;, PolynomialFeatures(include_bias=False),\n",
              "                                 [&#x27;kms_driven&#x27;, &#x27;owner&#x27;, &#x27;age&#x27;, &#x27;power&#x27;]),\n",
              "                                (&#x27;scaler&#x27;, RobustScaler(),\n",
              "                                 [&#x27;kms_driven&#x27;, &#x27;owner&#x27;, &#x27;age&#x27;, &#x27;power&#x27;])])</pre></div></div></div><div class=\"sk-parallel\"><div class=\"sk-parallel-item\"><div class=\"sk-item\"><div class=\"sk-label-container\"><div class=\"sk-label sk-toggleable\"><input class=\"sk-toggleable__control sk-hidden--visually\" id=\"sk-estimator-id-86\" type=\"checkbox\" ><label for=\"sk-estimator-id-86\" class=\"sk-toggleable__label sk-toggleable__label-arrow\">poly</label><div class=\"sk-toggleable__content\"><pre>[&#x27;kms_driven&#x27;, &#x27;owner&#x27;, &#x27;age&#x27;, &#x27;power&#x27;]</pre></div></div></div><div class=\"sk-serial\"><div class=\"sk-item\"><div class=\"sk-estimator sk-toggleable\"><input class=\"sk-toggleable__control sk-hidden--visually\" id=\"sk-estimator-id-87\" type=\"checkbox\" ><label for=\"sk-estimator-id-87\" class=\"sk-toggleable__label sk-toggleable__label-arrow\">PolynomialFeatures</label><div class=\"sk-toggleable__content\"><pre>PolynomialFeatures(include_bias=False)</pre></div></div></div></div></div></div><div class=\"sk-parallel-item\"><div class=\"sk-item\"><div class=\"sk-label-container\"><div class=\"sk-label sk-toggleable\"><input class=\"sk-toggleable__control sk-hidden--visually\" id=\"sk-estimator-id-88\" type=\"checkbox\" ><label for=\"sk-estimator-id-88\" class=\"sk-toggleable__label sk-toggleable__label-arrow\">scaler</label><div class=\"sk-toggleable__content\"><pre>[&#x27;kms_driven&#x27;, &#x27;owner&#x27;, &#x27;age&#x27;, &#x27;power&#x27;]</pre></div></div></div><div class=\"sk-serial\"><div class=\"sk-item\"><div class=\"sk-estimator sk-toggleable\"><input class=\"sk-toggleable__control sk-hidden--visually\" id=\"sk-estimator-id-89\" type=\"checkbox\" ><label for=\"sk-estimator-id-89\" class=\"sk-toggleable__label sk-toggleable__label-arrow\">RobustScaler</label><div class=\"sk-toggleable__content\"><pre>RobustScaler()</pre></div></div></div></div></div></div><div class=\"sk-parallel-item\"><div class=\"sk-item\"><div class=\"sk-label-container\"><div class=\"sk-label sk-toggleable\"><input class=\"sk-toggleable__control sk-hidden--visually\" id=\"sk-estimator-id-90\" type=\"checkbox\" ><label for=\"sk-estimator-id-90\" class=\"sk-toggleable__label sk-toggleable__label-arrow\">remainder</label><div class=\"sk-toggleable__content\"><pre>[&#x27;BMW&#x27;, &#x27;Bajaj&#x27;, &#x27;Benelli&#x27;, &#x27;Ducati&#x27;, &#x27;Harley-Davidson&#x27;, &#x27;Hero&#x27;, &#x27;Honda&#x27;, &#x27;Hyosung&#x27;, &#x27;Ideal&#x27;, &#x27;Indian&#x27;, &#x27;Jawa&#x27;, &#x27;KTM&#x27;, &#x27;Kawasaki&#x27;, &#x27;LML&#x27;, &#x27;MV&#x27;, &#x27;Mahindra&#x27;, &#x27;Rajdoot&#x27;, &#x27;Royal Enfield&#x27;, &#x27;Suzuki&#x27;, &#x27;TVS&#x27;, &#x27;Triumph&#x27;, &#x27;Yamaha&#x27;, &#x27;Yezdi&#x27;]</pre></div></div></div><div class=\"sk-serial\"><div class=\"sk-item\"><div class=\"sk-estimator sk-toggleable\"><input class=\"sk-toggleable__control sk-hidden--visually\" id=\"sk-estimator-id-91\" type=\"checkbox\" ><label for=\"sk-estimator-id-91\" class=\"sk-toggleable__label sk-toggleable__label-arrow\">passthrough</label><div class=\"sk-toggleable__content\"><pre>passthrough</pre></div></div></div></div></div></div></div></div><div class=\"sk-item\"><div class=\"sk-estimator sk-toggleable\"><input class=\"sk-toggleable__control sk-hidden--visually\" id=\"sk-estimator-id-92\" type=\"checkbox\" ><label for=\"sk-estimator-id-92\" class=\"sk-toggleable__label sk-toggleable__label-arrow\">Ridge</label><div class=\"sk-toggleable__content\"><pre>Ridge()</pre></div></div></div></div></div></div></div></div></div></div></div></div>"
            ]
          },
          "metadata": {},
          "execution_count": 177
        }
      ]
    },
    {
      "cell_type": "code",
      "source": [
        "col = [\"mean_test_score\", \"rank_test_score\" ,\"param_model__alpha\", \"param_scaler__poly__degree\" ,\"mean_fit_time\"]\n",
        "res = pd.DataFrame(gs.cv_results_)\n",
        "res[col].sort_values(\"mean_test_score\", ascending=False).head(10)"
      ],
      "metadata": {
        "id": "HhFf68bdMfDQ",
        "colab": {
          "base_uri": "https://localhost:8080/",
          "height": 363
        },
        "outputId": "2b8c4c78-a5fe-4ab9-c945-372839db97a8"
      },
      "execution_count": null,
      "outputs": [
        {
          "output_type": "execute_result",
          "data": {
            "text/plain": [
              "    mean_test_score  rank_test_score param_model__alpha  \\\n",
              "13         0.932480                1           0.618182   \n",
              "17         0.932476                2           0.790909   \n",
              "9          0.932472                3           0.445455   \n",
              "21         0.932464                4           0.963636   \n",
              "5          0.932451                5           0.272727   \n",
              "25         0.932445                6           1.136364   \n",
              "29         0.932419                7           1.309091   \n",
              "1          0.932412                8                0.1   \n",
              "33         0.932388                9           1.481818   \n",
              "37         0.932351               10           1.654545   \n",
              "\n",
              "   param_scaler__poly__degree  mean_fit_time  \n",
              "13                          3       0.064073  \n",
              "17                          3       0.061060  \n",
              "9                           3       0.062433  \n",
              "21                          3       0.056183  \n",
              "5                           3       0.062049  \n",
              "25                          3       0.070410  \n",
              "29                          3       0.112364  \n",
              "1                           3       0.068584  \n",
              "33                          3       0.060595  \n",
              "37                          3       0.061431  "
            ],
            "text/html": [
              "\n",
              "  <div id=\"df-b99f6fb0-c759-4305-ae3d-60feff6e6114\">\n",
              "    <div class=\"colab-df-container\">\n",
              "      <div>\n",
              "<style scoped>\n",
              "    .dataframe tbody tr th:only-of-type {\n",
              "        vertical-align: middle;\n",
              "    }\n",
              "\n",
              "    .dataframe tbody tr th {\n",
              "        vertical-align: top;\n",
              "    }\n",
              "\n",
              "    .dataframe thead th {\n",
              "        text-align: right;\n",
              "    }\n",
              "</style>\n",
              "<table border=\"1\" class=\"dataframe\">\n",
              "  <thead>\n",
              "    <tr style=\"text-align: right;\">\n",
              "      <th></th>\n",
              "      <th>mean_test_score</th>\n",
              "      <th>rank_test_score</th>\n",
              "      <th>param_model__alpha</th>\n",
              "      <th>param_scaler__poly__degree</th>\n",
              "      <th>mean_fit_time</th>\n",
              "    </tr>\n",
              "  </thead>\n",
              "  <tbody>\n",
              "    <tr>\n",
              "      <th>13</th>\n",
              "      <td>0.932480</td>\n",
              "      <td>1</td>\n",
              "      <td>0.618182</td>\n",
              "      <td>3</td>\n",
              "      <td>0.064073</td>\n",
              "    </tr>\n",
              "    <tr>\n",
              "      <th>17</th>\n",
              "      <td>0.932476</td>\n",
              "      <td>2</td>\n",
              "      <td>0.790909</td>\n",
              "      <td>3</td>\n",
              "      <td>0.061060</td>\n",
              "    </tr>\n",
              "    <tr>\n",
              "      <th>9</th>\n",
              "      <td>0.932472</td>\n",
              "      <td>3</td>\n",
              "      <td>0.445455</td>\n",
              "      <td>3</td>\n",
              "      <td>0.062433</td>\n",
              "    </tr>\n",
              "    <tr>\n",
              "      <th>21</th>\n",
              "      <td>0.932464</td>\n",
              "      <td>4</td>\n",
              "      <td>0.963636</td>\n",
              "      <td>3</td>\n",
              "      <td>0.056183</td>\n",
              "    </tr>\n",
              "    <tr>\n",
              "      <th>5</th>\n",
              "      <td>0.932451</td>\n",
              "      <td>5</td>\n",
              "      <td>0.272727</td>\n",
              "      <td>3</td>\n",
              "      <td>0.062049</td>\n",
              "    </tr>\n",
              "    <tr>\n",
              "      <th>25</th>\n",
              "      <td>0.932445</td>\n",
              "      <td>6</td>\n",
              "      <td>1.136364</td>\n",
              "      <td>3</td>\n",
              "      <td>0.070410</td>\n",
              "    </tr>\n",
              "    <tr>\n",
              "      <th>29</th>\n",
              "      <td>0.932419</td>\n",
              "      <td>7</td>\n",
              "      <td>1.309091</td>\n",
              "      <td>3</td>\n",
              "      <td>0.112364</td>\n",
              "    </tr>\n",
              "    <tr>\n",
              "      <th>1</th>\n",
              "      <td>0.932412</td>\n",
              "      <td>8</td>\n",
              "      <td>0.1</td>\n",
              "      <td>3</td>\n",
              "      <td>0.068584</td>\n",
              "    </tr>\n",
              "    <tr>\n",
              "      <th>33</th>\n",
              "      <td>0.932388</td>\n",
              "      <td>9</td>\n",
              "      <td>1.481818</td>\n",
              "      <td>3</td>\n",
              "      <td>0.060595</td>\n",
              "    </tr>\n",
              "    <tr>\n",
              "      <th>37</th>\n",
              "      <td>0.932351</td>\n",
              "      <td>10</td>\n",
              "      <td>1.654545</td>\n",
              "      <td>3</td>\n",
              "      <td>0.061431</td>\n",
              "    </tr>\n",
              "  </tbody>\n",
              "</table>\n",
              "</div>\n",
              "      <button class=\"colab-df-convert\" onclick=\"convertToInteractive('df-b99f6fb0-c759-4305-ae3d-60feff6e6114')\"\n",
              "              title=\"Convert this dataframe to an interactive table.\"\n",
              "              style=\"display:none;\">\n",
              "        \n",
              "  <svg xmlns=\"http://www.w3.org/2000/svg\" height=\"24px\"viewBox=\"0 0 24 24\"\n",
              "       width=\"24px\">\n",
              "    <path d=\"M0 0h24v24H0V0z\" fill=\"none\"/>\n",
              "    <path d=\"M18.56 5.44l.94 2.06.94-2.06 2.06-.94-2.06-.94-.94-2.06-.94 2.06-2.06.94zm-11 1L8.5 8.5l.94-2.06 2.06-.94-2.06-.94L8.5 2.5l-.94 2.06-2.06.94zm10 10l.94 2.06.94-2.06 2.06-.94-2.06-.94-.94-2.06-.94 2.06-2.06.94z\"/><path d=\"M17.41 7.96l-1.37-1.37c-.4-.4-.92-.59-1.43-.59-.52 0-1.04.2-1.43.59L10.3 9.45l-7.72 7.72c-.78.78-.78 2.05 0 2.83L4 21.41c.39.39.9.59 1.41.59.51 0 1.02-.2 1.41-.59l7.78-7.78 2.81-2.81c.8-.78.8-2.07 0-2.86zM5.41 20L4 18.59l7.72-7.72 1.47 1.35L5.41 20z\"/>\n",
              "  </svg>\n",
              "      </button>\n",
              "      \n",
              "  <style>\n",
              "    .colab-df-container {\n",
              "      display:flex;\n",
              "      flex-wrap:wrap;\n",
              "      gap: 12px;\n",
              "    }\n",
              "\n",
              "    .colab-df-convert {\n",
              "      background-color: #E8F0FE;\n",
              "      border: none;\n",
              "      border-radius: 50%;\n",
              "      cursor: pointer;\n",
              "      display: none;\n",
              "      fill: #1967D2;\n",
              "      height: 32px;\n",
              "      padding: 0 0 0 0;\n",
              "      width: 32px;\n",
              "    }\n",
              "\n",
              "    .colab-df-convert:hover {\n",
              "      background-color: #E2EBFA;\n",
              "      box-shadow: 0px 1px 2px rgba(60, 64, 67, 0.3), 0px 1px 3px 1px rgba(60, 64, 67, 0.15);\n",
              "      fill: #174EA6;\n",
              "    }\n",
              "\n",
              "    [theme=dark] .colab-df-convert {\n",
              "      background-color: #3B4455;\n",
              "      fill: #D2E3FC;\n",
              "    }\n",
              "\n",
              "    [theme=dark] .colab-df-convert:hover {\n",
              "      background-color: #434B5C;\n",
              "      box-shadow: 0px 1px 3px 1px rgba(0, 0, 0, 0.15);\n",
              "      filter: drop-shadow(0px 1px 2px rgba(0, 0, 0, 0.3));\n",
              "      fill: #FFFFFF;\n",
              "    }\n",
              "  </style>\n",
              "\n",
              "      <script>\n",
              "        const buttonEl =\n",
              "          document.querySelector('#df-b99f6fb0-c759-4305-ae3d-60feff6e6114 button.colab-df-convert');\n",
              "        buttonEl.style.display =\n",
              "          google.colab.kernel.accessAllowed ? 'block' : 'none';\n",
              "\n",
              "        async function convertToInteractive(key) {\n",
              "          const element = document.querySelector('#df-b99f6fb0-c759-4305-ae3d-60feff6e6114');\n",
              "          const dataTable =\n",
              "            await google.colab.kernel.invokeFunction('convertToInteractive',\n",
              "                                                     [key], {});\n",
              "          if (!dataTable) return;\n",
              "\n",
              "          const docLinkHtml = 'Like what you see? Visit the ' +\n",
              "            '<a target=\"_blank\" href=https://colab.research.google.com/notebooks/data_table.ipynb>data table notebook</a>'\n",
              "            + ' to learn more about interactive tables.';\n",
              "          element.innerHTML = '';\n",
              "          dataTable['output_type'] = 'display_data';\n",
              "          await google.colab.output.renderOutput(dataTable, element);\n",
              "          const docLink = document.createElement('div');\n",
              "          docLink.innerHTML = docLinkHtml;\n",
              "          element.appendChild(docLink);\n",
              "        }\n",
              "      </script>\n",
              "    </div>\n",
              "  </div>\n",
              "  "
            ]
          },
          "metadata": {},
          "execution_count": 178
        }
      ]
    },
    {
      "cell_type": "code",
      "source": [
        "gs.best_params_"
      ],
      "metadata": {
        "id": "TF8k_bSxLMlk",
        "colab": {
          "base_uri": "https://localhost:8080/"
        },
        "outputId": "be9e7474-d190-4658-ea5b-62096818e91d"
      },
      "execution_count": null,
      "outputs": [
        {
          "output_type": "execute_result",
          "data": {
            "text/plain": [
              "{'model__alpha': 0.6181818181818182, 'scaler__poly__degree': 3}"
            ]
          },
          "metadata": {},
          "execution_count": 179
        }
      ]
    },
    {
      "cell_type": "markdown",
      "source": [
        "Si può vedere come i modelli con punteggio migliore usino un modello polinomiale di **3°** grado.  \n",
        "questo vuol dire che:\n",
        "- aumentando ulteriormente il grado si va incontro ad *overfitting* sui dati di addestramento \n",
        "- con un grado più basso i modelli non riescono ad apprendere efficacemente i dati \n",
        "\n",
        "Come si può vedere sotto i modelli di 4° e 5° grado mostrano un punteggio peggiore.  "
      ],
      "metadata": {
        "id": "_S7MG1DNLbD9"
      }
    },
    {
      "cell_type": "code",
      "source": [
        "res.loc[ res[\"param_scaler__poly__degree\"] == 4 , col].sort_values(\"mean_test_score\", ascending=False).head(5)"
      ],
      "metadata": {
        "id": "Wq47BpFwP04z",
        "colab": {
          "base_uri": "https://localhost:8080/",
          "height": 206
        },
        "outputId": "4395df36-2729-4994-fd45-71008dcbdf7e"
      },
      "execution_count": null,
      "outputs": [
        {
          "output_type": "execute_result",
          "data": {
            "text/plain": [
              "    mean_test_score  rank_test_score param_model__alpha  \\\n",
              "2          0.905157               25                0.1   \n",
              "6          0.905020               26           0.272727   \n",
              "10         0.904894               27           0.445455   \n",
              "14         0.904783               28           0.618182   \n",
              "18         0.904685               29           0.790909   \n",
              "\n",
              "   param_scaler__poly__degree  mean_fit_time  \n",
              "2                           4       0.107425  \n",
              "6                           4       0.079233  \n",
              "10                          4       0.086132  \n",
              "14                          4       0.078033  \n",
              "18                          4       0.084937  "
            ],
            "text/html": [
              "\n",
              "  <div id=\"df-bb375bd4-df17-4d3f-8d6f-29d1ca5b088b\">\n",
              "    <div class=\"colab-df-container\">\n",
              "      <div>\n",
              "<style scoped>\n",
              "    .dataframe tbody tr th:only-of-type {\n",
              "        vertical-align: middle;\n",
              "    }\n",
              "\n",
              "    .dataframe tbody tr th {\n",
              "        vertical-align: top;\n",
              "    }\n",
              "\n",
              "    .dataframe thead th {\n",
              "        text-align: right;\n",
              "    }\n",
              "</style>\n",
              "<table border=\"1\" class=\"dataframe\">\n",
              "  <thead>\n",
              "    <tr style=\"text-align: right;\">\n",
              "      <th></th>\n",
              "      <th>mean_test_score</th>\n",
              "      <th>rank_test_score</th>\n",
              "      <th>param_model__alpha</th>\n",
              "      <th>param_scaler__poly__degree</th>\n",
              "      <th>mean_fit_time</th>\n",
              "    </tr>\n",
              "  </thead>\n",
              "  <tbody>\n",
              "    <tr>\n",
              "      <th>2</th>\n",
              "      <td>0.905157</td>\n",
              "      <td>25</td>\n",
              "      <td>0.1</td>\n",
              "      <td>4</td>\n",
              "      <td>0.107425</td>\n",
              "    </tr>\n",
              "    <tr>\n",
              "      <th>6</th>\n",
              "      <td>0.905020</td>\n",
              "      <td>26</td>\n",
              "      <td>0.272727</td>\n",
              "      <td>4</td>\n",
              "      <td>0.079233</td>\n",
              "    </tr>\n",
              "    <tr>\n",
              "      <th>10</th>\n",
              "      <td>0.904894</td>\n",
              "      <td>27</td>\n",
              "      <td>0.445455</td>\n",
              "      <td>4</td>\n",
              "      <td>0.086132</td>\n",
              "    </tr>\n",
              "    <tr>\n",
              "      <th>14</th>\n",
              "      <td>0.904783</td>\n",
              "      <td>28</td>\n",
              "      <td>0.618182</td>\n",
              "      <td>4</td>\n",
              "      <td>0.078033</td>\n",
              "    </tr>\n",
              "    <tr>\n",
              "      <th>18</th>\n",
              "      <td>0.904685</td>\n",
              "      <td>29</td>\n",
              "      <td>0.790909</td>\n",
              "      <td>4</td>\n",
              "      <td>0.084937</td>\n",
              "    </tr>\n",
              "  </tbody>\n",
              "</table>\n",
              "</div>\n",
              "      <button class=\"colab-df-convert\" onclick=\"convertToInteractive('df-bb375bd4-df17-4d3f-8d6f-29d1ca5b088b')\"\n",
              "              title=\"Convert this dataframe to an interactive table.\"\n",
              "              style=\"display:none;\">\n",
              "        \n",
              "  <svg xmlns=\"http://www.w3.org/2000/svg\" height=\"24px\"viewBox=\"0 0 24 24\"\n",
              "       width=\"24px\">\n",
              "    <path d=\"M0 0h24v24H0V0z\" fill=\"none\"/>\n",
              "    <path d=\"M18.56 5.44l.94 2.06.94-2.06 2.06-.94-2.06-.94-.94-2.06-.94 2.06-2.06.94zm-11 1L8.5 8.5l.94-2.06 2.06-.94-2.06-.94L8.5 2.5l-.94 2.06-2.06.94zm10 10l.94 2.06.94-2.06 2.06-.94-2.06-.94-.94-2.06-.94 2.06-2.06.94z\"/><path d=\"M17.41 7.96l-1.37-1.37c-.4-.4-.92-.59-1.43-.59-.52 0-1.04.2-1.43.59L10.3 9.45l-7.72 7.72c-.78.78-.78 2.05 0 2.83L4 21.41c.39.39.9.59 1.41.59.51 0 1.02-.2 1.41-.59l7.78-7.78 2.81-2.81c.8-.78.8-2.07 0-2.86zM5.41 20L4 18.59l7.72-7.72 1.47 1.35L5.41 20z\"/>\n",
              "  </svg>\n",
              "      </button>\n",
              "      \n",
              "  <style>\n",
              "    .colab-df-container {\n",
              "      display:flex;\n",
              "      flex-wrap:wrap;\n",
              "      gap: 12px;\n",
              "    }\n",
              "\n",
              "    .colab-df-convert {\n",
              "      background-color: #E8F0FE;\n",
              "      border: none;\n",
              "      border-radius: 50%;\n",
              "      cursor: pointer;\n",
              "      display: none;\n",
              "      fill: #1967D2;\n",
              "      height: 32px;\n",
              "      padding: 0 0 0 0;\n",
              "      width: 32px;\n",
              "    }\n",
              "\n",
              "    .colab-df-convert:hover {\n",
              "      background-color: #E2EBFA;\n",
              "      box-shadow: 0px 1px 2px rgba(60, 64, 67, 0.3), 0px 1px 3px 1px rgba(60, 64, 67, 0.15);\n",
              "      fill: #174EA6;\n",
              "    }\n",
              "\n",
              "    [theme=dark] .colab-df-convert {\n",
              "      background-color: #3B4455;\n",
              "      fill: #D2E3FC;\n",
              "    }\n",
              "\n",
              "    [theme=dark] .colab-df-convert:hover {\n",
              "      background-color: #434B5C;\n",
              "      box-shadow: 0px 1px 3px 1px rgba(0, 0, 0, 0.15);\n",
              "      filter: drop-shadow(0px 1px 2px rgba(0, 0, 0, 0.3));\n",
              "      fill: #FFFFFF;\n",
              "    }\n",
              "  </style>\n",
              "\n",
              "      <script>\n",
              "        const buttonEl =\n",
              "          document.querySelector('#df-bb375bd4-df17-4d3f-8d6f-29d1ca5b088b button.colab-df-convert');\n",
              "        buttonEl.style.display =\n",
              "          google.colab.kernel.accessAllowed ? 'block' : 'none';\n",
              "\n",
              "        async function convertToInteractive(key) {\n",
              "          const element = document.querySelector('#df-bb375bd4-df17-4d3f-8d6f-29d1ca5b088b');\n",
              "          const dataTable =\n",
              "            await google.colab.kernel.invokeFunction('convertToInteractive',\n",
              "                                                     [key], {});\n",
              "          if (!dataTable) return;\n",
              "\n",
              "          const docLinkHtml = 'Like what you see? Visit the ' +\n",
              "            '<a target=\"_blank\" href=https://colab.research.google.com/notebooks/data_table.ipynb>data table notebook</a>'\n",
              "            + ' to learn more about interactive tables.';\n",
              "          element.innerHTML = '';\n",
              "          dataTable['output_type'] = 'display_data';\n",
              "          await google.colab.output.renderOutput(dataTable, element);\n",
              "          const docLink = document.createElement('div');\n",
              "          docLink.innerHTML = docLinkHtml;\n",
              "          element.appendChild(docLink);\n",
              "        }\n",
              "      </script>\n",
              "    </div>\n",
              "  </div>\n",
              "  "
            ]
          },
          "metadata": {},
          "execution_count": 180
        }
      ]
    },
    {
      "cell_type": "code",
      "source": [
        "res[col].sort_values(\"mean_test_score\", ascending=False).tail(5)"
      ],
      "metadata": {
        "id": "hLzqNkKhOE6g",
        "colab": {
          "base_uri": "https://localhost:8080/",
          "height": 206
        },
        "outputId": "bfb46c03-d72e-45d6-c1ba-5be8f2b62ffc"
      },
      "execution_count": null,
      "outputs": [
        {
          "output_type": "execute_result",
          "data": {
            "text/plain": [
              "    mean_test_score  rank_test_score param_model__alpha  \\\n",
              "19       -11.108839               44           0.790909   \n",
              "15       -11.370128               45           0.618182   \n",
              "11       -11.678156               46           0.445455   \n",
              "7        -12.040922               47           0.272727   \n",
              "3        -12.547067               48                0.1   \n",
              "\n",
              "   param_scaler__poly__degree  mean_fit_time  \n",
              "19                          5       0.127672  \n",
              "15                          5       0.122480  \n",
              "11                          5       0.123122  \n",
              "7                           5       0.128825  \n",
              "3                           5       0.178960  "
            ],
            "text/html": [
              "\n",
              "  <div id=\"df-44c05d6b-df54-46a7-847b-cdc5830b9946\">\n",
              "    <div class=\"colab-df-container\">\n",
              "      <div>\n",
              "<style scoped>\n",
              "    .dataframe tbody tr th:only-of-type {\n",
              "        vertical-align: middle;\n",
              "    }\n",
              "\n",
              "    .dataframe tbody tr th {\n",
              "        vertical-align: top;\n",
              "    }\n",
              "\n",
              "    .dataframe thead th {\n",
              "        text-align: right;\n",
              "    }\n",
              "</style>\n",
              "<table border=\"1\" class=\"dataframe\">\n",
              "  <thead>\n",
              "    <tr style=\"text-align: right;\">\n",
              "      <th></th>\n",
              "      <th>mean_test_score</th>\n",
              "      <th>rank_test_score</th>\n",
              "      <th>param_model__alpha</th>\n",
              "      <th>param_scaler__poly__degree</th>\n",
              "      <th>mean_fit_time</th>\n",
              "    </tr>\n",
              "  </thead>\n",
              "  <tbody>\n",
              "    <tr>\n",
              "      <th>19</th>\n",
              "      <td>-11.108839</td>\n",
              "      <td>44</td>\n",
              "      <td>0.790909</td>\n",
              "      <td>5</td>\n",
              "      <td>0.127672</td>\n",
              "    </tr>\n",
              "    <tr>\n",
              "      <th>15</th>\n",
              "      <td>-11.370128</td>\n",
              "      <td>45</td>\n",
              "      <td>0.618182</td>\n",
              "      <td>5</td>\n",
              "      <td>0.122480</td>\n",
              "    </tr>\n",
              "    <tr>\n",
              "      <th>11</th>\n",
              "      <td>-11.678156</td>\n",
              "      <td>46</td>\n",
              "      <td>0.445455</td>\n",
              "      <td>5</td>\n",
              "      <td>0.123122</td>\n",
              "    </tr>\n",
              "    <tr>\n",
              "      <th>7</th>\n",
              "      <td>-12.040922</td>\n",
              "      <td>47</td>\n",
              "      <td>0.272727</td>\n",
              "      <td>5</td>\n",
              "      <td>0.128825</td>\n",
              "    </tr>\n",
              "    <tr>\n",
              "      <th>3</th>\n",
              "      <td>-12.547067</td>\n",
              "      <td>48</td>\n",
              "      <td>0.1</td>\n",
              "      <td>5</td>\n",
              "      <td>0.178960</td>\n",
              "    </tr>\n",
              "  </tbody>\n",
              "</table>\n",
              "</div>\n",
              "      <button class=\"colab-df-convert\" onclick=\"convertToInteractive('df-44c05d6b-df54-46a7-847b-cdc5830b9946')\"\n",
              "              title=\"Convert this dataframe to an interactive table.\"\n",
              "              style=\"display:none;\">\n",
              "        \n",
              "  <svg xmlns=\"http://www.w3.org/2000/svg\" height=\"24px\"viewBox=\"0 0 24 24\"\n",
              "       width=\"24px\">\n",
              "    <path d=\"M0 0h24v24H0V0z\" fill=\"none\"/>\n",
              "    <path d=\"M18.56 5.44l.94 2.06.94-2.06 2.06-.94-2.06-.94-.94-2.06-.94 2.06-2.06.94zm-11 1L8.5 8.5l.94-2.06 2.06-.94-2.06-.94L8.5 2.5l-.94 2.06-2.06.94zm10 10l.94 2.06.94-2.06 2.06-.94-2.06-.94-.94-2.06-.94 2.06-2.06.94z\"/><path d=\"M17.41 7.96l-1.37-1.37c-.4-.4-.92-.59-1.43-.59-.52 0-1.04.2-1.43.59L10.3 9.45l-7.72 7.72c-.78.78-.78 2.05 0 2.83L4 21.41c.39.39.9.59 1.41.59.51 0 1.02-.2 1.41-.59l7.78-7.78 2.81-2.81c.8-.78.8-2.07 0-2.86zM5.41 20L4 18.59l7.72-7.72 1.47 1.35L5.41 20z\"/>\n",
              "  </svg>\n",
              "      </button>\n",
              "      \n",
              "  <style>\n",
              "    .colab-df-container {\n",
              "      display:flex;\n",
              "      flex-wrap:wrap;\n",
              "      gap: 12px;\n",
              "    }\n",
              "\n",
              "    .colab-df-convert {\n",
              "      background-color: #E8F0FE;\n",
              "      border: none;\n",
              "      border-radius: 50%;\n",
              "      cursor: pointer;\n",
              "      display: none;\n",
              "      fill: #1967D2;\n",
              "      height: 32px;\n",
              "      padding: 0 0 0 0;\n",
              "      width: 32px;\n",
              "    }\n",
              "\n",
              "    .colab-df-convert:hover {\n",
              "      background-color: #E2EBFA;\n",
              "      box-shadow: 0px 1px 2px rgba(60, 64, 67, 0.3), 0px 1px 3px 1px rgba(60, 64, 67, 0.15);\n",
              "      fill: #174EA6;\n",
              "    }\n",
              "\n",
              "    [theme=dark] .colab-df-convert {\n",
              "      background-color: #3B4455;\n",
              "      fill: #D2E3FC;\n",
              "    }\n",
              "\n",
              "    [theme=dark] .colab-df-convert:hover {\n",
              "      background-color: #434B5C;\n",
              "      box-shadow: 0px 1px 3px 1px rgba(0, 0, 0, 0.15);\n",
              "      filter: drop-shadow(0px 1px 2px rgba(0, 0, 0, 0.3));\n",
              "      fill: #FFFFFF;\n",
              "    }\n",
              "  </style>\n",
              "\n",
              "      <script>\n",
              "        const buttonEl =\n",
              "          document.querySelector('#df-44c05d6b-df54-46a7-847b-cdc5830b9946 button.colab-df-convert');\n",
              "        buttonEl.style.display =\n",
              "          google.colab.kernel.accessAllowed ? 'block' : 'none';\n",
              "\n",
              "        async function convertToInteractive(key) {\n",
              "          const element = document.querySelector('#df-44c05d6b-df54-46a7-847b-cdc5830b9946');\n",
              "          const dataTable =\n",
              "            await google.colab.kernel.invokeFunction('convertToInteractive',\n",
              "                                                     [key], {});\n",
              "          if (!dataTable) return;\n",
              "\n",
              "          const docLinkHtml = 'Like what you see? Visit the ' +\n",
              "            '<a target=\"_blank\" href=https://colab.research.google.com/notebooks/data_table.ipynb>data table notebook</a>'\n",
              "            + ' to learn more about interactive tables.';\n",
              "          element.innerHTML = '';\n",
              "          dataTable['output_type'] = 'display_data';\n",
              "          await google.colab.output.renderOutput(dataTable, element);\n",
              "          const docLink = document.createElement('div');\n",
              "          docLink.innerHTML = docLinkHtml;\n",
              "          element.appendChild(docLink);\n",
              "        }\n",
              "      </script>\n",
              "    </div>\n",
              "  </div>\n",
              "  "
            ]
          },
          "metadata": {},
          "execution_count": 181
        }
      ]
    },
    {
      "cell_type": "markdown",
      "source": [
        "Per quanto riguarda il parametro `alpha` della regressione Ridge non si nota una grande variazione del punteggio sui dati di test.  \n",
        "Si possono tuttavia controllare i coefficienti per scegliere quelli in media più piccoli;  \n",
        "questo dovrebbe permette delle previsioni su dati sconosciuti **più stabili**."
      ],
      "metadata": {
        "id": "dNF9Sp3CTCPb"
      }
    },
    {
      "cell_type": "code",
      "source": [
        "%%time\n",
        "# select best alphas and best degrees from datframe\n",
        "alpha = res.sort_values(\"mean_test_score\", ascending=False).head(8)[\"param_model__alpha\"].tolist()\n",
        "degree = res.sort_values(\"mean_test_score\", ascending=False).head(8)[\"param_scaler__poly__degree\"]\n",
        "degree = [int(d) for d in set(degree)]\n",
        "\n",
        "# train models with selected parameters\n",
        "models = []\n",
        "for d in degree:\n",
        "  for a in alpha:\n",
        "    col = ColumnTransformer([\n",
        "        (\"poly\", PolynomialFeatures(degree=d, include_bias=False), x_numerical),\n",
        "        (\"scaler\", RobustScaler(), x_numerical)\n",
        "    ], remainder=\"passthrough\")\n",
        "    m = Pipeline([\n",
        "        (\"scaler\", col),\n",
        "        (\"model\", Ridge(alpha=a))\n",
        "    ])\n",
        "    m.fit(x_train, y_train)\n",
        "    models.append({\"m\": m,\n",
        "                   \"a\": a,\n",
        "                   \"d\": d})"
      ],
      "metadata": {
        "id": "5zIq_SReTIrn",
        "colab": {
          "base_uri": "https://localhost:8080/"
        },
        "outputId": "c4de4c20-23b9-430d-b26c-c8739d1d7d2d"
      },
      "execution_count": null,
      "outputs": [
        {
          "output_type": "stream",
          "name": "stderr",
          "text": [
            "/usr/local/lib/python3.10/dist-packages/sklearn/linear_model/_ridge.py:216: LinAlgWarning: Ill-conditioned matrix (rcond=9.06749e-37): result may not be accurate.\n",
            "  return linalg.solve(A, Xy, assume_a=\"pos\", overwrite_a=True).T\n",
            "/usr/local/lib/python3.10/dist-packages/sklearn/linear_model/_ridge.py:216: LinAlgWarning: Ill-conditioned matrix (rcond=1.16004e-36): result may not be accurate.\n",
            "  return linalg.solve(A, Xy, assume_a=\"pos\", overwrite_a=True).T\n",
            "/usr/local/lib/python3.10/dist-packages/sklearn/linear_model/_ridge.py:216: LinAlgWarning: Ill-conditioned matrix (rcond=6.53435e-37): result may not be accurate.\n",
            "  return linalg.solve(A, Xy, assume_a=\"pos\", overwrite_a=True).T\n",
            "/usr/local/lib/python3.10/dist-packages/sklearn/linear_model/_ridge.py:216: LinAlgWarning: Ill-conditioned matrix (rcond=1.4133e-36): result may not be accurate.\n",
            "  return linalg.solve(A, Xy, assume_a=\"pos\", overwrite_a=True).T\n",
            "/usr/local/lib/python3.10/dist-packages/sklearn/linear_model/_ridge.py:216: LinAlgWarning: Ill-conditioned matrix (rcond=4.0009e-37): result may not be accurate.\n",
            "  return linalg.solve(A, Xy, assume_a=\"pos\", overwrite_a=True).T\n",
            "/usr/local/lib/python3.10/dist-packages/sklearn/linear_model/_ridge.py:216: LinAlgWarning: Ill-conditioned matrix (rcond=1.66654e-36): result may not be accurate.\n",
            "  return linalg.solve(A, Xy, assume_a=\"pos\", overwrite_a=True).T\n"
          ]
        },
        {
          "output_type": "stream",
          "name": "stdout",
          "text": [
            "CPU times: user 524 ms, sys: 478 ms, total: 1 s\n",
            "Wall time: 586 ms\n"
          ]
        },
        {
          "output_type": "stream",
          "name": "stderr",
          "text": [
            "/usr/local/lib/python3.10/dist-packages/sklearn/linear_model/_ridge.py:216: LinAlgWarning: Ill-conditioned matrix (rcond=1.91975e-36): result may not be accurate.\n",
            "  return linalg.solve(A, Xy, assume_a=\"pos\", overwrite_a=True).T\n",
            "/usr/local/lib/python3.10/dist-packages/sklearn/linear_model/_ridge.py:216: LinAlgWarning: Ill-conditioned matrix (rcond=1.46711e-37): result may not be accurate.\n",
            "  return linalg.solve(A, Xy, assume_a=\"pos\", overwrite_a=True).T\n"
          ]
        }
      ]
    },
    {
      "cell_type": "code",
      "source": [
        "# select parameters from model with smallest coefficients on average\n",
        "mdls = pd.DataFrame({\n",
        "    \"alpha\": [m[\"a\"] for m in models],\n",
        "    \"degree\": [m[\"d\"] for m in models],\n",
        "    \"model\": [ m[\"m\"] for m in models],\n",
        "    \"mean_coef\": [np.abs(m[\"m\"].named_steps[\"model\"].coef_).mean() for m in models]\n",
        "}).sort_values(\"mean_coef\").head()\n",
        "mdls"
      ],
      "metadata": {
        "id": "8BkUtujqd2V_",
        "colab": {
          "base_uri": "https://localhost:8080/",
          "height": 206
        },
        "outputId": "92fd4028-9e17-4b4c-82e1-21cce06bcf64"
      },
      "execution_count": null,
      "outputs": [
        {
          "output_type": "execute_result",
          "data": {
            "text/plain": [
              "      alpha  degree                                              model  \\\n",
              "6  1.309091       3  (ColumnTransformer(remainder='passthrough',\\n ...   \n",
              "5  1.136364       3  (ColumnTransformer(remainder='passthrough',\\n ...   \n",
              "3  0.963636       3  (ColumnTransformer(remainder='passthrough',\\n ...   \n",
              "1  0.790909       3  (ColumnTransformer(remainder='passthrough',\\n ...   \n",
              "0  0.618182       3  (ColumnTransformer(remainder='passthrough',\\n ...   \n",
              "\n",
              "      mean_coef  \n",
              "6  14975.599746  \n",
              "5  15224.917414  \n",
              "3  15499.000115  \n",
              "1  15804.184270  \n",
              "0  16149.493256  "
            ],
            "text/html": [
              "\n",
              "  <div id=\"df-2d6239ac-507f-45a7-87ac-45acb42e3a84\">\n",
              "    <div class=\"colab-df-container\">\n",
              "      <div>\n",
              "<style scoped>\n",
              "    .dataframe tbody tr th:only-of-type {\n",
              "        vertical-align: middle;\n",
              "    }\n",
              "\n",
              "    .dataframe tbody tr th {\n",
              "        vertical-align: top;\n",
              "    }\n",
              "\n",
              "    .dataframe thead th {\n",
              "        text-align: right;\n",
              "    }\n",
              "</style>\n",
              "<table border=\"1\" class=\"dataframe\">\n",
              "  <thead>\n",
              "    <tr style=\"text-align: right;\">\n",
              "      <th></th>\n",
              "      <th>alpha</th>\n",
              "      <th>degree</th>\n",
              "      <th>model</th>\n",
              "      <th>mean_coef</th>\n",
              "    </tr>\n",
              "  </thead>\n",
              "  <tbody>\n",
              "    <tr>\n",
              "      <th>6</th>\n",
              "      <td>1.309091</td>\n",
              "      <td>3</td>\n",
              "      <td>(ColumnTransformer(remainder='passthrough',\\n ...</td>\n",
              "      <td>14975.599746</td>\n",
              "    </tr>\n",
              "    <tr>\n",
              "      <th>5</th>\n",
              "      <td>1.136364</td>\n",
              "      <td>3</td>\n",
              "      <td>(ColumnTransformer(remainder='passthrough',\\n ...</td>\n",
              "      <td>15224.917414</td>\n",
              "    </tr>\n",
              "    <tr>\n",
              "      <th>3</th>\n",
              "      <td>0.963636</td>\n",
              "      <td>3</td>\n",
              "      <td>(ColumnTransformer(remainder='passthrough',\\n ...</td>\n",
              "      <td>15499.000115</td>\n",
              "    </tr>\n",
              "    <tr>\n",
              "      <th>1</th>\n",
              "      <td>0.790909</td>\n",
              "      <td>3</td>\n",
              "      <td>(ColumnTransformer(remainder='passthrough',\\n ...</td>\n",
              "      <td>15804.184270</td>\n",
              "    </tr>\n",
              "    <tr>\n",
              "      <th>0</th>\n",
              "      <td>0.618182</td>\n",
              "      <td>3</td>\n",
              "      <td>(ColumnTransformer(remainder='passthrough',\\n ...</td>\n",
              "      <td>16149.493256</td>\n",
              "    </tr>\n",
              "  </tbody>\n",
              "</table>\n",
              "</div>\n",
              "      <button class=\"colab-df-convert\" onclick=\"convertToInteractive('df-2d6239ac-507f-45a7-87ac-45acb42e3a84')\"\n",
              "              title=\"Convert this dataframe to an interactive table.\"\n",
              "              style=\"display:none;\">\n",
              "        \n",
              "  <svg xmlns=\"http://www.w3.org/2000/svg\" height=\"24px\"viewBox=\"0 0 24 24\"\n",
              "       width=\"24px\">\n",
              "    <path d=\"M0 0h24v24H0V0z\" fill=\"none\"/>\n",
              "    <path d=\"M18.56 5.44l.94 2.06.94-2.06 2.06-.94-2.06-.94-.94-2.06-.94 2.06-2.06.94zm-11 1L8.5 8.5l.94-2.06 2.06-.94-2.06-.94L8.5 2.5l-.94 2.06-2.06.94zm10 10l.94 2.06.94-2.06 2.06-.94-2.06-.94-.94-2.06-.94 2.06-2.06.94z\"/><path d=\"M17.41 7.96l-1.37-1.37c-.4-.4-.92-.59-1.43-.59-.52 0-1.04.2-1.43.59L10.3 9.45l-7.72 7.72c-.78.78-.78 2.05 0 2.83L4 21.41c.39.39.9.59 1.41.59.51 0 1.02-.2 1.41-.59l7.78-7.78 2.81-2.81c.8-.78.8-2.07 0-2.86zM5.41 20L4 18.59l7.72-7.72 1.47 1.35L5.41 20z\"/>\n",
              "  </svg>\n",
              "      </button>\n",
              "      \n",
              "  <style>\n",
              "    .colab-df-container {\n",
              "      display:flex;\n",
              "      flex-wrap:wrap;\n",
              "      gap: 12px;\n",
              "    }\n",
              "\n",
              "    .colab-df-convert {\n",
              "      background-color: #E8F0FE;\n",
              "      border: none;\n",
              "      border-radius: 50%;\n",
              "      cursor: pointer;\n",
              "      display: none;\n",
              "      fill: #1967D2;\n",
              "      height: 32px;\n",
              "      padding: 0 0 0 0;\n",
              "      width: 32px;\n",
              "    }\n",
              "\n",
              "    .colab-df-convert:hover {\n",
              "      background-color: #E2EBFA;\n",
              "      box-shadow: 0px 1px 2px rgba(60, 64, 67, 0.3), 0px 1px 3px 1px rgba(60, 64, 67, 0.15);\n",
              "      fill: #174EA6;\n",
              "    }\n",
              "\n",
              "    [theme=dark] .colab-df-convert {\n",
              "      background-color: #3B4455;\n",
              "      fill: #D2E3FC;\n",
              "    }\n",
              "\n",
              "    [theme=dark] .colab-df-convert:hover {\n",
              "      background-color: #434B5C;\n",
              "      box-shadow: 0px 1px 3px 1px rgba(0, 0, 0, 0.15);\n",
              "      filter: drop-shadow(0px 1px 2px rgba(0, 0, 0, 0.3));\n",
              "      fill: #FFFFFF;\n",
              "    }\n",
              "  </style>\n",
              "\n",
              "      <script>\n",
              "        const buttonEl =\n",
              "          document.querySelector('#df-2d6239ac-507f-45a7-87ac-45acb42e3a84 button.colab-df-convert');\n",
              "        buttonEl.style.display =\n",
              "          google.colab.kernel.accessAllowed ? 'block' : 'none';\n",
              "\n",
              "        async function convertToInteractive(key) {\n",
              "          const element = document.querySelector('#df-2d6239ac-507f-45a7-87ac-45acb42e3a84');\n",
              "          const dataTable =\n",
              "            await google.colab.kernel.invokeFunction('convertToInteractive',\n",
              "                                                     [key], {});\n",
              "          if (!dataTable) return;\n",
              "\n",
              "          const docLinkHtml = 'Like what you see? Visit the ' +\n",
              "            '<a target=\"_blank\" href=https://colab.research.google.com/notebooks/data_table.ipynb>data table notebook</a>'\n",
              "            + ' to learn more about interactive tables.';\n",
              "          element.innerHTML = '';\n",
              "          dataTable['output_type'] = 'display_data';\n",
              "          await google.colab.output.renderOutput(dataTable, element);\n",
              "          const docLink = document.createElement('div');\n",
              "          docLink.innerHTML = docLinkHtml;\n",
              "          element.appendChild(docLink);\n",
              "        }\n",
              "      </script>\n",
              "    </div>\n",
              "  </div>\n",
              "  "
            ]
          },
          "metadata": {},
          "execution_count": 183
        }
      ]
    },
    {
      "cell_type": "markdown",
      "source": [
        "Sono stati scelti , tra i modelli con il punteggio migliore, i parametri che portano al modello con i coefficienti più piccoli in media.  \n",
        "\n",
        "Verrà ora verificato il modello sui dati di test"
      ],
      "metadata": {
        "id": "MYcKlhc8eayN"
      }
    },
    {
      "cell_type": "code",
      "source": [
        "best_mdl = mdls[\"model\"][mdls[\"mean_coef\"].idxmin()]"
      ],
      "metadata": {
        "id": "8BjC_A4WfWNG"
      },
      "execution_count": null,
      "outputs": []
    },
    {
      "cell_type": "code",
      "source": [
        "print_scores(best_mdl.predict(x_val), y_val)"
      ],
      "metadata": {
        "id": "gn6VqmVU_HER",
        "colab": {
          "base_uri": "https://localhost:8080/"
        },
        "outputId": "615405d2-8e5b-427b-add3-320eb4699117"
      },
      "execution_count": null,
      "outputs": [
        {
          "output_type": "stream",
          "name": "stdout",
          "text": [
            "r2 score: 0.9354, mean squared error: 139210744.6112, relative error: 0.1717\n"
          ]
        }
      ]
    },
    {
      "cell_type": "markdown",
      "source": [
        "Il modell **polinomiale** con **standardizzazione** dei dati e **regolarizzazione ridge** dimostra un buon punteggio sui dati di test."
      ],
      "metadata": {
        "id": "gVqbNg27iFgw"
      }
    },
    {
      "cell_type": "markdown",
      "source": [
        "## modelli ad albero\n",
        "Si procede con la grezione di due modelli:\n",
        "- modello ad albero semplice\n",
        "- modello a foresta (random forest)"
      ],
      "metadata": {
        "id": "Ldm4qcUqYRQV"
      }
    },
    {
      "cell_type": "code",
      "source": [
        "from sklearn.tree import DecisionTreeRegressor, export_text\n",
        "from sklearn.ensemble import RandomForestRegressor\n",
        "from sklearn.inspection import permutation_importance"
      ],
      "metadata": {
        "id": "L3XWtS7h9GsG"
      },
      "execution_count": null,
      "outputs": []
    },
    {
      "cell_type": "markdown",
      "source": [
        "### modello ad albero semplice\n",
        "Viene addestrato un primo modello semplice senza specificare iperparametri"
      ],
      "metadata": {
        "id": "ebHqrmn_8lZJ"
      }
    },
    {
      "cell_type": "code",
      "source": [
        "simple_tr_mdl = DecisionTreeRegressor(random_state=_RANDOM_STATE)\n",
        "\n",
        "str_score = cross_val_score(simple_tr_mdl, x_train, y_train, scoring=\"r2\", cv=kf).mean()\n",
        "print(\"mean r2 score on train data: \", str_score, \"\\n\\nscores on test data:\")\n",
        "\n",
        "simple_tr_mdl.fit(x_train, y_train)\n",
        "print_scores(simple_tr_mdl.predict(x_val), y_val)"
      ],
      "metadata": {
        "id": "Zcy0aQCw9Jt4",
        "colab": {
          "base_uri": "https://localhost:8080/"
        },
        "outputId": "a556b407-b1af-4685-e758-592ba5ae40c5"
      },
      "execution_count": null,
      "outputs": [
        {
          "output_type": "stream",
          "name": "stdout",
          "text": [
            "mean r2 score on train data:  0.9567000916101241 \n",
            "\n",
            "scores on test data:\n",
            "r2 score: 0.9529, mean squared error: 101545362.9379, relative error: 0.0508\n"
          ]
        }
      ]
    },
    {
      "cell_type": "markdown",
      "source": [
        "Come si può vedere l'albero di regressione dimostra già un buon punteggio, ma senza limitare la profondità dell'albero o il numero delle foglie questo può crescere molto, come si vede sotto."
      ],
      "metadata": {
        "id": "1BGKWudN_a4x"
      }
    },
    {
      "cell_type": "code",
      "source": [
        "features = x_val.columns.tolist()\n",
        "print(export_text(simple_tr_mdl, feature_names=features, max_depth=5))"
      ],
      "metadata": {
        "id": "WgM1ReXSBnRB",
        "colab": {
          "base_uri": "https://localhost:8080/"
        },
        "outputId": "a2c8485b-c3a0-4008-dfb3-327231d6a3fc"
      },
      "execution_count": null,
      "outputs": [
        {
          "output_type": "stream",
          "name": "stdout",
          "text": [
            "|--- power <= 236.50\n",
            "|   |--- age <= 5.50\n",
            "|   |   |--- power <= 142.00\n",
            "|   |   |   |--- KTM <= 0.50\n",
            "|   |   |   |   |--- kms_driven <= 8425.50\n",
            "|   |   |   |   |   |--- age <= 3.50\n",
            "|   |   |   |   |   |   |--- truncated branch of depth 11\n",
            "|   |   |   |   |   |--- age >  3.50\n",
            "|   |   |   |   |   |   |--- truncated branch of depth 10\n",
            "|   |   |   |   |--- kms_driven >  8425.50\n",
            "|   |   |   |   |   |--- age <= 4.50\n",
            "|   |   |   |   |   |   |--- truncated branch of depth 16\n",
            "|   |   |   |   |   |--- age >  4.50\n",
            "|   |   |   |   |   |   |--- truncated branch of depth 18\n",
            "|   |   |   |--- KTM >  0.50\n",
            "|   |   |   |   |--- kms_driven <= 611.50\n",
            "|   |   |   |   |   |--- kms_driven <= 70.00\n",
            "|   |   |   |   |   |   |--- value: [152000.00]\n",
            "|   |   |   |   |   |--- kms_driven >  70.00\n",
            "|   |   |   |   |   |   |--- value: [178000.00]\n",
            "|   |   |   |   |--- kms_driven >  611.50\n",
            "|   |   |   |   |   |--- age <= 2.50\n",
            "|   |   |   |   |   |   |--- truncated branch of depth 3\n",
            "|   |   |   |   |   |--- age >  2.50\n",
            "|   |   |   |   |   |   |--- value: [108000.00]\n",
            "|   |   |--- power >  142.00\n",
            "|   |   |   |--- KTM <= 0.50\n",
            "|   |   |   |   |--- age <= 3.50\n",
            "|   |   |   |   |   |--- Yamaha <= 0.50\n",
            "|   |   |   |   |   |   |--- truncated branch of depth 17\n",
            "|   |   |   |   |   |--- Yamaha >  0.50\n",
            "|   |   |   |   |   |   |--- truncated branch of depth 14\n",
            "|   |   |   |   |--- age >  3.50\n",
            "|   |   |   |   |   |--- power <= 190.00\n",
            "|   |   |   |   |   |   |--- truncated branch of depth 23\n",
            "|   |   |   |   |   |--- power >  190.00\n",
            "|   |   |   |   |   |   |--- truncated branch of depth 23\n",
            "|   |   |   |--- KTM >  0.50\n",
            "|   |   |   |   |--- age <= 3.50\n",
            "|   |   |   |   |   |--- age <= 2.50\n",
            "|   |   |   |   |   |   |--- truncated branch of depth 5\n",
            "|   |   |   |   |   |--- age >  2.50\n",
            "|   |   |   |   |   |   |--- truncated branch of depth 6\n",
            "|   |   |   |   |--- age >  3.50\n",
            "|   |   |   |   |   |--- kms_driven <= 20247.50\n",
            "|   |   |   |   |   |   |--- truncated branch of depth 9\n",
            "|   |   |   |   |   |--- kms_driven >  20247.50\n",
            "|   |   |   |   |   |   |--- truncated branch of depth 4\n",
            "|   |--- age >  5.50\n",
            "|   |   |--- power <= 190.00\n",
            "|   |   |   |--- age <= 12.50\n",
            "|   |   |   |   |--- power <= 117.50\n",
            "|   |   |   |   |   |--- kms_driven <= 15504.00\n",
            "|   |   |   |   |   |   |--- truncated branch of depth 14\n",
            "|   |   |   |   |   |--- kms_driven >  15504.00\n",
            "|   |   |   |   |   |   |--- truncated branch of depth 22\n",
            "|   |   |   |   |--- power >  117.50\n",
            "|   |   |   |   |   |--- kms_driven <= 46003.00\n",
            "|   |   |   |   |   |   |--- truncated branch of depth 19\n",
            "|   |   |   |   |   |--- kms_driven >  46003.00\n",
            "|   |   |   |   |   |   |--- truncated branch of depth 16\n",
            "|   |   |   |--- age >  12.50\n",
            "|   |   |   |   |--- age <= 13.50\n",
            "|   |   |   |   |   |--- power <= 142.50\n",
            "|   |   |   |   |   |   |--- truncated branch of depth 13\n",
            "|   |   |   |   |   |--- power >  142.50\n",
            "|   |   |   |   |   |   |--- truncated branch of depth 13\n",
            "|   |   |   |   |--- age >  13.50\n",
            "|   |   |   |   |   |--- power <= 142.50\n",
            "|   |   |   |   |   |   |--- truncated branch of depth 17\n",
            "|   |   |   |   |   |--- power >  142.50\n",
            "|   |   |   |   |   |   |--- truncated branch of depth 14\n",
            "|   |   |--- power >  190.00\n",
            "|   |   |   |--- age <= 6.50\n",
            "|   |   |   |   |--- power <= 210.00\n",
            "|   |   |   |   |   |--- Bajaj <= 0.50\n",
            "|   |   |   |   |   |   |--- truncated branch of depth 10\n",
            "|   |   |   |   |   |--- Bajaj >  0.50\n",
            "|   |   |   |   |   |   |--- truncated branch of depth 13\n",
            "|   |   |   |   |--- power >  210.00\n",
            "|   |   |   |   |   |--- kms_driven <= 25051.00\n",
            "|   |   |   |   |   |   |--- truncated branch of depth 8\n",
            "|   |   |   |   |   |--- kms_driven >  25051.00\n",
            "|   |   |   |   |   |   |--- truncated branch of depth 10\n",
            "|   |   |   |--- age >  6.50\n",
            "|   |   |   |   |--- age <= 8.50\n",
            "|   |   |   |   |   |--- KTM <= 0.50\n",
            "|   |   |   |   |   |   |--- truncated branch of depth 16\n",
            "|   |   |   |   |   |--- KTM >  0.50\n",
            "|   |   |   |   |   |   |--- truncated branch of depth 8\n",
            "|   |   |   |   |--- age >  8.50\n",
            "|   |   |   |   |   |--- kms_driven <= 20342.50\n",
            "|   |   |   |   |   |   |--- truncated branch of depth 9\n",
            "|   |   |   |   |   |--- kms_driven >  20342.50\n",
            "|   |   |   |   |   |   |--- truncated branch of depth 15\n",
            "|--- power >  236.50\n",
            "|   |--- Royal Enfield <= 0.50\n",
            "|   |   |--- power <= 525.00\n",
            "|   |   |   |--- kms_driven <= 13550.00\n",
            "|   |   |   |   |--- Bajaj <= 0.50\n",
            "|   |   |   |   |   |--- power <= 272.50\n",
            "|   |   |   |   |   |   |--- truncated branch of depth 13\n",
            "|   |   |   |   |   |--- power >  272.50\n",
            "|   |   |   |   |   |   |--- truncated branch of depth 20\n",
            "|   |   |   |   |--- Bajaj >  0.50\n",
            "|   |   |   |   |   |--- age <= 2.50\n",
            "|   |   |   |   |   |   |--- truncated branch of depth 3\n",
            "|   |   |   |   |   |--- age >  2.50\n",
            "|   |   |   |   |   |   |--- truncated branch of depth 8\n",
            "|   |   |   |--- kms_driven >  13550.00\n",
            "|   |   |   |   |--- power <= 275.00\n",
            "|   |   |   |   |   |--- Honda <= 0.50\n",
            "|   |   |   |   |   |   |--- truncated branch of depth 10\n",
            "|   |   |   |   |   |--- Honda >  0.50\n",
            "|   |   |   |   |   |   |--- truncated branch of depth 13\n",
            "|   |   |   |   |--- power >  275.00\n",
            "|   |   |   |   |   |--- power <= 355.00\n",
            "|   |   |   |   |   |   |--- truncated branch of depth 8\n",
            "|   |   |   |   |   |--- power >  355.00\n",
            "|   |   |   |   |   |   |--- truncated branch of depth 11\n",
            "|   |   |--- power >  525.00\n",
            "|   |   |   |--- kms_driven <= 296.50\n",
            "|   |   |   |   |--- value: [170000.00]\n",
            "|   |   |   |--- kms_driven >  296.50\n",
            "|   |   |   |   |--- Hyosung <= 0.50\n",
            "|   |   |   |   |   |--- kms_driven <= 10773.00\n",
            "|   |   |   |   |   |   |--- truncated branch of depth 11\n",
            "|   |   |   |   |   |--- kms_driven >  10773.00\n",
            "|   |   |   |   |   |   |--- truncated branch of depth 9\n",
            "|   |   |   |   |--- Hyosung >  0.50\n",
            "|   |   |   |   |   |--- age <= 6.50\n",
            "|   |   |   |   |   |   |--- truncated branch of depth 4\n",
            "|   |   |   |   |   |--- age >  6.50\n",
            "|   |   |   |   |   |   |--- truncated branch of depth 2\n",
            "|   |--- Royal Enfield >  0.50\n",
            "|   |   |--- age <= 6.50\n",
            "|   |   |   |--- age <= 3.50\n",
            "|   |   |   |   |--- power <= 575.00\n",
            "|   |   |   |   |   |--- power <= 380.00\n",
            "|   |   |   |   |   |   |--- truncated branch of depth 14\n",
            "|   |   |   |   |   |--- power >  380.00\n",
            "|   |   |   |   |   |   |--- truncated branch of depth 13\n",
            "|   |   |   |   |--- power >  575.00\n",
            "|   |   |   |   |   |--- kms_driven <= 1210.00\n",
            "|   |   |   |   |   |   |--- value: [250000.00]\n",
            "|   |   |   |   |   |--- kms_driven >  1210.00\n",
            "|   |   |   |   |   |   |--- truncated branch of depth 4\n",
            "|   |   |   |--- age >  3.50\n",
            "|   |   |   |   |--- power <= 380.00\n",
            "|   |   |   |   |   |--- kms_driven <= 8750.50\n",
            "|   |   |   |   |   |   |--- truncated branch of depth 12\n",
            "|   |   |   |   |   |--- kms_driven >  8750.50\n",
            "|   |   |   |   |   |   |--- truncated branch of depth 16\n",
            "|   |   |   |   |--- power >  380.00\n",
            "|   |   |   |   |   |--- kms_driven <= 4814.00\n",
            "|   |   |   |   |   |   |--- truncated branch of depth 8\n",
            "|   |   |   |   |   |--- kms_driven >  4814.00\n",
            "|   |   |   |   |   |   |--- truncated branch of depth 16\n",
            "|   |   |--- age >  6.50\n",
            "|   |   |   |--- age <= 9.50\n",
            "|   |   |   |   |--- power <= 425.00\n",
            "|   |   |   |   |   |--- kms_driven <= 17982.50\n",
            "|   |   |   |   |   |   |--- truncated branch of depth 13\n",
            "|   |   |   |   |   |--- kms_driven >  17982.50\n",
            "|   |   |   |   |   |   |--- truncated branch of depth 17\n",
            "|   |   |   |   |--- power >  425.00\n",
            "|   |   |   |   |   |--- owner <= 0.50\n",
            "|   |   |   |   |   |   |--- truncated branch of depth 12\n",
            "|   |   |   |   |   |--- owner >  0.50\n",
            "|   |   |   |   |   |   |--- truncated branch of depth 8\n",
            "|   |   |   |--- age >  9.50\n",
            "|   |   |   |   |--- kms_driven <= 2200.00\n",
            "|   |   |   |   |   |--- kms_driven <= 950.00\n",
            "|   |   |   |   |   |   |--- truncated branch of depth 2\n",
            "|   |   |   |   |   |--- kms_driven >  950.00\n",
            "|   |   |   |   |   |   |--- value: [250000.00]\n",
            "|   |   |   |   |--- kms_driven >  2200.00\n",
            "|   |   |   |   |   |--- power <= 425.00\n",
            "|   |   |   |   |   |   |--- truncated branch of depth 14\n",
            "|   |   |   |   |   |--- power >  425.00\n",
            "|   |   |   |   |   |   |--- truncated branch of depth 7\n",
            "\n"
          ]
        }
      ]
    },
    {
      "cell_type": "code",
      "source": [
        "simple_tr_mdl.get_depth()"
      ],
      "metadata": {
        "id": "KY-eSpEKFL7P",
        "colab": {
          "base_uri": "https://localhost:8080/"
        },
        "outputId": "c3739c7d-57c6-4eba-f700-e0150b6acca8"
      },
      "execution_count": null,
      "outputs": [
        {
          "output_type": "execute_result",
          "data": {
            "text/plain": [
              "28"
            ]
          },
          "metadata": {},
          "execution_count": 189
        }
      ]
    },
    {
      "cell_type": "markdown",
      "source": [
        "Dall'addestrametno viene generato un albero molto profondo.  \n",
        "Si prosegue con una grid search per cercare di ottenere un albero meno profondo ma che abbia comunque un buon punteggio."
      ],
      "metadata": {
        "id": "eYDjP8ljC9Ny"
      }
    },
    {
      "cell_type": "code",
      "source": [
        "%%time\n",
        "# fit takes about 1 min\n",
        "t_grid = {\n",
        "    \"max_depth\": range(9, 17),\n",
        "    \"min_samples_split\": np.linspace(0.0001, 0.001, 20, dtype=float),\n",
        "    \"min_samples_leaf\": range(2,5)\n",
        "}\n",
        "\n",
        "tgs = GridSearchCV(simple_tr_mdl, t_grid, n_jobs=-1, cv=kf)\n",
        "tgs.fit(x_train, y_train)"
      ],
      "metadata": {
        "id": "KntEFaAdDDrs",
        "colab": {
          "base_uri": "https://localhost:8080/",
          "height": 154
        },
        "outputId": "4b860b78-fdc9-4b57-fbc8-6dbcbe43b246"
      },
      "execution_count": null,
      "outputs": [
        {
          "output_type": "stream",
          "name": "stdout",
          "text": [
            "CPU times: user 3.36 s, sys: 431 ms, total: 3.79 s\n",
            "Wall time: 1min 4s\n"
          ]
        },
        {
          "output_type": "execute_result",
          "data": {
            "text/plain": [
              "GridSearchCV(cv=KFold(n_splits=5, random_state=19, shuffle=True),\n",
              "             estimator=DecisionTreeRegressor(random_state=19), n_jobs=-1,\n",
              "             param_grid={'max_depth': range(9, 17),\n",
              "                         'min_samples_leaf': range(2, 5),\n",
              "                         'min_samples_split': array([0.0001    , 0.00014737, 0.00019474, 0.00024211, 0.00028947,\n",
              "       0.00033684, 0.00038421, 0.00043158, 0.00047895, 0.00052632,\n",
              "       0.00057368, 0.00062105, 0.00066842, 0.00071579, 0.00076316,\n",
              "       0.00081053, 0.00085789, 0.00090526, 0.00095263, 0.001     ])})"
            ],
            "text/html": [
              "<style>#sk-container-id-17 {color: black;background-color: white;}#sk-container-id-17 pre{padding: 0;}#sk-container-id-17 div.sk-toggleable {background-color: white;}#sk-container-id-17 label.sk-toggleable__label {cursor: pointer;display: block;width: 100%;margin-bottom: 0;padding: 0.3em;box-sizing: border-box;text-align: center;}#sk-container-id-17 label.sk-toggleable__label-arrow:before {content: \"▸\";float: left;margin-right: 0.25em;color: #696969;}#sk-container-id-17 label.sk-toggleable__label-arrow:hover:before {color: black;}#sk-container-id-17 div.sk-estimator:hover label.sk-toggleable__label-arrow:before {color: black;}#sk-container-id-17 div.sk-toggleable__content {max-height: 0;max-width: 0;overflow: hidden;text-align: left;background-color: #f0f8ff;}#sk-container-id-17 div.sk-toggleable__content pre {margin: 0.2em;color: black;border-radius: 0.25em;background-color: #f0f8ff;}#sk-container-id-17 input.sk-toggleable__control:checked~div.sk-toggleable__content {max-height: 200px;max-width: 100%;overflow: auto;}#sk-container-id-17 input.sk-toggleable__control:checked~label.sk-toggleable__label-arrow:before {content: \"▾\";}#sk-container-id-17 div.sk-estimator input.sk-toggleable__control:checked~label.sk-toggleable__label {background-color: #d4ebff;}#sk-container-id-17 div.sk-label input.sk-toggleable__control:checked~label.sk-toggleable__label {background-color: #d4ebff;}#sk-container-id-17 input.sk-hidden--visually {border: 0;clip: rect(1px 1px 1px 1px);clip: rect(1px, 1px, 1px, 1px);height: 1px;margin: -1px;overflow: hidden;padding: 0;position: absolute;width: 1px;}#sk-container-id-17 div.sk-estimator {font-family: monospace;background-color: #f0f8ff;border: 1px dotted black;border-radius: 0.25em;box-sizing: border-box;margin-bottom: 0.5em;}#sk-container-id-17 div.sk-estimator:hover {background-color: #d4ebff;}#sk-container-id-17 div.sk-parallel-item::after {content: \"\";width: 100%;border-bottom: 1px solid gray;flex-grow: 1;}#sk-container-id-17 div.sk-label:hover label.sk-toggleable__label {background-color: #d4ebff;}#sk-container-id-17 div.sk-serial::before {content: \"\";position: absolute;border-left: 1px solid gray;box-sizing: border-box;top: 0;bottom: 0;left: 50%;z-index: 0;}#sk-container-id-17 div.sk-serial {display: flex;flex-direction: column;align-items: center;background-color: white;padding-right: 0.2em;padding-left: 0.2em;position: relative;}#sk-container-id-17 div.sk-item {position: relative;z-index: 1;}#sk-container-id-17 div.sk-parallel {display: flex;align-items: stretch;justify-content: center;background-color: white;position: relative;}#sk-container-id-17 div.sk-item::before, #sk-container-id-17 div.sk-parallel-item::before {content: \"\";position: absolute;border-left: 1px solid gray;box-sizing: border-box;top: 0;bottom: 0;left: 50%;z-index: -1;}#sk-container-id-17 div.sk-parallel-item {display: flex;flex-direction: column;z-index: 1;position: relative;background-color: white;}#sk-container-id-17 div.sk-parallel-item:first-child::after {align-self: flex-end;width: 50%;}#sk-container-id-17 div.sk-parallel-item:last-child::after {align-self: flex-start;width: 50%;}#sk-container-id-17 div.sk-parallel-item:only-child::after {width: 0;}#sk-container-id-17 div.sk-dashed-wrapped {border: 1px dashed gray;margin: 0 0.4em 0.5em 0.4em;box-sizing: border-box;padding-bottom: 0.4em;background-color: white;}#sk-container-id-17 div.sk-label label {font-family: monospace;font-weight: bold;display: inline-block;line-height: 1.2em;}#sk-container-id-17 div.sk-label-container {text-align: center;}#sk-container-id-17 div.sk-container {/* jupyter's `normalize.less` sets `[hidden] { display: none; }` but bootstrap.min.css set `[hidden] { display: none !important; }` so we also need the `!important` here to be able to override the default hidden behavior on the sphinx rendered scikit-learn.org. See: https://github.com/scikit-learn/scikit-learn/issues/21755 */display: inline-block !important;position: relative;}#sk-container-id-17 div.sk-text-repr-fallback {display: none;}</style><div id=\"sk-container-id-17\" class=\"sk-top-container\"><div class=\"sk-text-repr-fallback\"><pre>GridSearchCV(cv=KFold(n_splits=5, random_state=19, shuffle=True),\n",
              "             estimator=DecisionTreeRegressor(random_state=19), n_jobs=-1,\n",
              "             param_grid={&#x27;max_depth&#x27;: range(9, 17),\n",
              "                         &#x27;min_samples_leaf&#x27;: range(2, 5),\n",
              "                         &#x27;min_samples_split&#x27;: array([0.0001    , 0.00014737, 0.00019474, 0.00024211, 0.00028947,\n",
              "       0.00033684, 0.00038421, 0.00043158, 0.00047895, 0.00052632,\n",
              "       0.00057368, 0.00062105, 0.00066842, 0.00071579, 0.00076316,\n",
              "       0.00081053, 0.00085789, 0.00090526, 0.00095263, 0.001     ])})</pre><b>In a Jupyter environment, please rerun this cell to show the HTML representation or trust the notebook. <br />On GitHub, the HTML representation is unable to render, please try loading this page with nbviewer.org.</b></div><div class=\"sk-container\" hidden><div class=\"sk-item sk-dashed-wrapped\"><div class=\"sk-label-container\"><div class=\"sk-label sk-toggleable\"><input class=\"sk-toggleable__control sk-hidden--visually\" id=\"sk-estimator-id-93\" type=\"checkbox\" ><label for=\"sk-estimator-id-93\" class=\"sk-toggleable__label sk-toggleable__label-arrow\">GridSearchCV</label><div class=\"sk-toggleable__content\"><pre>GridSearchCV(cv=KFold(n_splits=5, random_state=19, shuffle=True),\n",
              "             estimator=DecisionTreeRegressor(random_state=19), n_jobs=-1,\n",
              "             param_grid={&#x27;max_depth&#x27;: range(9, 17),\n",
              "                         &#x27;min_samples_leaf&#x27;: range(2, 5),\n",
              "                         &#x27;min_samples_split&#x27;: array([0.0001    , 0.00014737, 0.00019474, 0.00024211, 0.00028947,\n",
              "       0.00033684, 0.00038421, 0.00043158, 0.00047895, 0.00052632,\n",
              "       0.00057368, 0.00062105, 0.00066842, 0.00071579, 0.00076316,\n",
              "       0.00081053, 0.00085789, 0.00090526, 0.00095263, 0.001     ])})</pre></div></div></div><div class=\"sk-parallel\"><div class=\"sk-parallel-item\"><div class=\"sk-item\"><div class=\"sk-label-container\"><div class=\"sk-label sk-toggleable\"><input class=\"sk-toggleable__control sk-hidden--visually\" id=\"sk-estimator-id-94\" type=\"checkbox\" ><label for=\"sk-estimator-id-94\" class=\"sk-toggleable__label sk-toggleable__label-arrow\">estimator: DecisionTreeRegressor</label><div class=\"sk-toggleable__content\"><pre>DecisionTreeRegressor(random_state=19)</pre></div></div></div><div class=\"sk-serial\"><div class=\"sk-item\"><div class=\"sk-estimator sk-toggleable\"><input class=\"sk-toggleable__control sk-hidden--visually\" id=\"sk-estimator-id-95\" type=\"checkbox\" ><label for=\"sk-estimator-id-95\" class=\"sk-toggleable__label sk-toggleable__label-arrow\">DecisionTreeRegressor</label><div class=\"sk-toggleable__content\"><pre>DecisionTreeRegressor(random_state=19)</pre></div></div></div></div></div></div></div></div></div></div>"
            ]
          },
          "metadata": {},
          "execution_count": 190
        }
      ]
    },
    {
      "cell_type": "code",
      "source": [
        "col = [\"mean_test_score\", \"rank_test_score\" ,\"params\" ,\"mean_fit_time\"]\n",
        "res = pd.DataFrame(tgs.cv_results_)\n",
        "res[col].sort_values(\"mean_test_score\", ascending=False).head(10)"
      ],
      "metadata": {
        "id": "DwO09_kAGSu0",
        "colab": {
          "base_uri": "https://localhost:8080/",
          "height": 363
        },
        "outputId": "eb26bc76-a2b9-48a8-d214-f5ba2e0192cc"
      },
      "execution_count": null,
      "outputs": [
        {
          "output_type": "execute_result",
          "data": {
            "text/plain": [
              "     mean_test_score  rank_test_score  \\\n",
              "337         0.962478                1   \n",
              "275         0.962472                2   \n",
              "135         0.962424                3   \n",
              "397         0.962397                4   \n",
              "457         0.962397                5   \n",
              "217         0.962311                6   \n",
              "317         0.962303                7   \n",
              "339         0.962219                8   \n",
              "338         0.962219                8   \n",
              "278         0.962208               10   \n",
              "\n",
              "                                                params  mean_fit_time  \n",
              "337  {'max_depth': 14, 'min_samples_leaf': 3, 'min_...       0.039881  \n",
              "275  {'max_depth': 13, 'min_samples_leaf': 3, 'min_...       0.043301  \n",
              "135  {'max_depth': 11, 'min_samples_leaf': 2, 'min_...       0.041745  \n",
              "397  {'max_depth': 15, 'min_samples_leaf': 3, 'min_...       0.039599  \n",
              "457  {'max_depth': 16, 'min_samples_leaf': 3, 'min_...       0.050203  \n",
              "217  {'max_depth': 12, 'min_samples_leaf': 3, 'min_...       0.038512  \n",
              "317  {'max_depth': 14, 'min_samples_leaf': 2, 'min_...       0.039681  \n",
              "339  {'max_depth': 14, 'min_samples_leaf': 3, 'min_...       0.039320  \n",
              "338  {'max_depth': 14, 'min_samples_leaf': 3, 'min_...       0.040786  \n",
              "278  {'max_depth': 13, 'min_samples_leaf': 3, 'min_...       0.039892  "
            ],
            "text/html": [
              "\n",
              "  <div id=\"df-4477dabb-5e97-4baa-bbf2-c083f280bb28\">\n",
              "    <div class=\"colab-df-container\">\n",
              "      <div>\n",
              "<style scoped>\n",
              "    .dataframe tbody tr th:only-of-type {\n",
              "        vertical-align: middle;\n",
              "    }\n",
              "\n",
              "    .dataframe tbody tr th {\n",
              "        vertical-align: top;\n",
              "    }\n",
              "\n",
              "    .dataframe thead th {\n",
              "        text-align: right;\n",
              "    }\n",
              "</style>\n",
              "<table border=\"1\" class=\"dataframe\">\n",
              "  <thead>\n",
              "    <tr style=\"text-align: right;\">\n",
              "      <th></th>\n",
              "      <th>mean_test_score</th>\n",
              "      <th>rank_test_score</th>\n",
              "      <th>params</th>\n",
              "      <th>mean_fit_time</th>\n",
              "    </tr>\n",
              "  </thead>\n",
              "  <tbody>\n",
              "    <tr>\n",
              "      <th>337</th>\n",
              "      <td>0.962478</td>\n",
              "      <td>1</td>\n",
              "      <td>{'max_depth': 14, 'min_samples_leaf': 3, 'min_...</td>\n",
              "      <td>0.039881</td>\n",
              "    </tr>\n",
              "    <tr>\n",
              "      <th>275</th>\n",
              "      <td>0.962472</td>\n",
              "      <td>2</td>\n",
              "      <td>{'max_depth': 13, 'min_samples_leaf': 3, 'min_...</td>\n",
              "      <td>0.043301</td>\n",
              "    </tr>\n",
              "    <tr>\n",
              "      <th>135</th>\n",
              "      <td>0.962424</td>\n",
              "      <td>3</td>\n",
              "      <td>{'max_depth': 11, 'min_samples_leaf': 2, 'min_...</td>\n",
              "      <td>0.041745</td>\n",
              "    </tr>\n",
              "    <tr>\n",
              "      <th>397</th>\n",
              "      <td>0.962397</td>\n",
              "      <td>4</td>\n",
              "      <td>{'max_depth': 15, 'min_samples_leaf': 3, 'min_...</td>\n",
              "      <td>0.039599</td>\n",
              "    </tr>\n",
              "    <tr>\n",
              "      <th>457</th>\n",
              "      <td>0.962397</td>\n",
              "      <td>5</td>\n",
              "      <td>{'max_depth': 16, 'min_samples_leaf': 3, 'min_...</td>\n",
              "      <td>0.050203</td>\n",
              "    </tr>\n",
              "    <tr>\n",
              "      <th>217</th>\n",
              "      <td>0.962311</td>\n",
              "      <td>6</td>\n",
              "      <td>{'max_depth': 12, 'min_samples_leaf': 3, 'min_...</td>\n",
              "      <td>0.038512</td>\n",
              "    </tr>\n",
              "    <tr>\n",
              "      <th>317</th>\n",
              "      <td>0.962303</td>\n",
              "      <td>7</td>\n",
              "      <td>{'max_depth': 14, 'min_samples_leaf': 2, 'min_...</td>\n",
              "      <td>0.039681</td>\n",
              "    </tr>\n",
              "    <tr>\n",
              "      <th>339</th>\n",
              "      <td>0.962219</td>\n",
              "      <td>8</td>\n",
              "      <td>{'max_depth': 14, 'min_samples_leaf': 3, 'min_...</td>\n",
              "      <td>0.039320</td>\n",
              "    </tr>\n",
              "    <tr>\n",
              "      <th>338</th>\n",
              "      <td>0.962219</td>\n",
              "      <td>8</td>\n",
              "      <td>{'max_depth': 14, 'min_samples_leaf': 3, 'min_...</td>\n",
              "      <td>0.040786</td>\n",
              "    </tr>\n",
              "    <tr>\n",
              "      <th>278</th>\n",
              "      <td>0.962208</td>\n",
              "      <td>10</td>\n",
              "      <td>{'max_depth': 13, 'min_samples_leaf': 3, 'min_...</td>\n",
              "      <td>0.039892</td>\n",
              "    </tr>\n",
              "  </tbody>\n",
              "</table>\n",
              "</div>\n",
              "      <button class=\"colab-df-convert\" onclick=\"convertToInteractive('df-4477dabb-5e97-4baa-bbf2-c083f280bb28')\"\n",
              "              title=\"Convert this dataframe to an interactive table.\"\n",
              "              style=\"display:none;\">\n",
              "        \n",
              "  <svg xmlns=\"http://www.w3.org/2000/svg\" height=\"24px\"viewBox=\"0 0 24 24\"\n",
              "       width=\"24px\">\n",
              "    <path d=\"M0 0h24v24H0V0z\" fill=\"none\"/>\n",
              "    <path d=\"M18.56 5.44l.94 2.06.94-2.06 2.06-.94-2.06-.94-.94-2.06-.94 2.06-2.06.94zm-11 1L8.5 8.5l.94-2.06 2.06-.94-2.06-.94L8.5 2.5l-.94 2.06-2.06.94zm10 10l.94 2.06.94-2.06 2.06-.94-2.06-.94-.94-2.06-.94 2.06-2.06.94z\"/><path d=\"M17.41 7.96l-1.37-1.37c-.4-.4-.92-.59-1.43-.59-.52 0-1.04.2-1.43.59L10.3 9.45l-7.72 7.72c-.78.78-.78 2.05 0 2.83L4 21.41c.39.39.9.59 1.41.59.51 0 1.02-.2 1.41-.59l7.78-7.78 2.81-2.81c.8-.78.8-2.07 0-2.86zM5.41 20L4 18.59l7.72-7.72 1.47 1.35L5.41 20z\"/>\n",
              "  </svg>\n",
              "      </button>\n",
              "      \n",
              "  <style>\n",
              "    .colab-df-container {\n",
              "      display:flex;\n",
              "      flex-wrap:wrap;\n",
              "      gap: 12px;\n",
              "    }\n",
              "\n",
              "    .colab-df-convert {\n",
              "      background-color: #E8F0FE;\n",
              "      border: none;\n",
              "      border-radius: 50%;\n",
              "      cursor: pointer;\n",
              "      display: none;\n",
              "      fill: #1967D2;\n",
              "      height: 32px;\n",
              "      padding: 0 0 0 0;\n",
              "      width: 32px;\n",
              "    }\n",
              "\n",
              "    .colab-df-convert:hover {\n",
              "      background-color: #E2EBFA;\n",
              "      box-shadow: 0px 1px 2px rgba(60, 64, 67, 0.3), 0px 1px 3px 1px rgba(60, 64, 67, 0.15);\n",
              "      fill: #174EA6;\n",
              "    }\n",
              "\n",
              "    [theme=dark] .colab-df-convert {\n",
              "      background-color: #3B4455;\n",
              "      fill: #D2E3FC;\n",
              "    }\n",
              "\n",
              "    [theme=dark] .colab-df-convert:hover {\n",
              "      background-color: #434B5C;\n",
              "      box-shadow: 0px 1px 3px 1px rgba(0, 0, 0, 0.15);\n",
              "      filter: drop-shadow(0px 1px 2px rgba(0, 0, 0, 0.3));\n",
              "      fill: #FFFFFF;\n",
              "    }\n",
              "  </style>\n",
              "\n",
              "      <script>\n",
              "        const buttonEl =\n",
              "          document.querySelector('#df-4477dabb-5e97-4baa-bbf2-c083f280bb28 button.colab-df-convert');\n",
              "        buttonEl.style.display =\n",
              "          google.colab.kernel.accessAllowed ? 'block' : 'none';\n",
              "\n",
              "        async function convertToInteractive(key) {\n",
              "          const element = document.querySelector('#df-4477dabb-5e97-4baa-bbf2-c083f280bb28');\n",
              "          const dataTable =\n",
              "            await google.colab.kernel.invokeFunction('convertToInteractive',\n",
              "                                                     [key], {});\n",
              "          if (!dataTable) return;\n",
              "\n",
              "          const docLinkHtml = 'Like what you see? Visit the ' +\n",
              "            '<a target=\"_blank\" href=https://colab.research.google.com/notebooks/data_table.ipynb>data table notebook</a>'\n",
              "            + ' to learn more about interactive tables.';\n",
              "          element.innerHTML = '';\n",
              "          dataTable['output_type'] = 'display_data';\n",
              "          await google.colab.output.renderOutput(dataTable, element);\n",
              "          const docLink = document.createElement('div');\n",
              "          docLink.innerHTML = docLinkHtml;\n",
              "          element.appendChild(docLink);\n",
              "        }\n",
              "      </script>\n",
              "    </div>\n",
              "  </div>\n",
              "  "
            ]
          },
          "metadata": {},
          "execution_count": 191
        }
      ]
    },
    {
      "cell_type": "code",
      "source": [
        "print_scores(tgs.predict(x_val), y_val)"
      ],
      "metadata": {
        "id": "Z7cpVVAVNJUU",
        "colab": {
          "base_uri": "https://localhost:8080/"
        },
        "outputId": "530545cd-2bff-4f6e-aba7-26989f067c3d"
      },
      "execution_count": null,
      "outputs": [
        {
          "output_type": "stream",
          "name": "stdout",
          "text": [
            "r2 score: 0.9613, mean squared error: 83365925.4397, relative error: 0.0548\n"
          ]
        }
      ]
    },
    {
      "cell_type": "markdown",
      "source": [
        "\n",
        "Rispetto ai modelli polinomiali gli alberi decisionali hanno il vantaggio di essere facilmente interpretabili.  \n",
        "Infatti vedendo sia l'albero generato con l'addestramento, come visto sopra, sia il \"*valore di importanza*\" delle colonne, si può comprendere quali siano le caratteristiche fondamentali dei dati per una buona previsione."
      ],
      "metadata": {
        "id": "YMRywp46A26G"
      }
    },
    {
      "cell_type": "markdown",
      "source": [
        "Sotto sono mostrati i valori di importanza attribuiti alle variabili in input in ordine crescente; questi sono legati al numero di split eseguiti sulle caratteristiche presenti nell'albero.  \n",
        "Si può vedere come le colonne più importanti siano **power** e **age**.  \n"
      ],
      "metadata": {
        "id": "L-Qr5PRjDOUk"
      }
    },
    {
      "cell_type": "code",
      "source": [
        "pd.Series(tgs.best_estimator_.feature_importances_, index=features).sort_values(ascending=False)"
      ],
      "metadata": {
        "id": "htDud-s4NTFP",
        "colab": {
          "base_uri": "https://localhost:8080/"
        },
        "outputId": "f8e7d664-8e31-4414-ec9e-7d4f47fdec2f"
      },
      "execution_count": null,
      "outputs": [
        {
          "output_type": "execute_result",
          "data": {
            "text/plain": [
              "power              0.687628\n",
              "age                0.135459\n",
              "Royal Enfield      0.097655\n",
              "kms_driven         0.050783\n",
              "KTM                0.010019\n",
              "Yamaha             0.005419\n",
              "Bajaj              0.003632\n",
              "Hyosung            0.003054\n",
              "Mahindra           0.002128\n",
              "Honda              0.002120\n",
              "BMW                0.001196\n",
              "owner              0.000298\n",
              "Hero               0.000280\n",
              "Suzuki             0.000207\n",
              "TVS                0.000122\n",
              "MV                 0.000000\n",
              "Triumph            0.000000\n",
              "Rajdoot            0.000000\n",
              "Indian             0.000000\n",
              "LML                0.000000\n",
              "Kawasaki           0.000000\n",
              "Jawa               0.000000\n",
              "Ideal              0.000000\n",
              "Harley-Davidson    0.000000\n",
              "Ducati             0.000000\n",
              "Benelli            0.000000\n",
              "Yezdi              0.000000\n",
              "dtype: float64"
            ]
          },
          "metadata": {},
          "execution_count": 193
        }
      ]
    },
    {
      "cell_type": "markdown",
      "source": [
        "Dall'importanza delle caratteristiche si può notare anche come alcune colonne categoriche, in particolare *Royal Enfield* e *KTM* siano considerate più importanti delle altre.  \n",
        "Questi sbilanciamenti sono dovuti al numero di dati legati ad un prduttore che sono in numero maggiore rispetto ad altri.  \n",
        "questo problema viene detto **sbilanciamento delle classi**.\n",
        "Un metodo per migliorare la dipendenza dai dati può essere l'uso di una foresta di regressione."
      ],
      "metadata": {
        "id": "OT72GI5RN1DE"
      }
    },
    {
      "cell_type": "markdown",
      "source": [
        "### modello bagging\n",
        "Un modello random forest addestra più alberi su sottoinsiemi non disgiunti delle colonne dei dati; esegue poi le previsioni come media delle previsioni dei singoli alberi.  \n",
        "Segue un primo addestramento di una foresta di regressione."
      ],
      "metadata": {
        "id": "2BLMwIiY8pua"
      }
    },
    {
      "cell_type": "code",
      "source": [
        "rf_mdl = RandomForestRegressor(random_state=_RANDOM_STATE)\n",
        "\n",
        "rf_score = cross_val_score(rf_mdl, x_train, y_train, scoring=\"r2\", cv=kf).mean()\n",
        "print(\"mean r2 score on train data: \", rf_score, \"\\n\\nscores on test data:\")\n",
        "\n",
        "rf_mdl.fit(x_train, y_train)\n",
        "print_scores(rf_mdl.predict(x_val), y_val)"
      ],
      "metadata": {
        "id": "2JF_wpoLPcu6",
        "colab": {
          "base_uri": "https://localhost:8080/"
        },
        "outputId": "4523e21c-be1f-483f-daf1-b8b0b72c3ba0"
      },
      "execution_count": null,
      "outputs": [
        {
          "output_type": "stream",
          "name": "stdout",
          "text": [
            "mean r2 score on train data:  0.9685503065343667 \n",
            "\n",
            "scores on test data:\n",
            "r2 score: 0.9669, mean squared error: 71305895.4099, relative error: 0.0477\n"
          ]
        }
      ]
    },
    {
      "cell_type": "code",
      "source": [
        "pd.Series(rf_mdl.feature_importances_, index=features).sort_values(ascending=False)"
      ],
      "metadata": {
        "id": "NR7iysarS8aw",
        "colab": {
          "base_uri": "https://localhost:8080/"
        },
        "outputId": "b37485fe-d4f2-4506-dac3-3be8c2d60dd6"
      },
      "execution_count": null,
      "outputs": [
        {
          "output_type": "execute_result",
          "data": {
            "text/plain": [
              "power              0.667281\n",
              "age                0.138245\n",
              "Royal Enfield      0.095736\n",
              "kms_driven         0.066235\n",
              "KTM                0.009976\n",
              "Yamaha             0.007028\n",
              "Bajaj              0.003207\n",
              "Honda              0.002045\n",
              "BMW                0.002001\n",
              "Hyosung            0.001918\n",
              "Mahindra           0.001420\n",
              "owner              0.001325\n",
              "Benelli            0.001319\n",
              "Kawasaki           0.000939\n",
              "TVS                0.000589\n",
              "Hero               0.000328\n",
              "Suzuki             0.000269\n",
              "Harley-Davidson    0.000111\n",
              "Jawa               0.000026\n",
              "Ducati             0.000004\n",
              "Triumph            0.000000\n",
              "Indian             0.000000\n",
              "Rajdoot            0.000000\n",
              "MV                 0.000000\n",
              "LML                0.000000\n",
              "Ideal              0.000000\n",
              "Yezdi              0.000000\n",
              "dtype: float64"
            ]
          },
          "metadata": {},
          "execution_count": 195
        }
      ]
    },
    {
      "cell_type": "markdown",
      "source": [
        "Si può ancora vedere l'effetto dello sbilanciamento delle classi.\n",
        "\n",
        "Si procede ad una ricerca degli iperparametri per migliorare l'indipendenza dai dati di addestramento; in particolare grazie all'iperparametro `max_features` che limita il numero di dati usati per la divisione di un nodo ad un sottoinsieme casuale delle colonne del training set."
      ],
      "metadata": {
        "id": "mhGAIr5pS58X"
      }
    },
    {
      "cell_type": "code",
      "source": [
        "%%time\n",
        "# fit takes about 3 min\n",
        "rf_grid = {\n",
        "    \"max_depth\": range(8, 15, 3),\n",
        "    \"min_samples_split\": [5,9,12],\n",
        "    \"min_samples_leaf\": [1,3,5],\n",
        "    \"n_estimators\": [50],# [50, 100, 150],\n",
        "    \"max_features\": range(10, int(len(features)/2)+4, 3)\n",
        "}\n",
        "\n",
        "rfgs = GridSearchCV(rf_mdl, rf_grid, n_jobs=-1, cv=kf)\n",
        "rfgs.fit(x_train, y_train)"
      ],
      "metadata": {
        "id": "dezZ4Dh9TE8h",
        "colab": {
          "base_uri": "https://localhost:8080/",
          "height": 154
        },
        "outputId": "b9a5fe97-ee4d-459b-8b61-cc40d71c8f11"
      },
      "execution_count": null,
      "outputs": [
        {
          "output_type": "stream",
          "name": "stdout",
          "text": [
            "CPU times: user 3.12 s, sys: 309 ms, total: 3.43 s\n",
            "Wall time: 2min 58s\n"
          ]
        },
        {
          "output_type": "execute_result",
          "data": {
            "text/plain": [
              "GridSearchCV(cv=KFold(n_splits=5, random_state=19, shuffle=True),\n",
              "             estimator=RandomForestRegressor(random_state=19), n_jobs=-1,\n",
              "             param_grid={'max_depth': range(8, 15, 3),\n",
              "                         'max_features': range(10, 17, 3),\n",
              "                         'min_samples_leaf': [1, 3, 5],\n",
              "                         'min_samples_split': [5, 9, 12],\n",
              "                         'n_estimators': [50]})"
            ],
            "text/html": [
              "<style>#sk-container-id-18 {color: black;background-color: white;}#sk-container-id-18 pre{padding: 0;}#sk-container-id-18 div.sk-toggleable {background-color: white;}#sk-container-id-18 label.sk-toggleable__label {cursor: pointer;display: block;width: 100%;margin-bottom: 0;padding: 0.3em;box-sizing: border-box;text-align: center;}#sk-container-id-18 label.sk-toggleable__label-arrow:before {content: \"▸\";float: left;margin-right: 0.25em;color: #696969;}#sk-container-id-18 label.sk-toggleable__label-arrow:hover:before {color: black;}#sk-container-id-18 div.sk-estimator:hover label.sk-toggleable__label-arrow:before {color: black;}#sk-container-id-18 div.sk-toggleable__content {max-height: 0;max-width: 0;overflow: hidden;text-align: left;background-color: #f0f8ff;}#sk-container-id-18 div.sk-toggleable__content pre {margin: 0.2em;color: black;border-radius: 0.25em;background-color: #f0f8ff;}#sk-container-id-18 input.sk-toggleable__control:checked~div.sk-toggleable__content {max-height: 200px;max-width: 100%;overflow: auto;}#sk-container-id-18 input.sk-toggleable__control:checked~label.sk-toggleable__label-arrow:before {content: \"▾\";}#sk-container-id-18 div.sk-estimator input.sk-toggleable__control:checked~label.sk-toggleable__label {background-color: #d4ebff;}#sk-container-id-18 div.sk-label input.sk-toggleable__control:checked~label.sk-toggleable__label {background-color: #d4ebff;}#sk-container-id-18 input.sk-hidden--visually {border: 0;clip: rect(1px 1px 1px 1px);clip: rect(1px, 1px, 1px, 1px);height: 1px;margin: -1px;overflow: hidden;padding: 0;position: absolute;width: 1px;}#sk-container-id-18 div.sk-estimator {font-family: monospace;background-color: #f0f8ff;border: 1px dotted black;border-radius: 0.25em;box-sizing: border-box;margin-bottom: 0.5em;}#sk-container-id-18 div.sk-estimator:hover {background-color: #d4ebff;}#sk-container-id-18 div.sk-parallel-item::after {content: \"\";width: 100%;border-bottom: 1px solid gray;flex-grow: 1;}#sk-container-id-18 div.sk-label:hover label.sk-toggleable__label {background-color: #d4ebff;}#sk-container-id-18 div.sk-serial::before {content: \"\";position: absolute;border-left: 1px solid gray;box-sizing: border-box;top: 0;bottom: 0;left: 50%;z-index: 0;}#sk-container-id-18 div.sk-serial {display: flex;flex-direction: column;align-items: center;background-color: white;padding-right: 0.2em;padding-left: 0.2em;position: relative;}#sk-container-id-18 div.sk-item {position: relative;z-index: 1;}#sk-container-id-18 div.sk-parallel {display: flex;align-items: stretch;justify-content: center;background-color: white;position: relative;}#sk-container-id-18 div.sk-item::before, #sk-container-id-18 div.sk-parallel-item::before {content: \"\";position: absolute;border-left: 1px solid gray;box-sizing: border-box;top: 0;bottom: 0;left: 50%;z-index: -1;}#sk-container-id-18 div.sk-parallel-item {display: flex;flex-direction: column;z-index: 1;position: relative;background-color: white;}#sk-container-id-18 div.sk-parallel-item:first-child::after {align-self: flex-end;width: 50%;}#sk-container-id-18 div.sk-parallel-item:last-child::after {align-self: flex-start;width: 50%;}#sk-container-id-18 div.sk-parallel-item:only-child::after {width: 0;}#sk-container-id-18 div.sk-dashed-wrapped {border: 1px dashed gray;margin: 0 0.4em 0.5em 0.4em;box-sizing: border-box;padding-bottom: 0.4em;background-color: white;}#sk-container-id-18 div.sk-label label {font-family: monospace;font-weight: bold;display: inline-block;line-height: 1.2em;}#sk-container-id-18 div.sk-label-container {text-align: center;}#sk-container-id-18 div.sk-container {/* jupyter's `normalize.less` sets `[hidden] { display: none; }` but bootstrap.min.css set `[hidden] { display: none !important; }` so we also need the `!important` here to be able to override the default hidden behavior on the sphinx rendered scikit-learn.org. See: https://github.com/scikit-learn/scikit-learn/issues/21755 */display: inline-block !important;position: relative;}#sk-container-id-18 div.sk-text-repr-fallback {display: none;}</style><div id=\"sk-container-id-18\" class=\"sk-top-container\"><div class=\"sk-text-repr-fallback\"><pre>GridSearchCV(cv=KFold(n_splits=5, random_state=19, shuffle=True),\n",
              "             estimator=RandomForestRegressor(random_state=19), n_jobs=-1,\n",
              "             param_grid={&#x27;max_depth&#x27;: range(8, 15, 3),\n",
              "                         &#x27;max_features&#x27;: range(10, 17, 3),\n",
              "                         &#x27;min_samples_leaf&#x27;: [1, 3, 5],\n",
              "                         &#x27;min_samples_split&#x27;: [5, 9, 12],\n",
              "                         &#x27;n_estimators&#x27;: [50]})</pre><b>In a Jupyter environment, please rerun this cell to show the HTML representation or trust the notebook. <br />On GitHub, the HTML representation is unable to render, please try loading this page with nbviewer.org.</b></div><div class=\"sk-container\" hidden><div class=\"sk-item sk-dashed-wrapped\"><div class=\"sk-label-container\"><div class=\"sk-label sk-toggleable\"><input class=\"sk-toggleable__control sk-hidden--visually\" id=\"sk-estimator-id-96\" type=\"checkbox\" ><label for=\"sk-estimator-id-96\" class=\"sk-toggleable__label sk-toggleable__label-arrow\">GridSearchCV</label><div class=\"sk-toggleable__content\"><pre>GridSearchCV(cv=KFold(n_splits=5, random_state=19, shuffle=True),\n",
              "             estimator=RandomForestRegressor(random_state=19), n_jobs=-1,\n",
              "             param_grid={&#x27;max_depth&#x27;: range(8, 15, 3),\n",
              "                         &#x27;max_features&#x27;: range(10, 17, 3),\n",
              "                         &#x27;min_samples_leaf&#x27;: [1, 3, 5],\n",
              "                         &#x27;min_samples_split&#x27;: [5, 9, 12],\n",
              "                         &#x27;n_estimators&#x27;: [50]})</pre></div></div></div><div class=\"sk-parallel\"><div class=\"sk-parallel-item\"><div class=\"sk-item\"><div class=\"sk-label-container\"><div class=\"sk-label sk-toggleable\"><input class=\"sk-toggleable__control sk-hidden--visually\" id=\"sk-estimator-id-97\" type=\"checkbox\" ><label for=\"sk-estimator-id-97\" class=\"sk-toggleable__label sk-toggleable__label-arrow\">estimator: RandomForestRegressor</label><div class=\"sk-toggleable__content\"><pre>RandomForestRegressor(random_state=19)</pre></div></div></div><div class=\"sk-serial\"><div class=\"sk-item\"><div class=\"sk-estimator sk-toggleable\"><input class=\"sk-toggleable__control sk-hidden--visually\" id=\"sk-estimator-id-98\" type=\"checkbox\" ><label for=\"sk-estimator-id-98\" class=\"sk-toggleable__label sk-toggleable__label-arrow\">RandomForestRegressor</label><div class=\"sk-toggleable__content\"><pre>RandomForestRegressor(random_state=19)</pre></div></div></div></div></div></div></div></div></div></div>"
            ]
          },
          "metadata": {},
          "execution_count": 196
        }
      ]
    },
    {
      "cell_type": "code",
      "source": [
        "col = [\"mean_test_score\", \"rank_test_score\" ,\"params\" ,\"mean_fit_time\"]\n",
        "res = pd.DataFrame(rfgs.cv_results_)\n",
        "res[col].sort_values(\"mean_test_score\", ascending=False)"
      ],
      "metadata": {
        "id": "gEhwHotIVAEb",
        "colab": {
          "base_uri": "https://localhost:8080/",
          "height": 423
        },
        "outputId": "a4ea73e8-a305-4615-cd28-060f13afbd4b"
      },
      "execution_count": null,
      "outputs": [
        {
          "output_type": "execute_result",
          "data": {
            "text/plain": [
              "    mean_test_score  rank_test_score  \\\n",
              "63         0.969854                1   \n",
              "72         0.969693                2   \n",
              "73         0.969339                3   \n",
              "54         0.969204                4   \n",
              "64         0.969143                5   \n",
              "..              ...              ...   \n",
              "3          0.953303               77   \n",
              "5          0.952731               78   \n",
              "7          0.951858               79   \n",
              "6          0.951858               79   \n",
              "8          0.950907               81   \n",
              "\n",
              "                                               params  mean_fit_time  \n",
              "63  {'max_depth': 14, 'max_features': 13, 'min_sam...       0.860151  \n",
              "72  {'max_depth': 14, 'max_features': 16, 'min_sam...       1.531968  \n",
              "73  {'max_depth': 14, 'max_features': 16, 'min_sam...       0.909786  \n",
              "54  {'max_depth': 14, 'max_features': 10, 'min_sam...       1.278942  \n",
              "64  {'max_depth': 14, 'max_features': 13, 'min_sam...       0.818925  \n",
              "..                                                ...            ...  \n",
              "3   {'max_depth': 8, 'max_features': 10, 'min_samp...       0.588935  \n",
              "5   {'max_depth': 8, 'max_features': 10, 'min_samp...       0.666502  \n",
              "7   {'max_depth': 8, 'max_features': 10, 'min_samp...       0.570635  \n",
              "6   {'max_depth': 8, 'max_features': 10, 'min_samp...       0.569794  \n",
              "8   {'max_depth': 8, 'max_features': 10, 'min_samp...       0.570859  \n",
              "\n",
              "[81 rows x 4 columns]"
            ],
            "text/html": [
              "\n",
              "  <div id=\"df-443a7a95-6534-4b45-9549-6a97d3bee668\">\n",
              "    <div class=\"colab-df-container\">\n",
              "      <div>\n",
              "<style scoped>\n",
              "    .dataframe tbody tr th:only-of-type {\n",
              "        vertical-align: middle;\n",
              "    }\n",
              "\n",
              "    .dataframe tbody tr th {\n",
              "        vertical-align: top;\n",
              "    }\n",
              "\n",
              "    .dataframe thead th {\n",
              "        text-align: right;\n",
              "    }\n",
              "</style>\n",
              "<table border=\"1\" class=\"dataframe\">\n",
              "  <thead>\n",
              "    <tr style=\"text-align: right;\">\n",
              "      <th></th>\n",
              "      <th>mean_test_score</th>\n",
              "      <th>rank_test_score</th>\n",
              "      <th>params</th>\n",
              "      <th>mean_fit_time</th>\n",
              "    </tr>\n",
              "  </thead>\n",
              "  <tbody>\n",
              "    <tr>\n",
              "      <th>63</th>\n",
              "      <td>0.969854</td>\n",
              "      <td>1</td>\n",
              "      <td>{'max_depth': 14, 'max_features': 13, 'min_sam...</td>\n",
              "      <td>0.860151</td>\n",
              "    </tr>\n",
              "    <tr>\n",
              "      <th>72</th>\n",
              "      <td>0.969693</td>\n",
              "      <td>2</td>\n",
              "      <td>{'max_depth': 14, 'max_features': 16, 'min_sam...</td>\n",
              "      <td>1.531968</td>\n",
              "    </tr>\n",
              "    <tr>\n",
              "      <th>73</th>\n",
              "      <td>0.969339</td>\n",
              "      <td>3</td>\n",
              "      <td>{'max_depth': 14, 'max_features': 16, 'min_sam...</td>\n",
              "      <td>0.909786</td>\n",
              "    </tr>\n",
              "    <tr>\n",
              "      <th>54</th>\n",
              "      <td>0.969204</td>\n",
              "      <td>4</td>\n",
              "      <td>{'max_depth': 14, 'max_features': 10, 'min_sam...</td>\n",
              "      <td>1.278942</td>\n",
              "    </tr>\n",
              "    <tr>\n",
              "      <th>64</th>\n",
              "      <td>0.969143</td>\n",
              "      <td>5</td>\n",
              "      <td>{'max_depth': 14, 'max_features': 13, 'min_sam...</td>\n",
              "      <td>0.818925</td>\n",
              "    </tr>\n",
              "    <tr>\n",
              "      <th>...</th>\n",
              "      <td>...</td>\n",
              "      <td>...</td>\n",
              "      <td>...</td>\n",
              "      <td>...</td>\n",
              "    </tr>\n",
              "    <tr>\n",
              "      <th>3</th>\n",
              "      <td>0.953303</td>\n",
              "      <td>77</td>\n",
              "      <td>{'max_depth': 8, 'max_features': 10, 'min_samp...</td>\n",
              "      <td>0.588935</td>\n",
              "    </tr>\n",
              "    <tr>\n",
              "      <th>5</th>\n",
              "      <td>0.952731</td>\n",
              "      <td>78</td>\n",
              "      <td>{'max_depth': 8, 'max_features': 10, 'min_samp...</td>\n",
              "      <td>0.666502</td>\n",
              "    </tr>\n",
              "    <tr>\n",
              "      <th>7</th>\n",
              "      <td>0.951858</td>\n",
              "      <td>79</td>\n",
              "      <td>{'max_depth': 8, 'max_features': 10, 'min_samp...</td>\n",
              "      <td>0.570635</td>\n",
              "    </tr>\n",
              "    <tr>\n",
              "      <th>6</th>\n",
              "      <td>0.951858</td>\n",
              "      <td>79</td>\n",
              "      <td>{'max_depth': 8, 'max_features': 10, 'min_samp...</td>\n",
              "      <td>0.569794</td>\n",
              "    </tr>\n",
              "    <tr>\n",
              "      <th>8</th>\n",
              "      <td>0.950907</td>\n",
              "      <td>81</td>\n",
              "      <td>{'max_depth': 8, 'max_features': 10, 'min_samp...</td>\n",
              "      <td>0.570859</td>\n",
              "    </tr>\n",
              "  </tbody>\n",
              "</table>\n",
              "<p>81 rows × 4 columns</p>\n",
              "</div>\n",
              "      <button class=\"colab-df-convert\" onclick=\"convertToInteractive('df-443a7a95-6534-4b45-9549-6a97d3bee668')\"\n",
              "              title=\"Convert this dataframe to an interactive table.\"\n",
              "              style=\"display:none;\">\n",
              "        \n",
              "  <svg xmlns=\"http://www.w3.org/2000/svg\" height=\"24px\"viewBox=\"0 0 24 24\"\n",
              "       width=\"24px\">\n",
              "    <path d=\"M0 0h24v24H0V0z\" fill=\"none\"/>\n",
              "    <path d=\"M18.56 5.44l.94 2.06.94-2.06 2.06-.94-2.06-.94-.94-2.06-.94 2.06-2.06.94zm-11 1L8.5 8.5l.94-2.06 2.06-.94-2.06-.94L8.5 2.5l-.94 2.06-2.06.94zm10 10l.94 2.06.94-2.06 2.06-.94-2.06-.94-.94-2.06-.94 2.06-2.06.94z\"/><path d=\"M17.41 7.96l-1.37-1.37c-.4-.4-.92-.59-1.43-.59-.52 0-1.04.2-1.43.59L10.3 9.45l-7.72 7.72c-.78.78-.78 2.05 0 2.83L4 21.41c.39.39.9.59 1.41.59.51 0 1.02-.2 1.41-.59l7.78-7.78 2.81-2.81c.8-.78.8-2.07 0-2.86zM5.41 20L4 18.59l7.72-7.72 1.47 1.35L5.41 20z\"/>\n",
              "  </svg>\n",
              "      </button>\n",
              "      \n",
              "  <style>\n",
              "    .colab-df-container {\n",
              "      display:flex;\n",
              "      flex-wrap:wrap;\n",
              "      gap: 12px;\n",
              "    }\n",
              "\n",
              "    .colab-df-convert {\n",
              "      background-color: #E8F0FE;\n",
              "      border: none;\n",
              "      border-radius: 50%;\n",
              "      cursor: pointer;\n",
              "      display: none;\n",
              "      fill: #1967D2;\n",
              "      height: 32px;\n",
              "      padding: 0 0 0 0;\n",
              "      width: 32px;\n",
              "    }\n",
              "\n",
              "    .colab-df-convert:hover {\n",
              "      background-color: #E2EBFA;\n",
              "      box-shadow: 0px 1px 2px rgba(60, 64, 67, 0.3), 0px 1px 3px 1px rgba(60, 64, 67, 0.15);\n",
              "      fill: #174EA6;\n",
              "    }\n",
              "\n",
              "    [theme=dark] .colab-df-convert {\n",
              "      background-color: #3B4455;\n",
              "      fill: #D2E3FC;\n",
              "    }\n",
              "\n",
              "    [theme=dark] .colab-df-convert:hover {\n",
              "      background-color: #434B5C;\n",
              "      box-shadow: 0px 1px 3px 1px rgba(0, 0, 0, 0.15);\n",
              "      filter: drop-shadow(0px 1px 2px rgba(0, 0, 0, 0.3));\n",
              "      fill: #FFFFFF;\n",
              "    }\n",
              "  </style>\n",
              "\n",
              "      <script>\n",
              "        const buttonEl =\n",
              "          document.querySelector('#df-443a7a95-6534-4b45-9549-6a97d3bee668 button.colab-df-convert');\n",
              "        buttonEl.style.display =\n",
              "          google.colab.kernel.accessAllowed ? 'block' : 'none';\n",
              "\n",
              "        async function convertToInteractive(key) {\n",
              "          const element = document.querySelector('#df-443a7a95-6534-4b45-9549-6a97d3bee668');\n",
              "          const dataTable =\n",
              "            await google.colab.kernel.invokeFunction('convertToInteractive',\n",
              "                                                     [key], {});\n",
              "          if (!dataTable) return;\n",
              "\n",
              "          const docLinkHtml = 'Like what you see? Visit the ' +\n",
              "            '<a target=\"_blank\" href=https://colab.research.google.com/notebooks/data_table.ipynb>data table notebook</a>'\n",
              "            + ' to learn more about interactive tables.';\n",
              "          element.innerHTML = '';\n",
              "          dataTable['output_type'] = 'display_data';\n",
              "          await google.colab.output.renderOutput(dataTable, element);\n",
              "          const docLink = document.createElement('div');\n",
              "          docLink.innerHTML = docLinkHtml;\n",
              "          element.appendChild(docLink);\n",
              "        }\n",
              "      </script>\n",
              "    </div>\n",
              "  </div>\n",
              "  "
            ]
          },
          "metadata": {},
          "execution_count": 197
        }
      ]
    },
    {
      "cell_type": "code",
      "source": [
        "print_scores(rfgs.predict(x_val), y_val)"
      ],
      "metadata": {
        "id": "kg2bNIP3YI-E",
        "colab": {
          "base_uri": "https://localhost:8080/"
        },
        "outputId": "44acf171-aa79-4530-c4f4-16cfd39500d7"
      },
      "execution_count": null,
      "outputs": [
        {
          "output_type": "stream",
          "name": "stdout",
          "text": [
            "r2 score: 0.9705, mean squared error: 63617818.4255, relative error: 0.0488\n"
          ]
        }
      ]
    },
    {
      "cell_type": "code",
      "source": [
        "pd.Series(rfgs.best_estimator_.feature_importances_, index=features).sort_values(ascending=False)"
      ],
      "metadata": {
        "id": "LroNhOs_-Vus",
        "colab": {
          "base_uri": "https://localhost:8080/"
        },
        "outputId": "1dc5dd89-ac2b-45be-ee62-fc9fb046c070"
      },
      "execution_count": null,
      "outputs": [
        {
          "output_type": "execute_result",
          "data": {
            "text/plain": [
              "power              0.530473\n",
              "age                0.204523\n",
              "kms_driven         0.087615\n",
              "Royal Enfield      0.060060\n",
              "KTM                0.048712\n",
              "Harley-Davidson    0.021728\n",
              "Hero               0.012512\n",
              "Yamaha             0.006966\n",
              "Bajaj              0.006751\n",
              "Kawasaki           0.003542\n",
              "owner              0.003492\n",
              "Hyosung            0.003424\n",
              "BMW                0.002637\n",
              "Honda              0.002359\n",
              "Benelli            0.001947\n",
              "TVS                0.001428\n",
              "Mahindra           0.001035\n",
              "Suzuki             0.000641\n",
              "Ducati             0.000100\n",
              "Jawa               0.000055\n",
              "Triumph            0.000000\n",
              "Indian             0.000000\n",
              "Rajdoot            0.000000\n",
              "MV                 0.000000\n",
              "LML                0.000000\n",
              "Ideal              0.000000\n",
              "Yezdi              0.000000\n",
              "dtype: float64"
            ]
          },
          "metadata": {},
          "execution_count": 199
        }
      ]
    },
    {
      "cell_type": "markdown",
      "source": [
        "Il modello così addestrato attribuisce un'importanza relativamente minore alle variabili categoriche sbilanciate rispetto all'albero di regressione semplice; questo dovrebbe portare ad una predizione migliore su dati sconosciuti.  \n",
        "Il modello mantiene comunque un buon punteggio sui dati di test.  "
      ],
      "metadata": {
        "id": "LJFP0UHUctLu"
      }
    },
    {
      "cell_type": "markdown",
      "source": [
        "## modello catboost\n",
        "Segue l'addestrare di un modello da una libreria esterna.  \n",
        "Viene usato [CatBoost](https://catboost.ai/) perchè, a differenza dell'implementazione degli alberi di scikit learn, accetta dati con colonne di tipo categorico; questo semplifica la preparazione dei dati.\n",
        "\n",
        "Inoltre CatBoost, a differenza della foresta di regressione usata sopra, usa una tecnica detta **boosting**;  \n",
        "con quessta tecnica ad ogni iterazione si addestra un nuovo albero da aggiungere al modello; l'albero da aggiungere all'iterazione successiva viene addestrato sugli errori di predizione dell'iterazione corrente.  \n",
        "Si possono quindi confrontare i risultati di due tipi di foreste di regressione diverse.\n",
        "\n",
        "Vengono ora caricati i dati con valori categorici (senza encoding)"
      ],
      "metadata": {
        "id": "DwHe_pdjZ0NQ"
      }
    },
    {
      "cell_type": "code",
      "source": [
        "x_train_cat, x_val_cat, _, _ = train_test_split(x, y, test_size=_TEST_SIZE, random_state=_RANDOM_STATE)\n",
        "x_train_cat.info()"
      ],
      "metadata": {
        "id": "OYngFmxpfYpk",
        "colab": {
          "base_uri": "https://localhost:8080/"
        },
        "outputId": "8ab5ed5b-59a6-4472-ff35-7085e6a4b7a0"
      },
      "execution_count": null,
      "outputs": [
        {
          "output_type": "stream",
          "name": "stdout",
          "text": [
            "<class 'pandas.core.frame.DataFrame'>\n",
            "Int64Index: 21211 entries, 4618 to 31094\n",
            "Data columns (total 5 columns):\n",
            " #   Column      Non-Null Count  Dtype   \n",
            "---  ------      --------------  -----   \n",
            " 0   kms_driven  21211 non-null  float64 \n",
            " 1   owner       21211 non-null  category\n",
            " 2   age         21211 non-null  int64   \n",
            " 3   power       21211 non-null  float64 \n",
            " 4   brand       21211 non-null  category\n",
            "dtypes: category(2), float64(2), int64(1)\n",
            "memory usage: 705.2 KB\n"
          ]
        }
      ]
    },
    {
      "cell_type": "code",
      "source": [
        "%pip install catboost\n",
        "import catboost\n",
        "from catboost import CatBoostRegressor, cv, Pool"
      ],
      "metadata": {
        "id": "0Sy7F41sg5zh",
        "colab": {
          "base_uri": "https://localhost:8080/"
        },
        "outputId": "1ab34783-6e69-47b6-eab1-fb469ea3541b"
      },
      "execution_count": null,
      "outputs": [
        {
          "output_type": "stream",
          "name": "stdout",
          "text": [
            "Looking in indexes: https://pypi.org/simple, https://us-python.pkg.dev/colab-wheels/public/simple/\n",
            "Requirement already satisfied: catboost in /usr/local/lib/python3.10/dist-packages (1.2)\n",
            "Requirement already satisfied: graphviz in /usr/local/lib/python3.10/dist-packages (from catboost) (0.20.1)\n",
            "Requirement already satisfied: matplotlib in /usr/local/lib/python3.10/dist-packages (from catboost) (3.7.1)\n",
            "Requirement already satisfied: numpy>=1.16.0 in /usr/local/lib/python3.10/dist-packages (from catboost) (1.22.4)\n",
            "Requirement already satisfied: pandas>=0.24 in /usr/local/lib/python3.10/dist-packages (from catboost) (1.5.3)\n",
            "Requirement already satisfied: scipy in /usr/local/lib/python3.10/dist-packages (from catboost) (1.10.1)\n",
            "Requirement already satisfied: plotly in /usr/local/lib/python3.10/dist-packages (from catboost) (5.13.1)\n",
            "Requirement already satisfied: six in /usr/local/lib/python3.10/dist-packages (from catboost) (1.16.0)\n",
            "Requirement already satisfied: python-dateutil>=2.8.1 in /usr/local/lib/python3.10/dist-packages (from pandas>=0.24->catboost) (2.8.2)\n",
            "Requirement already satisfied: pytz>=2020.1 in /usr/local/lib/python3.10/dist-packages (from pandas>=0.24->catboost) (2022.7.1)\n",
            "Requirement already satisfied: contourpy>=1.0.1 in /usr/local/lib/python3.10/dist-packages (from matplotlib->catboost) (1.0.7)\n",
            "Requirement already satisfied: cycler>=0.10 in /usr/local/lib/python3.10/dist-packages (from matplotlib->catboost) (0.11.0)\n",
            "Requirement already satisfied: fonttools>=4.22.0 in /usr/local/lib/python3.10/dist-packages (from matplotlib->catboost) (4.39.3)\n",
            "Requirement already satisfied: kiwisolver>=1.0.1 in /usr/local/lib/python3.10/dist-packages (from matplotlib->catboost) (1.4.4)\n",
            "Requirement already satisfied: packaging>=20.0 in /usr/local/lib/python3.10/dist-packages (from matplotlib->catboost) (23.1)\n",
            "Requirement already satisfied: pillow>=6.2.0 in /usr/local/lib/python3.10/dist-packages (from matplotlib->catboost) (8.4.0)\n",
            "Requirement already satisfied: pyparsing>=2.3.1 in /usr/local/lib/python3.10/dist-packages (from matplotlib->catboost) (3.0.9)\n",
            "Requirement already satisfied: tenacity>=6.2.0 in /usr/local/lib/python3.10/dist-packages (from plotly->catboost) (8.2.2)\n"
          ]
        }
      ]
    },
    {
      "cell_type": "code",
      "source": [
        "cat_train = Pool(x_train_cat, y_train, cat_features=categorical_left)\n",
        "cat_val = Pool(x_val_cat, y_val, cat_features=categorical_left)"
      ],
      "metadata": {
        "id": "n04VIiCx39tB"
      },
      "execution_count": null,
      "outputs": []
    },
    {
      "cell_type": "code",
      "source": [
        "cb_mdl = CatBoostRegressor(iterations=100, loss_function=\"RMSE\", cat_features=categorical_left, verbose=False, task_type=\"CPU\")\n",
        "cb_mdl.fit(cat_train, verbose=False)\n",
        "\n",
        "cb_score = cross_val_score(cb_mdl, x_train_cat, y_train, scoring=\"r2\", cv=kf).mean()\n",
        "\n",
        "print(\"mean r2 score on train data: \", cb_score, \"\\n\\nscores on test data:\")\n",
        "print_scores(cb_mdl.predict(x_val_cat), y_val)"
      ],
      "metadata": {
        "id": "ouHcmRrjhXK5",
        "colab": {
          "base_uri": "https://localhost:8080/"
        },
        "outputId": "6b2cd294-2420-4885-89f8-5421abeaaae9"
      },
      "execution_count": null,
      "outputs": [
        {
          "output_type": "stream",
          "name": "stdout",
          "text": [
            "mean r2 score on train data:  0.9682306196584902 \n",
            "\n",
            "scores on test data:\n",
            "r2 score: 0.9659, mean squared error: 73540087.6129, relative error: 0.0623\n"
          ]
        }
      ]
    },
    {
      "cell_type": "markdown",
      "source": [
        "Si può vedere come CatBoost ottenga un ottimo punteggio specificando solo alcuni iperparametri.  \n",
        "Si esegue ora una ricerca per migliorare il modello prima di analizzarne le caratteristiche. "
      ],
      "metadata": {
        "id": "vS89ruSxg_zF"
      }
    },
    {
      "cell_type": "code",
      "source": [
        "%%time\n",
        "# fit takes about 6 min\n",
        "cb_grid = {\n",
        "    \"iterations\": [100, 150, 200],\n",
        "    # \"learning_rate\": [0.3, 0.6, 1] # not set beacuse defined automatically for RMSE\n",
        "    \"grow_policy\": [\"Depthwise\", \"Lossguide\"], # [\"SymmetricTree\", \"Depthwise\", \"Lossguide\"], # not much difference is shown\n",
        "    \"depth\": [15] # [6, 10, 15],\n",
        "}\n",
        "\n",
        "cbgs = GridSearchCV(cb_mdl, cb_grid, n_jobs=-1, cv=kf)\n",
        "cbgs.fit(x_train_cat, y_train)"
      ],
      "metadata": {
        "id": "-Vl4n7sni_Xt",
        "colab": {
          "base_uri": "https://localhost:8080/",
          "height": 154
        },
        "outputId": "01b215c2-81d5-4ab9-d2ed-9787fd63badf"
      },
      "execution_count": null,
      "outputs": [
        {
          "output_type": "stream",
          "name": "stdout",
          "text": [
            "CPU times: user 7.62 s, sys: 864 ms, total: 8.48 s\n",
            "Wall time: 5min 45s\n"
          ]
        },
        {
          "output_type": "execute_result",
          "data": {
            "text/plain": [
              "GridSearchCV(cv=KFold(n_splits=5, random_state=19, shuffle=True),\n",
              "             estimator=<catboost.core.CatBoostRegressor object at 0x7fc0d289ca60>,\n",
              "             n_jobs=-1,\n",
              "             param_grid={'depth': [15],\n",
              "                         'grow_policy': ['Depthwise', 'Lossguide'],\n",
              "                         'iterations': [100, 150, 200]})"
            ],
            "text/html": [
              "<style>#sk-container-id-19 {color: black;background-color: white;}#sk-container-id-19 pre{padding: 0;}#sk-container-id-19 div.sk-toggleable {background-color: white;}#sk-container-id-19 label.sk-toggleable__label {cursor: pointer;display: block;width: 100%;margin-bottom: 0;padding: 0.3em;box-sizing: border-box;text-align: center;}#sk-container-id-19 label.sk-toggleable__label-arrow:before {content: \"▸\";float: left;margin-right: 0.25em;color: #696969;}#sk-container-id-19 label.sk-toggleable__label-arrow:hover:before {color: black;}#sk-container-id-19 div.sk-estimator:hover label.sk-toggleable__label-arrow:before {color: black;}#sk-container-id-19 div.sk-toggleable__content {max-height: 0;max-width: 0;overflow: hidden;text-align: left;background-color: #f0f8ff;}#sk-container-id-19 div.sk-toggleable__content pre {margin: 0.2em;color: black;border-radius: 0.25em;background-color: #f0f8ff;}#sk-container-id-19 input.sk-toggleable__control:checked~div.sk-toggleable__content {max-height: 200px;max-width: 100%;overflow: auto;}#sk-container-id-19 input.sk-toggleable__control:checked~label.sk-toggleable__label-arrow:before {content: \"▾\";}#sk-container-id-19 div.sk-estimator input.sk-toggleable__control:checked~label.sk-toggleable__label {background-color: #d4ebff;}#sk-container-id-19 div.sk-label input.sk-toggleable__control:checked~label.sk-toggleable__label {background-color: #d4ebff;}#sk-container-id-19 input.sk-hidden--visually {border: 0;clip: rect(1px 1px 1px 1px);clip: rect(1px, 1px, 1px, 1px);height: 1px;margin: -1px;overflow: hidden;padding: 0;position: absolute;width: 1px;}#sk-container-id-19 div.sk-estimator {font-family: monospace;background-color: #f0f8ff;border: 1px dotted black;border-radius: 0.25em;box-sizing: border-box;margin-bottom: 0.5em;}#sk-container-id-19 div.sk-estimator:hover {background-color: #d4ebff;}#sk-container-id-19 div.sk-parallel-item::after {content: \"\";width: 100%;border-bottom: 1px solid gray;flex-grow: 1;}#sk-container-id-19 div.sk-label:hover label.sk-toggleable__label {background-color: #d4ebff;}#sk-container-id-19 div.sk-serial::before {content: \"\";position: absolute;border-left: 1px solid gray;box-sizing: border-box;top: 0;bottom: 0;left: 50%;z-index: 0;}#sk-container-id-19 div.sk-serial {display: flex;flex-direction: column;align-items: center;background-color: white;padding-right: 0.2em;padding-left: 0.2em;position: relative;}#sk-container-id-19 div.sk-item {position: relative;z-index: 1;}#sk-container-id-19 div.sk-parallel {display: flex;align-items: stretch;justify-content: center;background-color: white;position: relative;}#sk-container-id-19 div.sk-item::before, #sk-container-id-19 div.sk-parallel-item::before {content: \"\";position: absolute;border-left: 1px solid gray;box-sizing: border-box;top: 0;bottom: 0;left: 50%;z-index: -1;}#sk-container-id-19 div.sk-parallel-item {display: flex;flex-direction: column;z-index: 1;position: relative;background-color: white;}#sk-container-id-19 div.sk-parallel-item:first-child::after {align-self: flex-end;width: 50%;}#sk-container-id-19 div.sk-parallel-item:last-child::after {align-self: flex-start;width: 50%;}#sk-container-id-19 div.sk-parallel-item:only-child::after {width: 0;}#sk-container-id-19 div.sk-dashed-wrapped {border: 1px dashed gray;margin: 0 0.4em 0.5em 0.4em;box-sizing: border-box;padding-bottom: 0.4em;background-color: white;}#sk-container-id-19 div.sk-label label {font-family: monospace;font-weight: bold;display: inline-block;line-height: 1.2em;}#sk-container-id-19 div.sk-label-container {text-align: center;}#sk-container-id-19 div.sk-container {/* jupyter's `normalize.less` sets `[hidden] { display: none; }` but bootstrap.min.css set `[hidden] { display: none !important; }` so we also need the `!important` here to be able to override the default hidden behavior on the sphinx rendered scikit-learn.org. See: https://github.com/scikit-learn/scikit-learn/issues/21755 */display: inline-block !important;position: relative;}#sk-container-id-19 div.sk-text-repr-fallback {display: none;}</style><div id=\"sk-container-id-19\" class=\"sk-top-container\"><div class=\"sk-text-repr-fallback\"><pre>GridSearchCV(cv=KFold(n_splits=5, random_state=19, shuffle=True),\n",
              "             estimator=&lt;catboost.core.CatBoostRegressor object at 0x7fc0d289ca60&gt;,\n",
              "             n_jobs=-1,\n",
              "             param_grid={&#x27;depth&#x27;: [15],\n",
              "                         &#x27;grow_policy&#x27;: [&#x27;Depthwise&#x27;, &#x27;Lossguide&#x27;],\n",
              "                         &#x27;iterations&#x27;: [100, 150, 200]})</pre><b>In a Jupyter environment, please rerun this cell to show the HTML representation or trust the notebook. <br />On GitHub, the HTML representation is unable to render, please try loading this page with nbviewer.org.</b></div><div class=\"sk-container\" hidden><div class=\"sk-item sk-dashed-wrapped\"><div class=\"sk-label-container\"><div class=\"sk-label sk-toggleable\"><input class=\"sk-toggleable__control sk-hidden--visually\" id=\"sk-estimator-id-99\" type=\"checkbox\" ><label for=\"sk-estimator-id-99\" class=\"sk-toggleable__label sk-toggleable__label-arrow\">GridSearchCV</label><div class=\"sk-toggleable__content\"><pre>GridSearchCV(cv=KFold(n_splits=5, random_state=19, shuffle=True),\n",
              "             estimator=&lt;catboost.core.CatBoostRegressor object at 0x7fc0d289ca60&gt;,\n",
              "             n_jobs=-1,\n",
              "             param_grid={&#x27;depth&#x27;: [15],\n",
              "                         &#x27;grow_policy&#x27;: [&#x27;Depthwise&#x27;, &#x27;Lossguide&#x27;],\n",
              "                         &#x27;iterations&#x27;: [100, 150, 200]})</pre></div></div></div><div class=\"sk-parallel\"><div class=\"sk-parallel-item\"><div class=\"sk-item\"><div class=\"sk-label-container\"><div class=\"sk-label sk-toggleable\"><input class=\"sk-toggleable__control sk-hidden--visually\" id=\"sk-estimator-id-100\" type=\"checkbox\" ><label for=\"sk-estimator-id-100\" class=\"sk-toggleable__label sk-toggleable__label-arrow\">estimator: CatBoostRegressor</label><div class=\"sk-toggleable__content\"><pre>&lt;catboost.core.CatBoostRegressor object at 0x7fc0d289ca60&gt;</pre></div></div></div><div class=\"sk-serial\"><div class=\"sk-item\"><div class=\"sk-estimator sk-toggleable\"><input class=\"sk-toggleable__control sk-hidden--visually\" id=\"sk-estimator-id-101\" type=\"checkbox\" ><label for=\"sk-estimator-id-101\" class=\"sk-toggleable__label sk-toggleable__label-arrow\">CatBoostRegressor</label><div class=\"sk-toggleable__content\"><pre>&lt;catboost.core.CatBoostRegressor object at 0x7fc0d289ca60&gt;</pre></div></div></div></div></div></div></div></div></div></div>"
            ]
          },
          "metadata": {},
          "execution_count": 206
        }
      ]
    },
    {
      "cell_type": "code",
      "source": [
        "res = pd.DataFrame(cbgs.cv_results_)\n",
        "res[col].sort_values(\"mean_test_score\", ascending=False)"
      ],
      "metadata": {
        "id": "y7pybH55lXFS",
        "colab": {
          "base_uri": "https://localhost:8080/",
          "height": 237
        },
        "outputId": "b777adf9-fb2e-48db-da17-55a7215a06ea"
      },
      "execution_count": null,
      "outputs": [
        {
          "output_type": "execute_result",
          "data": {
            "text/plain": [
              "   mean_test_score  rank_test_score  \\\n",
              "5         0.971064                1   \n",
              "4         0.970263                2   \n",
              "3         0.969716                3   \n",
              "1         0.966867                4   \n",
              "2         0.966301                5   \n",
              "0         0.966018                6   \n",
              "\n",
              "                                              params  mean_fit_time  \n",
              "5  {'depth': 15, 'grow_policy': 'Lossguide', 'ite...       5.915760  \n",
              "4  {'depth': 15, 'grow_policy': 'Lossguide', 'ite...       4.719004  \n",
              "3  {'depth': 15, 'grow_policy': 'Lossguide', 'ite...       3.158218  \n",
              "1  {'depth': 15, 'grow_policy': 'Depthwise', 'ite...      40.212172  \n",
              "2  {'depth': 15, 'grow_policy': 'Depthwise', 'ite...      52.083180  \n",
              "0  {'depth': 15, 'grow_policy': 'Depthwise', 'ite...      28.370136  "
            ],
            "text/html": [
              "\n",
              "  <div id=\"df-f399b026-b5ef-4104-9508-bf9039c1c85c\">\n",
              "    <div class=\"colab-df-container\">\n",
              "      <div>\n",
              "<style scoped>\n",
              "    .dataframe tbody tr th:only-of-type {\n",
              "        vertical-align: middle;\n",
              "    }\n",
              "\n",
              "    .dataframe tbody tr th {\n",
              "        vertical-align: top;\n",
              "    }\n",
              "\n",
              "    .dataframe thead th {\n",
              "        text-align: right;\n",
              "    }\n",
              "</style>\n",
              "<table border=\"1\" class=\"dataframe\">\n",
              "  <thead>\n",
              "    <tr style=\"text-align: right;\">\n",
              "      <th></th>\n",
              "      <th>mean_test_score</th>\n",
              "      <th>rank_test_score</th>\n",
              "      <th>params</th>\n",
              "      <th>mean_fit_time</th>\n",
              "    </tr>\n",
              "  </thead>\n",
              "  <tbody>\n",
              "    <tr>\n",
              "      <th>5</th>\n",
              "      <td>0.971064</td>\n",
              "      <td>1</td>\n",
              "      <td>{'depth': 15, 'grow_policy': 'Lossguide', 'ite...</td>\n",
              "      <td>5.915760</td>\n",
              "    </tr>\n",
              "    <tr>\n",
              "      <th>4</th>\n",
              "      <td>0.970263</td>\n",
              "      <td>2</td>\n",
              "      <td>{'depth': 15, 'grow_policy': 'Lossguide', 'ite...</td>\n",
              "      <td>4.719004</td>\n",
              "    </tr>\n",
              "    <tr>\n",
              "      <th>3</th>\n",
              "      <td>0.969716</td>\n",
              "      <td>3</td>\n",
              "      <td>{'depth': 15, 'grow_policy': 'Lossguide', 'ite...</td>\n",
              "      <td>3.158218</td>\n",
              "    </tr>\n",
              "    <tr>\n",
              "      <th>1</th>\n",
              "      <td>0.966867</td>\n",
              "      <td>4</td>\n",
              "      <td>{'depth': 15, 'grow_policy': 'Depthwise', 'ite...</td>\n",
              "      <td>40.212172</td>\n",
              "    </tr>\n",
              "    <tr>\n",
              "      <th>2</th>\n",
              "      <td>0.966301</td>\n",
              "      <td>5</td>\n",
              "      <td>{'depth': 15, 'grow_policy': 'Depthwise', 'ite...</td>\n",
              "      <td>52.083180</td>\n",
              "    </tr>\n",
              "    <tr>\n",
              "      <th>0</th>\n",
              "      <td>0.966018</td>\n",
              "      <td>6</td>\n",
              "      <td>{'depth': 15, 'grow_policy': 'Depthwise', 'ite...</td>\n",
              "      <td>28.370136</td>\n",
              "    </tr>\n",
              "  </tbody>\n",
              "</table>\n",
              "</div>\n",
              "      <button class=\"colab-df-convert\" onclick=\"convertToInteractive('df-f399b026-b5ef-4104-9508-bf9039c1c85c')\"\n",
              "              title=\"Convert this dataframe to an interactive table.\"\n",
              "              style=\"display:none;\">\n",
              "        \n",
              "  <svg xmlns=\"http://www.w3.org/2000/svg\" height=\"24px\"viewBox=\"0 0 24 24\"\n",
              "       width=\"24px\">\n",
              "    <path d=\"M0 0h24v24H0V0z\" fill=\"none\"/>\n",
              "    <path d=\"M18.56 5.44l.94 2.06.94-2.06 2.06-.94-2.06-.94-.94-2.06-.94 2.06-2.06.94zm-11 1L8.5 8.5l.94-2.06 2.06-.94-2.06-.94L8.5 2.5l-.94 2.06-2.06.94zm10 10l.94 2.06.94-2.06 2.06-.94-2.06-.94-.94-2.06-.94 2.06-2.06.94z\"/><path d=\"M17.41 7.96l-1.37-1.37c-.4-.4-.92-.59-1.43-.59-.52 0-1.04.2-1.43.59L10.3 9.45l-7.72 7.72c-.78.78-.78 2.05 0 2.83L4 21.41c.39.39.9.59 1.41.59.51 0 1.02-.2 1.41-.59l7.78-7.78 2.81-2.81c.8-.78.8-2.07 0-2.86zM5.41 20L4 18.59l7.72-7.72 1.47 1.35L5.41 20z\"/>\n",
              "  </svg>\n",
              "      </button>\n",
              "      \n",
              "  <style>\n",
              "    .colab-df-container {\n",
              "      display:flex;\n",
              "      flex-wrap:wrap;\n",
              "      gap: 12px;\n",
              "    }\n",
              "\n",
              "    .colab-df-convert {\n",
              "      background-color: #E8F0FE;\n",
              "      border: none;\n",
              "      border-radius: 50%;\n",
              "      cursor: pointer;\n",
              "      display: none;\n",
              "      fill: #1967D2;\n",
              "      height: 32px;\n",
              "      padding: 0 0 0 0;\n",
              "      width: 32px;\n",
              "    }\n",
              "\n",
              "    .colab-df-convert:hover {\n",
              "      background-color: #E2EBFA;\n",
              "      box-shadow: 0px 1px 2px rgba(60, 64, 67, 0.3), 0px 1px 3px 1px rgba(60, 64, 67, 0.15);\n",
              "      fill: #174EA6;\n",
              "    }\n",
              "\n",
              "    [theme=dark] .colab-df-convert {\n",
              "      background-color: #3B4455;\n",
              "      fill: #D2E3FC;\n",
              "    }\n",
              "\n",
              "    [theme=dark] .colab-df-convert:hover {\n",
              "      background-color: #434B5C;\n",
              "      box-shadow: 0px 1px 3px 1px rgba(0, 0, 0, 0.15);\n",
              "      filter: drop-shadow(0px 1px 2px rgba(0, 0, 0, 0.3));\n",
              "      fill: #FFFFFF;\n",
              "    }\n",
              "  </style>\n",
              "\n",
              "      <script>\n",
              "        const buttonEl =\n",
              "          document.querySelector('#df-f399b026-b5ef-4104-9508-bf9039c1c85c button.colab-df-convert');\n",
              "        buttonEl.style.display =\n",
              "          google.colab.kernel.accessAllowed ? 'block' : 'none';\n",
              "\n",
              "        async function convertToInteractive(key) {\n",
              "          const element = document.querySelector('#df-f399b026-b5ef-4104-9508-bf9039c1c85c');\n",
              "          const dataTable =\n",
              "            await google.colab.kernel.invokeFunction('convertToInteractive',\n",
              "                                                     [key], {});\n",
              "          if (!dataTable) return;\n",
              "\n",
              "          const docLinkHtml = 'Like what you see? Visit the ' +\n",
              "            '<a target=\"_blank\" href=https://colab.research.google.com/notebooks/data_table.ipynb>data table notebook</a>'\n",
              "            + ' to learn more about interactive tables.';\n",
              "          element.innerHTML = '';\n",
              "          dataTable['output_type'] = 'display_data';\n",
              "          await google.colab.output.renderOutput(dataTable, element);\n",
              "          const docLink = document.createElement('div');\n",
              "          docLink.innerHTML = docLinkHtml;\n",
              "          element.appendChild(docLink);\n",
              "        }\n",
              "      </script>\n",
              "    </div>\n",
              "  </div>\n",
              "  "
            ]
          },
          "metadata": {},
          "execution_count": 207
        }
      ]
    },
    {
      "cell_type": "code",
      "source": [
        "print_scores(cbgs.predict(x_val_cat), y_val)"
      ],
      "metadata": {
        "id": "zAfHk1cml6rt",
        "colab": {
          "base_uri": "https://localhost:8080/"
        },
        "outputId": "17f28913-cb45-4e53-8995-d913200f4abb"
      },
      "execution_count": null,
      "outputs": [
        {
          "output_type": "stream",
          "name": "stdout",
          "text": [
            "r2 score: 0.9678, mean squared error: 69325702.6573, relative error: 0.0548\n"
          ]
        }
      ]
    },
    {
      "cell_type": "markdown",
      "source": [
        "La ricerca degli iperparametri ha permesso di trovare un modello con un punteggio miglior, senza aumentare di molto il numero di iterazioni, ovvero il numero di alberi addestrati."
      ],
      "metadata": {
        "id": "rO17tcP9xEP_"
      }
    },
    {
      "cell_type": "code",
      "source": [
        "pd.Series(cbgs.best_estimator_.get_feature_importance(), index=x_val_cat.columns.tolist()).sort_values(ascending=False)"
      ],
      "metadata": {
        "id": "Zo51RCKHmP5-",
        "colab": {
          "base_uri": "https://localhost:8080/"
        },
        "outputId": "0197b2c8-86a5-4d6a-e27c-1d59301b12d9"
      },
      "execution_count": null,
      "outputs": [
        {
          "output_type": "execute_result",
          "data": {
            "text/plain": [
              "power         70.843083\n",
              "age           14.250047\n",
              "brand          7.488565\n",
              "kms_driven     7.039024\n",
              "owner          0.379281\n",
              "dtype: float64"
            ]
          },
          "metadata": {},
          "execution_count": 209
        }
      ]
    },
    {
      "cell_type": "markdown",
      "source": [
        "Si può notare come l'importanza assegnata alle colonne sia in linea con quella assegnata dal modello random forest.  \n",
        "(in ordine: *power* > *age* > *kms_driven* > *brand* )"
      ],
      "metadata": {
        "id": "5dz_-GeusoUd"
      }
    },
    {
      "cell_type": "markdown",
      "source": [
        "# conclusioni"
      ],
      "metadata": {
        "id": "inUQqZP_NMOU"
      }
    },
    {
      "cell_type": "markdown",
      "source": [
        "## confronto modelli migliori"
      ],
      "metadata": {
        "id": "19KoMiug5sda"
      }
    },
    {
      "cell_type": "code",
      "source": [
        "lin_score = r2_score(lin_mdl.predict(x_val), y_val)\n",
        "pol_score = r2_score(best_mdl.predict(x_val), y_val)\n",
        "for_score = r2_score(rfgs.predict(x_val), y_val)\n",
        "cbo_score = r2_score(cbgs.predict(x_val_cat), y_val)\n",
        "scores = [lin_score, pol_score, for_score, cbo_score]\n",
        "models = [\"linear regressor\", \"standardized ridge regressor\", \"random forest regressor\", \"catboost regressor\"]\n",
        "\n",
        "pd.Series(scores, index=models).sort_values(ascending=False)"
      ],
      "metadata": {
        "id": "tndQPcnapu5b",
        "colab": {
          "base_uri": "https://localhost:8080/"
        },
        "outputId": "d359e402-1072-4fb9-fae9-bdccee30a454"
      },
      "execution_count": null,
      "outputs": [
        {
          "output_type": "execute_result",
          "data": {
            "text/plain": [
              "random forest regressor         0.969780\n",
              "catboost regressor              0.967433\n",
              "standardized ridge regressor    0.931419\n",
              "linear regressor                0.877093\n",
              "dtype: float64"
            ]
          },
          "metadata": {},
          "execution_count": 210
        }
      ]
    },
    {
      "cell_type": "markdown",
      "source": [
        "Come si può vedere sopra RandomForest ha ottenuto il punteggio migliore tra i modelli creati.  \n",
        "Il modello CatBoost ha però ottenuto un punteggio molto simile ma usando quattro volte gli alberi addestrati dal modello di boosting.\n",
        "\n",
        "Ovviamente i modelli *ensemble learning* hanno \"battuto\" i modelli polinomiale e lineare ma il modello Ridge ha ottenuto comunque un buon punteggio; questo modello ha il pregio di richiede meno risorse, soprattutto durante l'addestramento, rispetto ai modelli ad albero. "
      ],
      "metadata": {
        "id": "si0Jvf5PysCa"
      }
    },
    {
      "cell_type": "markdown",
      "source": [
        "## possibili approfondimenti\n",
        "\n",
        "Per migliorare la previsione sui dati si potrebbe:\n",
        "- provare il comportamento di modelli basati su funzioni kernel\n",
        "- generare nuovi dati per migliorare lo sbilanciamento delle classe in *brand* (la casa produttrice)\n",
        "- processare il campo testuale \"*bike_name*\", scartato in fase di preprocessamento, e verificare se sia possibile ottenere informazioni aggiuntive"
      ],
      "metadata": {
        "id": "PSH0SOp4iiMt"
      }
    }
  ]
}